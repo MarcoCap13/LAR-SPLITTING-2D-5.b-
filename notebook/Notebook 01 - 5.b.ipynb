{
 "cells": [
  {
   "cell_type": "markdown",
   "id": "4f03816f",
   "metadata": {},
   "source": [
    "# ANALISI E REVISIONE DEL PROGETTO LARSPLITTING 2D"
   ]
  },
  {
   "cell_type": "markdown",
   "id": "b9488613",
   "metadata": {},
   "source": [
    "Variabili utili per testare il funzionamento\n"
   ]
  },
  {
   "cell_type": "code",
   "execution_count": 19,
   "id": "d88d8e60",
   "metadata": {
    "scrolled": true
   },
   "outputs": [
    {
     "name": "stderr",
     "output_type": "stream",
     "text": [
      "┌ Info: Precompiling LinearAlgebraicRepresentation [95167b0c-186a-594b-a231-52369c6de044]\n",
      "└ @ Base loading.jl:1423\n",
      "\u001b[33m\u001b[1m┌ \u001b[22m\u001b[39m\u001b[33m\u001b[1mWarning: \u001b[22m\u001b[39mModule LinearAlgebraicRepresentation with build ID 2168281260539899 is missing from the cache.\n",
      "\u001b[33m\u001b[1m│ \u001b[22m\u001b[39mThis may mean LinearAlgebraicRepresentation [95167b0c-186a-594b-a231-52369c6de044] does not support precompilation but is imported by a module that does.\n",
      "\u001b[33m\u001b[1m└ \u001b[22m\u001b[39m\u001b[90m@ Base loading.jl:1107\u001b[39m\n",
      "\u001b[91m\u001b[1mERROR: \u001b[22m\u001b[39mLoadError: UndefVarError: iszero! not defined\n",
      "Stacktrace:\n",
      "  [1] \u001b[0m\u001b[1mgetproperty\u001b[22m\u001b[0m\u001b[1m(\u001b[22m\u001b[90mx\u001b[39m::\u001b[0mModule, \u001b[90mf\u001b[39m::\u001b[0mSymbol\u001b[0m\u001b[1m)\u001b[22m\n",
      "\u001b[90m    @ \u001b[39m\u001b[90mBase\u001b[39m \u001b[90m./\u001b[39m\u001b[90m\u001b[4mBase.jl:35\u001b[24m\u001b[39m\n",
      "  [2] top-level scope\n",
      "\u001b[90m    @ \u001b[39m\u001b[90m~/.julia/packages/MathOptInterface/YDdD3/src/Utilities/\u001b[39m\u001b[90m\u001b[4mmutable_arithmetics.jl:53\u001b[24m\u001b[39m\n",
      "  [3] \u001b[0m\u001b[1minclude\u001b[22m\u001b[0m\u001b[1m(\u001b[22m\u001b[90mmod\u001b[39m::\u001b[0mModule, \u001b[90m_path\u001b[39m::\u001b[0mString\u001b[0m\u001b[1m)\u001b[22m\n",
      "\u001b[90m    @ \u001b[39m\u001b[90mBase\u001b[39m \u001b[90m./\u001b[39m\u001b[90m\u001b[4mBase.jl:418\u001b[24m\u001b[39m\n",
      "  [4] \u001b[0m\u001b[1minclude\u001b[22m\u001b[0m\u001b[1m(\u001b[22m\u001b[90mx\u001b[39m::\u001b[0mString\u001b[0m\u001b[1m)\u001b[22m\n",
      "\u001b[90m    @ \u001b[39m\u001b[35mMathOptInterface.Utilities\u001b[39m \u001b[90m~/.julia/packages/MathOptInterface/YDdD3/src/Utilities/\u001b[39m\u001b[90m\u001b[4mUtilities.jl:1\u001b[24m\u001b[39m\n",
      "  [5] top-level scope\n",
      "\u001b[90m    @ \u001b[39m\u001b[90m~/.julia/packages/MathOptInterface/YDdD3/src/Utilities/\u001b[39m\u001b[90m\u001b[4mUtilities.jl:53\u001b[24m\u001b[39m\n",
      "  [6] \u001b[0m\u001b[1minclude\u001b[22m\u001b[0m\u001b[1m(\u001b[22m\u001b[90mmod\u001b[39m::\u001b[0mModule, \u001b[90m_path\u001b[39m::\u001b[0mString\u001b[0m\u001b[1m)\u001b[22m\n",
      "\u001b[90m    @ \u001b[39m\u001b[90mBase\u001b[39m \u001b[90m./\u001b[39m\u001b[90m\u001b[4mBase.jl:418\u001b[24m\u001b[39m\n",
      "  [7] \u001b[0m\u001b[1minclude\u001b[22m\u001b[0m\u001b[1m(\u001b[22m\u001b[90mx\u001b[39m::\u001b[0mString\u001b[0m\u001b[1m)\u001b[22m\n",
      "\u001b[90m    @ \u001b[39m\u001b[35mMathOptInterface\u001b[39m \u001b[90m~/.julia/packages/MathOptInterface/YDdD3/src/\u001b[39m\u001b[90m\u001b[4mMathOptInterface.jl:1\u001b[24m\u001b[39m\n",
      "  [8] top-level scope\n",
      "\u001b[90m    @ \u001b[39m\u001b[90m~/.julia/packages/MathOptInterface/YDdD3/src/\u001b[39m\u001b[90m\u001b[4mMathOptInterface.jl:148\u001b[24m\u001b[39m\n",
      "  [9] \u001b[0m\u001b[1minclude\u001b[22m\n",
      "\u001b[90m    @ \u001b[39m\u001b[90m./\u001b[39m\u001b[90m\u001b[4mBase.jl:418\u001b[24m\u001b[39m\u001b[90m [inlined]\u001b[39m\n",
      " [10] \u001b[0m\u001b[1minclude_package_for_output\u001b[22m\u001b[0m\u001b[1m(\u001b[22m\u001b[90mpkg\u001b[39m::\u001b[0mBase.PkgId, \u001b[90minput\u001b[39m::\u001b[0mString, \u001b[90mdepot_path\u001b[39m::\u001b[0mVector\u001b[90m{String}\u001b[39m, \u001b[90mdl_load_path\u001b[39m::\u001b[0mVector\u001b[90m{String}\u001b[39m, \u001b[90mload_path\u001b[39m::\u001b[0mVector\u001b[90m{String}\u001b[39m, \u001b[90mconcrete_deps\u001b[39m::\u001b[0mVector\u001b[90m{Pair{Base.PkgId, UInt64}}\u001b[39m, \u001b[90msource\u001b[39m::\u001b[0mString\u001b[0m\u001b[1m)\u001b[22m\n",
      "\u001b[90m    @ \u001b[39m\u001b[90mBase\u001b[39m \u001b[90m./\u001b[39m\u001b[90m\u001b[4mloading.jl:1318\u001b[24m\u001b[39m\n",
      " [11] top-level scope\n",
      "\u001b[90m    @ \u001b[39m\u001b[90m\u001b[4mnone:1\u001b[24m\u001b[39m\n",
      " [12] \u001b[0m\u001b[1meval\u001b[22m\n",
      "\u001b[90m    @ \u001b[39m\u001b[90m./\u001b[39m\u001b[90m\u001b[4mboot.jl:373\u001b[24m\u001b[39m\u001b[90m [inlined]\u001b[39m\n",
      " [13] \u001b[0m\u001b[1meval\u001b[22m\u001b[0m\u001b[1m(\u001b[22m\u001b[90mx\u001b[39m::\u001b[0mExpr\u001b[0m\u001b[1m)\u001b[22m\n",
      "\u001b[90m    @ \u001b[39m\u001b[90mBase.MainInclude\u001b[39m \u001b[90m./\u001b[39m\u001b[90m\u001b[4mclient.jl:453\u001b[24m\u001b[39m\n",
      " [14] top-level scope\n",
      "\u001b[90m    @ \u001b[39m\u001b[90m\u001b[4mnone:1\u001b[24m\u001b[39m\n",
      "in expression starting at /Users/marco/.julia/packages/MathOptInterface/YDdD3/src/Utilities/mutable_arithmetics.jl:53\n",
      "in expression starting at /Users/marco/.julia/packages/MathOptInterface/YDdD3/src/Utilities/Utilities.jl:1\n",
      "in expression starting at /Users/marco/.julia/packages/MathOptInterface/YDdD3/src/MathOptInterface.jl:1\n",
      "\u001b[91m\u001b[1mERROR: \u001b[22m\u001b[39mLoadError: Failed to precompile MathOptInterface [b8f27783-ece8-5eb3-8dc8-9495eed66fee] to /Users/marco/.julia/compiled/v1.7/MathOptInterface/jl_r0pN8E.\n",
      "Stacktrace:\n",
      "  [1] \u001b[0m\u001b[1merror\u001b[22m\u001b[0m\u001b[1m(\u001b[22m\u001b[90ms\u001b[39m::\u001b[0mString\u001b[0m\u001b[1m)\u001b[22m\n",
      "\u001b[90m    @ \u001b[39m\u001b[90mBase\u001b[39m \u001b[90m./\u001b[39m\u001b[90m\u001b[4merror.jl:33\u001b[24m\u001b[39m\n",
      "  [2] \u001b[0m\u001b[1mcompilecache\u001b[22m\u001b[0m\u001b[1m(\u001b[22m\u001b[90mpkg\u001b[39m::\u001b[0mBase.PkgId, \u001b[90mpath\u001b[39m::\u001b[0mString, \u001b[90minternal_stderr\u001b[39m::\u001b[0mIO, \u001b[90minternal_stdout\u001b[39m::\u001b[0mIO, \u001b[90mignore_loaded_modules\u001b[39m::\u001b[0mBool\u001b[0m\u001b[1m)\u001b[22m\n",
      "\u001b[90m    @ \u001b[39m\u001b[90mBase\u001b[39m \u001b[90m./\u001b[39m\u001b[90m\u001b[4mloading.jl:1466\u001b[24m\u001b[39m\n",
      "  [3] \u001b[0m\u001b[1mcompilecache\u001b[22m\u001b[0m\u001b[1m(\u001b[22m\u001b[90mpkg\u001b[39m::\u001b[0mBase.PkgId, \u001b[90mpath\u001b[39m::\u001b[0mString\u001b[0m\u001b[1m)\u001b[22m\n",
      "\u001b[90m    @ \u001b[39m\u001b[90mBase\u001b[39m \u001b[90m./\u001b[39m\u001b[90m\u001b[4mloading.jl:1410\u001b[24m\u001b[39m\n",
      "  [4] \u001b[0m\u001b[1m_require\u001b[22m\u001b[0m\u001b[1m(\u001b[22m\u001b[90mpkg\u001b[39m::\u001b[0mBase.PkgId\u001b[0m\u001b[1m)\u001b[22m\n",
      "\u001b[90m    @ \u001b[39m\u001b[90mBase\u001b[39m \u001b[90m./\u001b[39m\u001b[90m\u001b[4mloading.jl:1120\u001b[24m\u001b[39m\n",
      "  [5] \u001b[0m\u001b[1mrequire\u001b[22m\u001b[0m\u001b[1m(\u001b[22m\u001b[90muuidkey\u001b[39m::\u001b[0mBase.PkgId\u001b[0m\u001b[1m)\u001b[22m\n",
      "\u001b[90m    @ \u001b[39m\u001b[90mBase\u001b[39m \u001b[90m./\u001b[39m\u001b[90m\u001b[4mloading.jl:1013\u001b[24m\u001b[39m\n",
      "  [6] \u001b[0m\u001b[1mrequire\u001b[22m\u001b[0m\u001b[1m(\u001b[22m\u001b[90minto\u001b[39m::\u001b[0mModule, \u001b[90mmod\u001b[39m::\u001b[0mSymbol\u001b[0m\u001b[1m)\u001b[22m\n",
      "\u001b[90m    @ \u001b[39m\u001b[90mBase\u001b[39m \u001b[90m./\u001b[39m\u001b[90m\u001b[4mloading.jl:997\u001b[24m\u001b[39m\n",
      "  [7] \u001b[0m\u001b[1minclude\u001b[22m\n",
      "\u001b[90m    @ \u001b[39m\u001b[90m./\u001b[39m\u001b[90m\u001b[4mBase.jl:418\u001b[24m\u001b[39m\u001b[90m [inlined]\u001b[39m\n",
      "  [8] \u001b[0m\u001b[1minclude_package_for_output\u001b[22m\u001b[0m\u001b[1m(\u001b[22m\u001b[90mpkg\u001b[39m::\u001b[0mBase.PkgId, \u001b[90minput\u001b[39m::\u001b[0mString, \u001b[90mdepot_path\u001b[39m::\u001b[0mVector\u001b[90m{String}\u001b[39m, \u001b[90mdl_load_path\u001b[39m::\u001b[0mVector\u001b[90m{String}\u001b[39m, \u001b[90mload_path\u001b[39m::\u001b[0mVector\u001b[90m{String}\u001b[39m, \u001b[90mconcrete_deps\u001b[39m::\u001b[0mVector\u001b[90m{Pair{Base.PkgId, UInt64}}\u001b[39m, \u001b[90msource\u001b[39m::\u001b[0mString\u001b[0m\u001b[1m)\u001b[22m\n",
      "\u001b[90m    @ \u001b[39m\u001b[90mBase\u001b[39m \u001b[90m./\u001b[39m\u001b[90m\u001b[4mloading.jl:1318\u001b[24m\u001b[39m\n",
      "  [9] top-level scope\n",
      "\u001b[90m    @ \u001b[39m\u001b[90m\u001b[4mnone:1\u001b[24m\u001b[39m\n",
      " [10] \u001b[0m\u001b[1meval\u001b[22m\n",
      "\u001b[90m    @ \u001b[39m\u001b[90m./\u001b[39m\u001b[90m\u001b[4mboot.jl:373\u001b[24m\u001b[39m\u001b[90m [inlined]\u001b[39m\n",
      " [11] \u001b[0m\u001b[1meval\u001b[22m\u001b[0m\u001b[1m(\u001b[22m\u001b[90mx\u001b[39m::\u001b[0mExpr\u001b[0m\u001b[1m)\u001b[22m\n",
      "\u001b[90m    @ \u001b[39m\u001b[90mBase.MainInclude\u001b[39m \u001b[90m./\u001b[39m\u001b[90m\u001b[4mclient.jl:453\u001b[24m\u001b[39m\n",
      " [12] top-level scope\n",
      "\u001b[90m    @ \u001b[39m\u001b[90m\u001b[4mnone:1\u001b[24m\u001b[39m\n",
      "in expression starting at /Users/marco/.julia/packages/JuMP/MsUSY/src/JuMP.jl:11\n",
      "\u001b[91m\u001b[1mERROR: \u001b[22m\u001b[39mLoadError: Failed to precompile JuMP [4076af6c-e467-56ae-b986-b466b2749572] to /Users/marco/.julia/compiled/v1.7/JuMP/jl_cd85UY.\n",
      "Stacktrace:\n",
      "  [1] \u001b[0m\u001b[1merror\u001b[22m\u001b[0m\u001b[1m(\u001b[22m\u001b[90ms\u001b[39m::\u001b[0mString\u001b[0m\u001b[1m)\u001b[22m\n",
      "\u001b[90m    @ \u001b[39m\u001b[90mBase\u001b[39m \u001b[90m./\u001b[39m\u001b[90m\u001b[4merror.jl:33\u001b[24m\u001b[39m\n",
      "  [2] \u001b[0m\u001b[1mcompilecache\u001b[22m\u001b[0m\u001b[1m(\u001b[22m\u001b[90mpkg\u001b[39m::\u001b[0mBase.PkgId, \u001b[90mpath\u001b[39m::\u001b[0mString, \u001b[90minternal_stderr\u001b[39m::\u001b[0mIO, \u001b[90minternal_stdout\u001b[39m::\u001b[0mIO, \u001b[90mignore_loaded_modules\u001b[39m::\u001b[0mBool\u001b[0m\u001b[1m)\u001b[22m\n",
      "\u001b[90m    @ \u001b[39m\u001b[90mBase\u001b[39m \u001b[90m./\u001b[39m\u001b[90m\u001b[4mloading.jl:1466\u001b[24m\u001b[39m\n",
      "  [3] \u001b[0m\u001b[1mcompilecache\u001b[22m\u001b[0m\u001b[1m(\u001b[22m\u001b[90mpkg\u001b[39m::\u001b[0mBase.PkgId, \u001b[90mpath\u001b[39m::\u001b[0mString\u001b[0m\u001b[1m)\u001b[22m\n",
      "\u001b[90m    @ \u001b[39m\u001b[90mBase\u001b[39m \u001b[90m./\u001b[39m\u001b[90m\u001b[4mloading.jl:1410\u001b[24m\u001b[39m\n",
      "  [4] \u001b[0m\u001b[1m_require\u001b[22m\u001b[0m\u001b[1m(\u001b[22m\u001b[90mpkg\u001b[39m::\u001b[0mBase.PkgId\u001b[0m\u001b[1m)\u001b[22m\n",
      "\u001b[90m    @ \u001b[39m\u001b[90mBase\u001b[39m \u001b[90m./\u001b[39m\u001b[90m\u001b[4mloading.jl:1120\u001b[24m\u001b[39m\n",
      "  [5] \u001b[0m\u001b[1mrequire\u001b[22m\u001b[0m\u001b[1m(\u001b[22m\u001b[90muuidkey\u001b[39m::\u001b[0mBase.PkgId\u001b[0m\u001b[1m)\u001b[22m\n",
      "\u001b[90m    @ \u001b[39m\u001b[90mBase\u001b[39m \u001b[90m./\u001b[39m\u001b[90m\u001b[4mloading.jl:1013\u001b[24m\u001b[39m\n",
      "  [6] \u001b[0m\u001b[1mrequire\u001b[22m\u001b[0m\u001b[1m(\u001b[22m\u001b[90minto\u001b[39m::\u001b[0mModule, \u001b[90mmod\u001b[39m::\u001b[0mSymbol\u001b[0m\u001b[1m)\u001b[22m\n",
      "\u001b[90m    @ \u001b[39m\u001b[90mBase\u001b[39m \u001b[90m./\u001b[39m\u001b[90m\u001b[4mloading.jl:997\u001b[24m\u001b[39m\n",
      "  [7] \u001b[0m\u001b[1minclude\u001b[22m\n",
      "\u001b[90m    @ \u001b[39m\u001b[90m./\u001b[39m\u001b[90m\u001b[4mBase.jl:418\u001b[24m\u001b[39m\u001b[90m [inlined]\u001b[39m\n",
      "  [8] \u001b[0m\u001b[1minclude_package_for_output\u001b[22m\u001b[0m\u001b[1m(\u001b[22m\u001b[90mpkg\u001b[39m::\u001b[0mBase.PkgId, \u001b[90minput\u001b[39m::\u001b[0mString, \u001b[90mdepot_path\u001b[39m::\u001b[0mVector\u001b[90m{String}\u001b[39m, \u001b[90mdl_load_path\u001b[39m::\u001b[0mVector\u001b[90m{String}\u001b[39m, \u001b[90mload_path\u001b[39m::\u001b[0mVector\u001b[90m{String}\u001b[39m, \u001b[90mconcrete_deps\u001b[39m::\u001b[0mVector\u001b[90m{Pair{Base.PkgId, UInt64}}\u001b[39m, \u001b[90msource\u001b[39m::\u001b[0mString\u001b[0m\u001b[1m)\u001b[22m\n",
      "\u001b[90m    @ \u001b[39m\u001b[90mBase\u001b[39m \u001b[90m./\u001b[39m\u001b[90m\u001b[4mloading.jl:1318\u001b[24m\u001b[39m\n",
      "  [9] top-level scope\n",
      "\u001b[90m    @ \u001b[39m\u001b[90m\u001b[4mnone:1\u001b[24m\u001b[39m\n",
      " [10] \u001b[0m\u001b[1meval\u001b[22m\n",
      "\u001b[90m    @ \u001b[39m\u001b[90m./\u001b[39m\u001b[90m\u001b[4mboot.jl:373\u001b[24m\u001b[39m\u001b[90m [inlined]\u001b[39m\n",
      " [11] \u001b[0m\u001b[1meval\u001b[22m\u001b[0m\u001b[1m(\u001b[22m\u001b[90mx\u001b[39m::\u001b[0mExpr\u001b[0m\u001b[1m)\u001b[22m\n",
      "\u001b[90m    @ \u001b[39m\u001b[90mBase.MainInclude\u001b[39m \u001b[90m./\u001b[39m\u001b[90m\u001b[4mclient.jl:453\u001b[24m\u001b[39m\n",
      " [12] top-level scope\n",
      "\u001b[90m    @ \u001b[39m\u001b[90m\u001b[4mnone:1\u001b[24m\u001b[39m\n",
      "in expression starting at /Users/marco/.julia/packages/Polyhedra/ALJ0g/src/Polyhedra.jl:1\n",
      "\u001b[91m\u001b[1mERROR: \u001b[22m\u001b[39mLoadError: Failed to precompile Polyhedra [67491407-f73d-577b-9b50-8179a7c68029] to /Users/marco/.julia/compiled/v1.7/Polyhedra/jl_4epA62.\n",
      "Stacktrace:\n",
      "  [1] \u001b[0m\u001b[1merror\u001b[22m\u001b[0m\u001b[1m(\u001b[22m\u001b[90ms\u001b[39m::\u001b[0mString\u001b[0m\u001b[1m)\u001b[22m\n",
      "\u001b[90m    @ \u001b[39m\u001b[90mBase\u001b[39m \u001b[90m./\u001b[39m\u001b[90m\u001b[4merror.jl:33\u001b[24m\u001b[39m\n",
      "  [2] \u001b[0m\u001b[1mcompilecache\u001b[22m\u001b[0m\u001b[1m(\u001b[22m\u001b[90mpkg\u001b[39m::\u001b[0mBase.PkgId, \u001b[90mpath\u001b[39m::\u001b[0mString, \u001b[90minternal_stderr\u001b[39m::\u001b[0mIO, \u001b[90minternal_stdout\u001b[39m::\u001b[0mIO, \u001b[90mignore_loaded_modules\u001b[39m::\u001b[0mBool\u001b[0m\u001b[1m)\u001b[22m\n",
      "\u001b[90m    @ \u001b[39m\u001b[90mBase\u001b[39m \u001b[90m./\u001b[39m\u001b[90m\u001b[4mloading.jl:1466\u001b[24m\u001b[39m\n",
      "  [3] \u001b[0m\u001b[1mcompilecache\u001b[22m\u001b[0m\u001b[1m(\u001b[22m\u001b[90mpkg\u001b[39m::\u001b[0mBase.PkgId, \u001b[90mpath\u001b[39m::\u001b[0mString\u001b[0m\u001b[1m)\u001b[22m\n",
      "\u001b[90m    @ \u001b[39m\u001b[90mBase\u001b[39m \u001b[90m./\u001b[39m\u001b[90m\u001b[4mloading.jl:1410\u001b[24m\u001b[39m\n",
      "  [4] \u001b[0m\u001b[1m_require\u001b[22m\u001b[0m\u001b[1m(\u001b[22m\u001b[90mpkg\u001b[39m::\u001b[0mBase.PkgId\u001b[0m\u001b[1m)\u001b[22m\n",
      "\u001b[90m    @ \u001b[39m\u001b[90mBase\u001b[39m \u001b[90m./\u001b[39m\u001b[90m\u001b[4mloading.jl:1120\u001b[24m\u001b[39m\n",
      "  [5] \u001b[0m\u001b[1mrequire\u001b[22m\u001b[0m\u001b[1m(\u001b[22m\u001b[90muuidkey\u001b[39m::\u001b[0mBase.PkgId\u001b[0m\u001b[1m)\u001b[22m\n",
      "\u001b[90m    @ \u001b[39m\u001b[90mBase\u001b[39m \u001b[90m./\u001b[39m\u001b[90m\u001b[4mloading.jl:1013\u001b[24m\u001b[39m\n",
      "  [6] \u001b[0m\u001b[1mrequire\u001b[22m\u001b[0m\u001b[1m(\u001b[22m\u001b[90minto\u001b[39m::\u001b[0mModule, \u001b[90mmod\u001b[39m::\u001b[0mSymbol\u001b[0m\u001b[1m)\u001b[22m\n",
      "\u001b[90m    @ \u001b[39m\u001b[90mBase\u001b[39m \u001b[90m./\u001b[39m\u001b[90m\u001b[4mloading.jl:997\u001b[24m\u001b[39m\n",
      "  [7] \u001b[0m\u001b[1minclude\u001b[22m\u001b[0m\u001b[1m(\u001b[22m\u001b[90mmod\u001b[39m::\u001b[0mModule, \u001b[90m_path\u001b[39m::\u001b[0mString\u001b[0m\u001b[1m)\u001b[22m\n",
      "\u001b[90m    @ \u001b[39m\u001b[90mBase\u001b[39m \u001b[90m./\u001b[39m\u001b[90m\u001b[4mBase.jl:418\u001b[24m\u001b[39m\n",
      "  [8] \u001b[0m\u001b[1minclude\u001b[22m\u001b[0m\u001b[1m(\u001b[22m\u001b[90mx\u001b[39m::\u001b[0mString\u001b[0m\u001b[1m)\u001b[22m\n",
      "\u001b[90m    @ \u001b[39m\u001b[35mQHull\u001b[39m \u001b[90m~/.julia/packages/QHull/Nu3bw/src/\u001b[39m\u001b[90m\u001b[4mQHull.jl:8\u001b[24m\u001b[39m\n",
      "  [9] top-level scope\n",
      "\u001b[90m    @ \u001b[39m\u001b[90m~/.julia/packages/QHull/Nu3bw/src/\u001b[39m\u001b[90m\u001b[4mQHull.jl:48\u001b[24m\u001b[39m\n",
      " [10] \u001b[0m\u001b[1minclude\u001b[22m\n",
      "\u001b[90m    @ \u001b[39m\u001b[90m./\u001b[39m\u001b[90m\u001b[4mBase.jl:418\u001b[24m\u001b[39m\u001b[90m [inlined]\u001b[39m\n",
      " [11] \u001b[0m\u001b[1minclude_package_for_output\u001b[22m\u001b[0m\u001b[1m(\u001b[22m\u001b[90mpkg\u001b[39m::\u001b[0mBase.PkgId, \u001b[90minput\u001b[39m::\u001b[0mString, \u001b[90mdepot_path\u001b[39m::\u001b[0mVector\u001b[90m{String}\u001b[39m, \u001b[90mdl_load_path\u001b[39m::\u001b[0mVector\u001b[90m{String}\u001b[39m, \u001b[90mload_path\u001b[39m::\u001b[0mVector\u001b[90m{String}\u001b[39m, \u001b[90mconcrete_deps\u001b[39m::\u001b[0mVector\u001b[90m{Pair{Base.PkgId, UInt64}}\u001b[39m, \u001b[90msource\u001b[39m::\u001b[0mString\u001b[0m\u001b[1m)\u001b[22m\n",
      "\u001b[90m    @ \u001b[39m\u001b[90mBase\u001b[39m \u001b[90m./\u001b[39m\u001b[90m\u001b[4mloading.jl:1318\u001b[24m\u001b[39m\n",
      " [12] top-level scope\n",
      "\u001b[90m    @ \u001b[39m\u001b[90m\u001b[4mnone:1\u001b[24m\u001b[39m\n",
      " [13] \u001b[0m\u001b[1meval\u001b[22m\n",
      "\u001b[90m    @ \u001b[39m\u001b[90m./\u001b[39m\u001b[90m\u001b[4mboot.jl:373\u001b[24m\u001b[39m\u001b[90m [inlined]\u001b[39m\n",
      " [14] \u001b[0m\u001b[1meval\u001b[22m\u001b[0m\u001b[1m(\u001b[22m\u001b[90mx\u001b[39m::\u001b[0mExpr\u001b[0m\u001b[1m)\u001b[22m\n",
      "\u001b[90m    @ \u001b[39m\u001b[90mBase.MainInclude\u001b[39m \u001b[90m./\u001b[39m\u001b[90m\u001b[4mclient.jl:453\u001b[24m\u001b[39m\n",
      " [15] top-level scope\n",
      "\u001b[90m    @ \u001b[39m\u001b[90m\u001b[4mnone:1\u001b[24m\u001b[39m\n",
      "in expression starting at /Users/marco/.julia/packages/QHull/Nu3bw/src/polyhedron.jl:2\n",
      "in expression starting at /Users/marco/.julia/packages/QHull/Nu3bw/src/QHull.jl:8\n",
      "\u001b[91m\u001b[1mERROR: \u001b[22m\u001b[39mLoadError: Failed to precompile QHull [a8468747-bd6f-53ef-9e5c-744dbc5c59e7] to /Users/marco/.julia/compiled/v1.7/QHull/jl_USlajG.\n",
      "Stacktrace:\n",
      "  [1] \u001b[0m\u001b[1merror\u001b[22m\u001b[0m\u001b[1m(\u001b[22m\u001b[90ms\u001b[39m::\u001b[0mString\u001b[0m\u001b[1m)\u001b[22m\n",
      "\u001b[90m    @ \u001b[39m\u001b[90mBase\u001b[39m \u001b[90m./\u001b[39m\u001b[90m\u001b[4merror.jl:33\u001b[24m\u001b[39m\n",
      "  [2] \u001b[0m\u001b[1mcompilecache\u001b[22m\u001b[0m\u001b[1m(\u001b[22m\u001b[90mpkg\u001b[39m::\u001b[0mBase.PkgId, \u001b[90mpath\u001b[39m::\u001b[0mString, \u001b[90minternal_stderr\u001b[39m::\u001b[0mIO, \u001b[90minternal_stdout\u001b[39m::\u001b[0mIO, \u001b[90mignore_loaded_modules\u001b[39m::\u001b[0mBool\u001b[0m\u001b[1m)\u001b[22m\n",
      "\u001b[90m    @ \u001b[39m\u001b[90mBase\u001b[39m \u001b[90m./\u001b[39m\u001b[90m\u001b[4mloading.jl:1466\u001b[24m\u001b[39m\n",
      "  [3] \u001b[0m\u001b[1mcompilecache\u001b[22m\u001b[0m\u001b[1m(\u001b[22m\u001b[90mpkg\u001b[39m::\u001b[0mBase.PkgId, \u001b[90mpath\u001b[39m::\u001b[0mString\u001b[0m\u001b[1m)\u001b[22m\n",
      "\u001b[90m    @ \u001b[39m\u001b[90mBase\u001b[39m \u001b[90m./\u001b[39m\u001b[90m\u001b[4mloading.jl:1410\u001b[24m\u001b[39m\n",
      "  [4] \u001b[0m\u001b[1m_require\u001b[22m\u001b[0m\u001b[1m(\u001b[22m\u001b[90mpkg\u001b[39m::\u001b[0mBase.PkgId\u001b[0m\u001b[1m)\u001b[22m\n",
      "\u001b[90m    @ \u001b[39m\u001b[90mBase\u001b[39m \u001b[90m./\u001b[39m\u001b[90m\u001b[4mloading.jl:1120\u001b[24m\u001b[39m\n",
      "  [5] \u001b[0m\u001b[1mrequire\u001b[22m\u001b[0m\u001b[1m(\u001b[22m\u001b[90muuidkey\u001b[39m::\u001b[0mBase.PkgId\u001b[0m\u001b[1m)\u001b[22m\n",
      "\u001b[90m    @ \u001b[39m\u001b[90mBase\u001b[39m \u001b[90m./\u001b[39m\u001b[90m\u001b[4mloading.jl:1013\u001b[24m\u001b[39m\n",
      "  [6] \u001b[0m\u001b[1mrequire\u001b[22m\u001b[0m\u001b[1m(\u001b[22m\u001b[90minto\u001b[39m::\u001b[0mModule, \u001b[90mmod\u001b[39m::\u001b[0mSymbol\u001b[0m\u001b[1m)\u001b[22m\n",
      "\u001b[90m    @ \u001b[39m\u001b[90mBase\u001b[39m \u001b[90m./\u001b[39m\u001b[90m\u001b[4mloading.jl:997\u001b[24m\u001b[39m\n",
      "  [7] \u001b[0m\u001b[1minclude\u001b[22m\u001b[0m\u001b[1m(\u001b[22m\u001b[90mmod\u001b[39m::\u001b[0mModule, \u001b[90m_path\u001b[39m::\u001b[0mString\u001b[0m\u001b[1m)\u001b[22m\n",
      "\u001b[90m    @ \u001b[39m\u001b[90mBase\u001b[39m \u001b[90m./\u001b[39m\u001b[90m\u001b[4mBase.jl:418\u001b[24m\u001b[39m\n",
      "  [8] \u001b[0m\u001b[1minclude\u001b[22m\u001b[0m\u001b[1m(\u001b[22m\u001b[90mx\u001b[39m::\u001b[0mString\u001b[0m\u001b[1m)\u001b[22m\n",
      "\u001b[90m    @ \u001b[39m\u001b[35mViewerGL\u001b[39m \u001b[90m~/.julia/packages/ViewerGL/3b7yo/src/\u001b[39m\u001b[90m\u001b[4mViewerGL.jl:8\u001b[24m\u001b[39m\n",
      "  [9] top-level scope\n",
      "\u001b[90m    @ \u001b[39m\u001b[90m~/.julia/packages/ViewerGL/3b7yo/src/\u001b[39m\u001b[90m\u001b[4mViewerGL.jl:29\u001b[24m\u001b[39m\n",
      " [10] \u001b[0m\u001b[1minclude\u001b[22m\n",
      "\u001b[90m    @ \u001b[39m\u001b[90m./\u001b[39m\u001b[90m\u001b[4mBase.jl:418\u001b[24m\u001b[39m\u001b[90m [inlined]\u001b[39m\n",
      " [11] \u001b[0m\u001b[1m_require\u001b[22m\u001b[0m\u001b[1m(\u001b[22m\u001b[90mpkg\u001b[39m::\u001b[0mBase.PkgId\u001b[0m\u001b[1m)\u001b[22m\n",
      "\u001b[90m    @ \u001b[39m\u001b[90mBase\u001b[39m \u001b[90m./\u001b[39m\u001b[90m\u001b[4mloading.jl:1149\u001b[24m\u001b[39m\n",
      " [12] \u001b[0m\u001b[1mrequire\u001b[22m\u001b[0m\u001b[1m(\u001b[22m\u001b[90muuidkey\u001b[39m::\u001b[0mBase.PkgId\u001b[0m\u001b[1m)\u001b[22m\n",
      "\u001b[90m    @ \u001b[39m\u001b[90mBase\u001b[39m \u001b[90m./\u001b[39m\u001b[90m\u001b[4mloading.jl:1013\u001b[24m\u001b[39m\n",
      " [13] \u001b[0m\u001b[1mrequire\u001b[22m\u001b[0m\u001b[1m(\u001b[22m\u001b[90minto\u001b[39m::\u001b[0mModule, \u001b[90mmod\u001b[39m::\u001b[0mSymbol\u001b[0m\u001b[1m)\u001b[22m\n",
      "\u001b[90m    @ \u001b[39m\u001b[90mBase\u001b[39m \u001b[90m./\u001b[39m\u001b[90m\u001b[4mloading.jl:997\u001b[24m\u001b[39m\n",
      " [14] \u001b[0m\u001b[1minclude\u001b[22m\u001b[0m\u001b[1m(\u001b[22m\u001b[90mmod\u001b[39m::\u001b[0mModule, \u001b[90m_path\u001b[39m::\u001b[0mString\u001b[0m\u001b[1m)\u001b[22m\n",
      "\u001b[90m    @ \u001b[39m\u001b[90mBase\u001b[39m \u001b[90m./\u001b[39m\u001b[90m\u001b[4mBase.jl:418\u001b[24m\u001b[39m\n",
      " [15] \u001b[0m\u001b[1minclude\u001b[22m\u001b[0m\u001b[1m(\u001b[22m\u001b[90mx\u001b[39m::\u001b[0mString\u001b[0m\u001b[1m)\u001b[22m\n",
      "\u001b[90m    @ \u001b[39m\u001b[36mLinearAlgebraicRepresentation\u001b[39m \u001b[90m~/.julia/packages/LinearAlgebraicRepresentation/g6iyV/src/\u001b[39m\u001b[90m\u001b[4mLinearAlgebraicRepresentation.jl:1\u001b[24m\u001b[39m\n",
      " [16] top-level scope\n",
      "\u001b[90m    @ \u001b[39m\u001b[90m~/.julia/packages/LinearAlgebraicRepresentation/g6iyV/src/\u001b[39m\u001b[90m\u001b[4mLinearAlgebraicRepresentation.jl:116\u001b[24m\u001b[39m\n",
      " [17] \u001b[0m\u001b[1minclude\u001b[22m\n",
      "\u001b[90m    @ \u001b[39m\u001b[90m./\u001b[39m\u001b[90m\u001b[4mBase.jl:418\u001b[24m\u001b[39m\u001b[90m [inlined]\u001b[39m\n",
      " [18] \u001b[0m\u001b[1minclude_package_for_output\u001b[22m\u001b[0m\u001b[1m(\u001b[22m\u001b[90mpkg\u001b[39m::\u001b[0mBase.PkgId, \u001b[90minput\u001b[39m::\u001b[0mString, \u001b[90mdepot_path\u001b[39m::\u001b[0mVector\u001b[90m{String}\u001b[39m, \u001b[90mdl_load_path\u001b[39m::\u001b[0mVector\u001b[90m{String}\u001b[39m, \u001b[90mload_path\u001b[39m::\u001b[0mVector\u001b[90m{String}\u001b[39m, \u001b[90mconcrete_deps\u001b[39m::\u001b[0mVector\u001b[90m{Pair{Base.PkgId, UInt64}}\u001b[39m, \u001b[90msource\u001b[39m::\u001b[0mNothing\u001b[0m\u001b[1m)\u001b[22m\n",
      "\u001b[90m    @ \u001b[39m\u001b[90mBase\u001b[39m \u001b[90m./\u001b[39m\u001b[90m\u001b[4mloading.jl:1318\u001b[24m\u001b[39m\n",
      " [19] top-level scope\n",
      "\u001b[90m    @ \u001b[39m\u001b[90m\u001b[4mnone:1\u001b[24m\u001b[39m\n",
      " [20] \u001b[0m\u001b[1meval\u001b[22m\n",
      "\u001b[90m    @ \u001b[39m\u001b[90m./\u001b[39m\u001b[90m\u001b[4mboot.jl:373\u001b[24m\u001b[39m\u001b[90m [inlined]\u001b[39m\n",
      " [21] \u001b[0m\u001b[1meval\u001b[22m\u001b[0m\u001b[1m(\u001b[22m\u001b[90mx\u001b[39m::\u001b[0mExpr\u001b[0m\u001b[1m)\u001b[22m\n",
      "\u001b[90m    @ \u001b[39m\u001b[90mBase.MainInclude\u001b[39m \u001b[90m./\u001b[39m\u001b[90m\u001b[4mclient.jl:453\u001b[24m\u001b[39m\n",
      " [22] top-level scope\n",
      "\u001b[90m    @ \u001b[39m\u001b[90m\u001b[4mnone:1\u001b[24m\u001b[39m\n",
      "in expression starting at /Users/marco/.julia/packages/ViewerGL/3b7yo/src/Geometry.jl:3\n",
      "in expression starting at /Users/marco/.julia/packages/ViewerGL/3b7yo/src/ViewerGL.jl:1\n",
      "in expression starting at /Users/marco/.julia/packages/LinearAlgebraicRepresentation/g6iyV/src/partialview.jl:2\n",
      "in expression starting at /Users/marco/.julia/packages/LinearAlgebraicRepresentation/g6iyV/src/LinearAlgebraicRepresentation.jl:1\n"
     ]
    },
    {
     "ename": "LoadError",
     "evalue": "Failed to precompile LinearAlgebraicRepresentation [95167b0c-186a-594b-a231-52369c6de044] to /Users/marco/.julia/compiled/v1.7/LinearAlgebraicRepresentation/jl_eLsQ4c.",
     "output_type": "error",
     "traceback": [
      "Failed to precompile LinearAlgebraicRepresentation [95167b0c-186a-594b-a231-52369c6de044] to /Users/marco/.julia/compiled/v1.7/LinearAlgebraicRepresentation/jl_eLsQ4c.",
      "",
      "Stacktrace:",
      " [1] error(s::String)",
      "   @ Base ./error.jl:33",
      " [2] compilecache(pkg::Base.PkgId, path::String, internal_stderr::IO, internal_stdout::IO, ignore_loaded_modules::Bool)",
      "   @ Base ./loading.jl:1466",
      " [3] compilecache(pkg::Base.PkgId, path::String)",
      "   @ Base ./loading.jl:1410",
      " [4] _require(pkg::Base.PkgId)",
      "   @ Base ./loading.jl:1120",
      " [5] require(uuidkey::Base.PkgId)",
      "   @ Base ./loading.jl:1013",
      " [6] require(into::Module, mod::Symbol)",
      "   @ Base ./loading.jl:997",
      " [7] eval",
      "   @ ./boot.jl:373 [inlined]",
      " [8] include_string(mapexpr::typeof(REPL.softscope), mod::Module, code::String, filename::String)",
      "   @ Base ./loading.jl:1196"
     ]
    }
   ],
   "source": [
    "using LinearAlgebraicRepresentation\n",
    "Lar = LinearAlgebraicRepresentation\n",
    "using IntervalTrees\n",
    "using SparseArrays\n",
    "using NearestNeighbors\n"
   ]
  },
  {
   "cell_type": "markdown",
   "id": "be1494a6",
   "metadata": {},
   "source": [
    "Funzioni della classe refactoring"
   ]
  },
  {
   "cell_type": "code",
   "execution_count": 3,
   "id": "987abf09",
   "metadata": {},
   "outputs": [
    {
     "data": {
      "text/plain": [
       "crossingTest (generic function with 1 method)"
      ]
     },
     "execution_count": 3,
     "metadata": {},
     "output_type": "execute_result"
    }
   ],
   "source": [
    "function crossingTest(new::Int, old::Int, count::T, status::Int)::Number where T <: Real\n",
    "    if status == 0\n",
    "        status = new\n",
    "        count += 0.5\n",
    "    else\n",
    "        if status == old\n",
    "        \tcount += 0.5\n",
    "        else\n",
    "        \tcount -= 0.5\n",
    "        end\n",
    "        status = 0\n",
    "    end\n",
    "end\n"
   ]
  },
  {
   "cell_type": "code",
   "execution_count": 4,
   "id": "ea66d277",
   "metadata": {},
   "outputs": [
    {
     "data": {
      "text/plain": [
       "setTile (generic function with 1 method)"
      ]
     },
     "execution_count": 4,
     "metadata": {},
     "output_type": "execute_result"
    }
   ],
   "source": [
    "function setTile(box)\n",
    "\ttiles = [[9,1,5],[8,0,4],[10,2,6]]\n",
    "\tb1,b2,b3,b4 = box\n",
    "\tfunction tileCode(point)\n",
    "\t\tx,y = point\n",
    "\t\tcode = 0\n",
    "        if y>b1 code=code|1 end\n",
    "\t\tif y<b2 code=code|2 end\n",
    "\t\tif x>b3 code=code|4 end\n",
    "\t\tif x<b4 code=code|8 end\n",
    "\t\treturn code\n",
    "\tend\n",
    "\treturn tileCode\n",
    "end"
   ]
  },
  {
   "cell_type": "code",
   "execution_count": 5,
   "id": "e180ac14",
   "metadata": {},
   "outputs": [
    {
     "data": {
      "text/plain": [
       "pointInPolygonClassification (generic function with 1 method)"
      ]
     },
     "execution_count": 5,
     "metadata": {},
     "output_type": "execute_result"
    }
   ],
   "source": [
    "function pointInPolygonClassification(V,EV)\n",
    "    function pointInPolygonClassification0(pnt)\n",
    "        x,y = pnt\n",
    "        xmin,xmax,ymin,ymax = x,x,y,y\n",
    "        tilecode = setTile([ymax,ymin,xmax,xmin])\n",
    "        count,status = 0,0\n",
    "\n",
    "        for (k,edge) in enumerate(EV)\n",
    "            p1,p2 = V[:,edge[1]],V[:,edge[2]]\n",
    "            (x1,y1),(x2,y2) = p1,p2\n",
    "            c1,c2 = tilecode(p1),tilecode(p2)\n",
    "            c_edge, c_un, c_int = c1⊻c2, c1|c2, c1&c2\n",
    "\n",
    "            if (c_edge == 0) & (c_un == 0) return \"p_on\"\n",
    "            elseif (c_edge == 12) & (c_un == c_edge) return \"p_on\"\n",
    "            elseif c_edge == 3\n",
    "                if c_int == 0 return \"p_on\"\n",
    "                elseif c_int == 4 count += 1 end\n",
    "            elseif c_edge == 15\n",
    "                x_int = ((y-y2)*(x1-x2)/(y1-y2))+x2\n",
    "                if x_int > x count += 1\n",
    "                elseif x_int == x return \"p_on\" end\n",
    "            elseif (c_edge == 13) & ((c1==4) | (c2==4))\n",
    "                    crossingTest(1,2,status,count)\n",
    "            elseif (c_edge == 14) & ((c1==4) | (c2==4))\n",
    "                    crossingTest(2,1,status,count)\n",
    "            elseif c_edge == 7 count += 1\n",
    "            elseif c_edge == 11 count = count\n",
    "            elseif c_edge == 1\n",
    "                if c_int == 0 return \"p_on\"\n",
    "                elseif c_int == 4 crossingTest(1,2,status,count) end\n",
    "            elseif c_edge == 2\n",
    "                if c_int == 0 return \"p_on\"\n",
    "                elseif c_int == 4 crossingTest(2,1,status,count) end\n",
    "            elseif (c_edge == 4) & (c_un == c_edge) return \"p_on\"\n",
    "            elseif (c_edge == 8) & (c_un == c_edge) return \"p_on\"\n",
    "            elseif c_edge == 5\n",
    "                if (c1==0) | (c2==0) return \"p_on\"\n",
    "                else crossingTest(1,2,status,count) end\n",
    "            elseif c_edge == 6\n",
    "                if (c1==0) | (c2==0) return \"p_on\"\n",
    "                else crossingTest(2,1,status,count) end\n",
    "            elseif (c_edge == 9) & ((c1==0) | (c2==0)) return \"p_on\"\n",
    "            elseif (c_edge == 10) & ((c1==0) | (c2==0)) return \"p_on\"\n",
    "            end\n",
    "        end\n",
    "        if (round(count)%2)==1\n",
    "        \treturn \"p_in\"\n",
    "        else\n",
    "        \treturn \"p_out\"\n",
    "        end\n",
    "    end\n",
    "    return pointInPolygonClassification0\n",
    "end"
   ]
  },
  {
   "cell_type": "markdown",
   "id": "37050106",
   "metadata": {},
   "source": [
    "## Versione iniziale di boundingbox\n",
    "\n",
    "La funzione boundingbox serve a creare il bounding Box di una cella, cioè la scatola di misura più piccola (area, volume, ipervolume) entro cui sono contenuti tutti i punti."
   ]
  },
  {
   "cell_type": "code",
   "execution_count": 9,
   "id": "24d60c36",
   "metadata": {},
   "outputs": [
    {
     "ename": "LoadError",
     "evalue": "UndefVarError: Lar not defined",
     "output_type": "error",
     "traceback": [
      "UndefVarError: Lar not defined",
      "",
      "Stacktrace:",
      " [1] top-level scope",
      "   @ In[9]:1",
      " [2] eval",
      "   @ ./boot.jl:373 [inlined]",
      " [3] include_string(mapexpr::typeof(REPL.softscope), mod::Module, code::String, filename::String)",
      "   @ Base ./loading.jl:1196"
     ]
    }
   ],
   "source": [
    "function boundingbox(vertices::Lar.Points)\n",
    "   minimum = mapslices(x->min(x...), vertices, dims=2)\n",
    "   maximum = mapslices(x->max(x...), vertices, dims=2)\n",
    "   return minimum, maximum\n",
    "end"
   ]
  },
  {
   "cell_type": "code",
   "execution_count": 10,
   "id": "e62fb659",
   "metadata": {},
   "outputs": [
    {
     "data": {
      "text/plain": [
       "input_collection (generic function with 1 method)"
      ]
     },
     "execution_count": 10,
     "metadata": {},
     "output_type": "execute_result"
    }
   ],
   "source": [
    "function input_collection(data::Array)::Lar.LAR\n",
    "\tassembly = Lar.Struct(data)\n",
    "\treturn Lar.struct2lar(assembly)\n",
    "end\n"
   ]
  },
  {
   "cell_type": "markdown",
   "id": "bb83e488",
   "metadata": {},
   "source": [
    "## Versione iniziale di coordintervals\n",
    "\n",
    "coordintervals crea un dizionario ordinato dove la chiave è l'intervallo su una coordinata, e come valore associato ha l'indice dell'intervallo corrispondente nel boundig box"
   ]
  },
  {
   "cell_type": "code",
   "execution_count": 11,
   "id": "70e75fc7",
   "metadata": {},
   "outputs": [
    {
     "data": {
      "text/plain": [
       "coordintervals (generic function with 1 method)"
      ]
     },
     "execution_count": 11,
     "metadata": {},
     "output_type": "execute_result"
    }
   ],
   "source": [
    "function coordintervals(coord,bboxes)\n",
    "\tboxdict = OrderedDict{Array{Float64,1},Array{Int64,1}}()\n",
    "\tfor (h,box) in enumerate(bboxes)\n",
    "\t\tkey = box[coord,:]\n",
    "\t\tif haskey(boxdict,key) == false\n",
    "\t\t\tboxdict[key] = [h]\n",
    "\t\telse\n",
    "\t\t\tpush!(boxdict[key], h)\n",
    "\t\tend\n",
    "\tend\n",
    "\treturn boxdict\n",
    "end\n"
   ]
  },
  {
   "cell_type": "markdown",
   "id": "79058d06",
   "metadata": {},
   "source": [
    "## Versione iniziale di boxcovering\n",
    "\n",
    "boxcovering calcola quali bounding box si intersecano tra loro"
   ]
  },
  {
   "cell_type": "code",
   "execution_count": 12,
   "id": "3e09f3d9",
   "metadata": {},
   "outputs": [
    {
     "data": {
      "text/plain": [
       "boxcovering (generic function with 1 method)"
      ]
     },
     "execution_count": 12,
     "metadata": {},
     "output_type": "execute_result"
    }
   ],
   "source": [
    "function boxcovering(bboxes, index, tree)\n",
    "\tcovers = [[] for k=1:length(bboxes)]\n",
    "\tfor (i,boundingbox) in enumerate(bboxes)\n",
    "\t\textent = bboxes[i][index,:]\n",
    "\t\titerator = IntervalTrees.intersect(tree, tuple(extent...))\n",
    "\t\tfor x in iterator\n",
    "\t\t\tappend!(covers[i],x.value)\n",
    "\t\tend\n",
    "\tend\n",
    "\treturn covers\n",
    "end"
   ]
  },
  {
   "cell_type": "markdown",
   "id": "2ec57e61",
   "metadata": {},
   "source": [
    "## Versione iniziale di spaceindex\n",
    "\n",
    "spaceindex, dato un modello, restituisce un array di array dove l'elemento i-esimo rappresenta quali intersezioni ha il bounding box i-esimo con gli altri bounding box"
   ]
  },
  {
   "cell_type": "code",
   "execution_count": 13,
   "id": "1aefa425",
   "metadata": {},
   "outputs": [
    {
     "ename": "LoadError",
     "evalue": "UndefVarError: Lar not defined",
     "output_type": "error",
     "traceback": [
      "UndefVarError: Lar not defined",
      "",
      "Stacktrace:",
      " [1] top-level scope",
      "   @ In[13]:1",
      " [2] eval",
      "   @ ./boot.jl:373 [inlined]",
      " [3] include_string(mapexpr::typeof(REPL.softscope), mod::Module, code::String, filename::String)",
      "   @ Base ./loading.jl:1196"
     ]
    }
   ],
   "source": [
    "function spaceindex(model::Lar.LAR)::Array{Array{Int,1},1}\n",
    "\tV,CV = model[1:2]\n",
    "\tdim = size(V,1)\n",
    "\tcellpoints = [ V[:,CV[k]]::Lar.Points for k=1:length(CV) ]\n",
    "\t#----------------------------------------------------------\n",
    "\tbboxes = [hcat(Lar.boundingbox(cell)...) for cell in cellpoints]\n",
    "\txboxdict = Lar.coordintervals(1,bboxes)\n",
    "\tyboxdict = Lar.coordintervals(2,bboxes)\n",
    "\t# xs,ys are IntervalTree type\n",
    "\txs = IntervalTrees.IntervalMap{Float64, Array}()\n",
    "\tfor (key,boxset) in xboxdict\n",
    "\t\txs[tuple(key...)] = boxset\n",
    "\tend\n",
    "\tys = IntervalTrees.IntervalMap{Float64, Array}()\n",
    "\tfor (key,boxset) in yboxdict\n",
    "\t\tys[tuple(key...)] = boxset\n",
    "\tend\n",
    "\txcovers = Lar.boxcovering(bboxes, 1, xs)\n",
    "\tycovers = Lar.boxcovering(bboxes, 2, ys)\n",
    "\tcovers = [intersect(pair...) for pair in zip(xcovers,ycovers)]\n",
    "\n",
    "\tif dim == 3\n",
    "\t\tzboxdict = Lar.coordintervals(3,bboxes)\n",
    "\t\tzs = IntervalTrees.IntervalMap{Float64, Array}()\n",
    "\t\tfor (key,boxset) in zboxdict\n",
    "\t\t\tzs[tuple(key...)] = boxset\n",
    "\t\tend\n",
    "\t\tzcovers = Lar.boxcovering(bboxes, 3, zs)\n",
    "\t\tcovers = [intersect(pair...) for pair in zip(zcovers,covers)]\n",
    "\tend\n",
    "\t# remove each cell from its cover\n",
    "\tfor k=1:length(covers)\n",
    "\t\tcovers[k] = setdiff(covers[k],[k])\n",
    "\tend\n",
    "\treturn covers\n",
    "end\n"
   ]
  },
  {
   "cell_type": "markdown",
   "id": "241ee9fb",
   "metadata": {},
   "source": [
    "## Versione iniziale di Intersection"
   ]
  },
  {
   "cell_type": "code",
   "execution_count": 15,
   "id": "42145f6e",
   "metadata": {},
   "outputs": [
    {
     "data": {
      "text/plain": [
       "intersection (generic function with 1 method)"
      ]
     },
     "execution_count": 15,
     "metadata": {},
     "output_type": "execute_result"
    }
   ],
   "source": [
    "function intersection(line1,line2)\n",
    "\tx1,y1,x2,y2 = vcat(line1...)\n",
    "\tx3,y3,x4,y4 = vcat(line2...)\n",
    "\n",
    "\t# intersect lines e1,e2\n",
    "\t# http://www.cs.swan.ac.uk/~cssimon/line_intersection.html\n",
    "\tdet = (x4-x3)*(y1-y2)-(x1-x2)*(y4-y3)\n",
    "\tif det != 0.0\n",
    "\t\ta = 1/det\n",
    "\t\tb = [y1-y2 x2-x1; y3-y4 x4-x3]  # x1-x2 => x2-x1 bug in the source link !!\n",
    "\t\tc = [x1-x3; y1-y3]\n",
    "\t\t(β,α) = a * b * c\n",
    "\telse\n",
    "\t\tif (y1==y2) == (y3==y4) || (x1==x2) == (x3==x4) # segments collinear\n",
    "\t\t\t return nothing\n",
    "\t\telse\n",
    "\t\t\t # segments parallel: no intersection\n",
    "\t\t\t return nothing\n",
    "\t\tend\n",
    "\tend\n",
    "\treturn α,β\n",
    "end\n"
   ]
  },
  {
   "cell_type": "markdown",
   "id": "b77c116e",
   "metadata": {},
   "source": [
    "## Versione iniziale di linefragments"
   ]
  },
  {
   "cell_type": "code",
   "execution_count": 16,
   "id": "4512150b",
   "metadata": {},
   "outputs": [
    {
     "data": {
      "text/plain": [
       "linefragments (generic function with 1 method)"
      ]
     },
     "execution_count": 16,
     "metadata": {},
     "output_type": "execute_result"
    }
   ],
   "source": [
    "function linefragments(V,EV,Sigma)\n",
    "\t# remove the double intersections by ordering Sigma\n",
    "\tm = length(Sigma)\n",
    "\tsigma = map(sort,Sigma)\n",
    "\treducedsigma = sigma ##[filter(x->(x > k), sigma[k]) for k=1:m]\n",
    "\t# pairwise parametric intersection\n",
    "\tparams = Array{Float64,1}[[] for i=1:m]\n",
    "\tfor h=1:m\n",
    "\t\tif sigma[h] ≠ []\n",
    "\t\t\tline1 = V[:,EV[h]]\n",
    "\t\t\tfor k in sigma[h]\n",
    "\t\t\t\tline2 = V[:,EV[k]]\n",
    "\t\t\t\tout = Lar.intersection(line1,line2) # TODO: w interval arithmetic\n",
    "\t\t\t\tif out ≠ nothing\n",
    "\t\t\t\t\tα,β = out\n",
    "\t\t\t\t\tif 0<=α<=1 && 0<=β<=1\n",
    "\t\t\t\t\t\tpush!(params[h], α)\n",
    "\t\t\t\t\t\tpush!(params[k], β)\n",
    "\t\t\t\t\tend\n",
    "\t\t\t\tend\n",
    "\t\t\tend\n",
    "\t\tend\n",
    "\tend\n",
    "\t# finalize parameters of fragmented lines\n",
    "\tfragparams = []\n",
    "\tfor line in params\n",
    "\t\tpush!(line, 0.0, 1.0)\n",
    "\t\tline = sort(collect(Set(line)))\n",
    "\t\tpush!(fragparams, line)\n",
    "\tend\n",
    "\treturn fragparams\n",
    "end\n"
   ]
  },
  {
   "cell_type": "markdown",
   "id": "0359494c",
   "metadata": {},
   "source": [
    "## Versione iniziale di fragmentlines"
   ]
  },
  {
   "cell_type": "code",
   "execution_count": 17,
   "id": "906fb9a8",
   "metadata": {},
   "outputs": [
    {
     "data": {
      "text/plain": [
       "fraglines (generic function with 4 methods)"
      ]
     },
     "execution_count": 17,
     "metadata": {},
     "output_type": "execute_result"
    }
   ],
   "source": [
    "function fragmentlines(model)\n",
    "\tV,EV = model\n",
    "\t# acceleration via spatial index computation\n",
    "\tSigma = Lar.spaceindex(model)\n",
    "\t# actual parametric intersection of each line with the close ones\n",
    "\tlineparams = Lar.linefragments(V,EV,Sigma)\n",
    "\t# initialization of local data structures\n",
    "\tvertdict = OrderedDict{Array{Float64,1},Array{Int,1}}()\n",
    "\tpairs = collect(zip(lineparams, [V[:,e] for e in EV]))\n",
    "\tvertdict = OrderedDict{Array{Float64,1},Int}()\n",
    "\tW = Array[]\n",
    "\tEW = Array[]\n",
    "\tk = 0\n",
    "\t# generation of intersection points\n",
    "\tfor (params,linepoints) in pairs\n",
    "\t\tv1 = linepoints[:,1]\n",
    "\t\tv2 = linepoints[:,2]\n",
    "\t\tpoints = [ v1 + t*(v2 - v1) for t in params]   # !!!! loved !!\n",
    "\t\tvs = zeros(Int64,1,length(points))\n",
    "\t\tPRECISION = 8\n",
    "\t\t# identification via dictionary of points\n",
    "\t\tfor (h,point) in enumerate(points)\n",
    "\t\t\tpoint = map(Lar.approxVal(PRECISION), point)\n",
    "\t\t\tif haskey(vertdict, point) == false\n",
    "\t\t\t\tk += 1\n",
    "\t\t\t\tvertdict[point] = k\n",
    "\t\t\t\tpush!(W, point)\n",
    "\t\t\tend\n",
    "\t\t\tvs[h] = vertdict[point]\n",
    "\t\tend\n",
    "\t\t[push!(EW, [vs[k], vs[k+1]]) for k=1:length(vs)-1]\n",
    "\tend\n",
    "\t# normalization of output\n",
    "\tW,EW = hcat(W...),convert(Array{Array{Int64,1},1},EW)\n",
    "\tV,EV = Lar.congruence((W,EW))\n",
    "\treturn V,EV\n",
    "end\n",
    "function fraglines(sx::Float64=1.2,sy::Float64=1.2,sz::Float64=1.2)\n",
    "\tfunction fraglines0(model)\n",
    "\t\tV,EV = Lar.fragmentlines(model)\n",
    "\n",
    "\t\tW = zeros(Float64, size(V,1), 2*length(EV))\n",
    "\t\tEW = Array{Array{Int64,1},1}()\n",
    "\t\tfor (k,(v1,v2)) in enumerate(EV)\n",
    "\t\t\tif size(V,1)==2\n",
    "\t\t\t\tx,y = (V[:,v1] + V[:,v2]) ./ 2\n",
    "\t\t\t\tscx,scy = x*sx, y*sy\n",
    "\t\t\t\tt = [scx-x, scy-y]\n",
    "\t\t\telseif size(V,1)==3\n",
    "\t\t\t\tx,y,z = (V[:,v1] + V[:,v2]) ./ 2\n",
    "\t\t\t\tscx,scy,scz = x*sx, y*sy, z*sz\n",
    "\t\t\t\tt = [scx-x, scy-y, scz-z]\n",
    "\t\t\tend\n",
    "\t\t\tW[:,2*k-1] = V[:,v1] + t\n",
    "\t\t\tW[:,2*k] = V[:,v2] + t\n",
    "\t\t\tpush!(EW, [2*k-1, 2*k])\n",
    "\t\tend\n",
    "\t\treturn W,EW\n",
    "\tend\n",
    "\treturn fraglines0\n",
    "end"
   ]
  },
  {
   "cell_type": "markdown",
   "id": "e01d9eba",
   "metadata": {},
   "source": [
    "## Versione iniziale di congruence"
   ]
  },
  {
   "cell_type": "code",
   "execution_count": 18,
   "id": "7b8ebf16",
   "metadata": {},
   "outputs": [
    {
     "data": {
      "text/plain": [
       "congruence (generic function with 1 method)"
      ]
     },
     "execution_count": 18,
     "metadata": {},
     "output_type": "execute_result"
    }
   ],
   "source": [
    "function congruence(model)\n",
    "\tW,EW = model\n",
    "\t# congruent vertices\n",
    "\tballtree = NearestNeighbors.BallTree(W)\n",
    "\tr = 0.0000000001\n",
    "\tnear = Array{Any}(undef, size(W,2))\n",
    "\tfor k=1:size(W,2)\n",
    "\t\tnear[k] = union([NearestNeighbors.inrange(balltree, W[:,k], r, true)]...)\n",
    "\tend\n",
    "\tnear = map(sort,near)  # check !!!\n",
    "\tfor k=1:size(W,2)\n",
    "\t\tW[:,k] = W[:,near[k][1]]\n",
    "\tend\n",
    "\tpointidx = [ near[k][1] for k=1:size(W,2) ]  # check !!\n",
    "\tinvidx = OrderedDict(zip(1:length(pointidx), pointidx))\n",
    "\tV = [W[:,k] for k=1:length(pointidx)]\n",
    "\t# congruent edges\n",
    "\tEV = []\n",
    "\tfor e in (EW)\n",
    "\t\tnewedge = [invidx[e[1]],invidx[e[2]]]\n",
    "\t\tif newedge[1] !== newedge[2]\n",
    "\t\t\tpush!(EV,newedge)\n",
    "\t\tend\n",
    "\tend\n",
    "\tEV = [EV[h] for h=1:length(EV) if length(EV[h])==2]\n",
    "\tEV = convert(Lar.Cells, EV)\n",
    "\t#W,EW = Lar.simplifyCells(V,EV)\n",
    "\treturn hcat(V...),EV\n",
    "end\n",
    "\n",
    "\n"
   ]
  },
  {
   "cell_type": "code",
   "execution_count": null,
   "id": "2394e41f",
   "metadata": {},
   "outputs": [],
   "source": []
  }
 ],
 "metadata": {
  "kernelspec": {
   "display_name": "Julia 1.7.2",
   "language": "julia",
   "name": "julia-1.7"
  },
  "language_info": {
   "file_extension": ".jl",
   "mimetype": "application/julia",
   "name": "julia",
   "version": "1.7.2"
  }
 },
 "nbformat": 4,
 "nbformat_minor": 5
}
