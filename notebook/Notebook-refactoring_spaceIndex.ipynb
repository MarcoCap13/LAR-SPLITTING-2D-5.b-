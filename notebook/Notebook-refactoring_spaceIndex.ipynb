{
 "cells": [
  {
   "cell_type": "markdown",
   "id": "9141e35d",
   "metadata": {},
   "source": [
    "#### **Gruppo 5.b**: Caponi Marco (matricola: 508773) - Ceneda Gianluca (matricola: 488257)"
   ]
  },
  {
   "cell_type": "markdown",
   "id": "4f03816f",
   "metadata": {},
   "source": [
    "# ANALISI E REVISIONE DEL PROGETTO LARSPLITTING 2D "
   ]
  },
  {
   "cell_type": "markdown",
   "id": "bbd19810",
   "metadata": {},
   "source": [
    "## CLASSE REFACTORING: spaceIndex"
   ]
  },
  {
   "cell_type": "markdown",
   "id": "b9488613",
   "metadata": {},
   "source": [
    "Variabili utili per testare il funzionamento\n"
   ]
  },
  {
   "cell_type": "code",
   "execution_count": 17,
   "id": "d88d8e60",
   "metadata": {
    "scrolled": true
   },
   "outputs": [],
   "source": [
    "using LinearAlgebraicRepresentation\n",
    "Lar = LinearAlgebraicRepresentation\n",
    "using IntervalTrees\n",
    "using SparseArrays\n",
    "using NearestNeighbors\n",
    "using BenchmarkTools\n",
    "using OrderedCollections\n",
    "using Base.Threads\n"
   ]
  },
  {
   "cell_type": "code",
   "execution_count": 18,
   "id": "d9c77ed8",
   "metadata": {},
   "outputs": [
    {
     "data": {
      "text/plain": [
       "5-element Vector{Vector{Int64}}:\n",
       " [4, 1, 3, 5, 2]\n",
       " [1, 3, 5, 2]\n",
       " [4, 1, 3, 5, 2]\n",
       " [4, 1, 3, 5]\n",
       " [4, 1, 3, 5, 2]"
      ]
     },
     "metadata": {},
     "output_type": "display_data"
    }
   ],
   "source": [
    "V = hcat([[0.,0],[1,0],[1,1],[0,1],[2,1]]...);    #vertici del modello 2D\n",
    "V3 = hcat([[0.,0,0],[1,0,3],[1,1,2],[0,1,1],[2,1,0]]...);   #vertici del modello 3D\n",
    "EV = [[1,2],[2,3],[3,4],[4,1],[1,5]];             #spigoli del modello\n",
    "bb = [[0.0 1.0; 0.0 0.0], [1.0 1.0; 0.0 1.0], [0.0 1.0; 1.0 1.0], [0.0 0.0; 0.0 1.0], [0.0 2.0; 0.0 1.0]];  #bounding box\n",
    "dict = OrderedDict([0.0, 1.0] => [1, 3],[1.0, 1.0] => [2],[0.0, 0.0] => [4],[0.0, 2.0] => [5])  #dizionario intervallo/indice\n",
    "cov = [[4, 1, 3, 5, 2], [1, 3, 5, 2], [4, 1, 3, 5, 2], [4, 1, 3, 5], [4, 1, 3, 5, 2]]    #intersezioni tra bounding box"
   ]
  },
  {
   "cell_type": "markdown",
   "id": "70bf1ad9",
   "metadata": {},
   "source": [
    "## FUNZIONI AGGIUNTIVE"
   ]
  },
  {
   "cell_type": "markdown",
   "id": "bacd686b",
   "metadata": {},
   "source": [
    "### CreateIntervalTree\n",
    "\n",
    "funzione che crea un albero di supporto per la funzione principale **boxcovering**; nel particolare dato un dizionario ordinato crea un intervalTrees cioè una struttura dati che contiene intervalli e che consente di trovare in modo efficiente tutti gli intervalli che si sovrappongono a un determinato intervallo o punto."
   ]
  },
  {
   "cell_type": "code",
   "execution_count": 19,
   "id": "9f813e82",
   "metadata": {},
   "outputs": [
    {
     "data": {
      "text/plain": [
       "createIntervalTree (generic function with 1 method)"
      ]
     },
     "metadata": {},
     "output_type": "display_data"
    }
   ],
   "source": [
    "function createIntervalTree(boxdict::AbstractDict{Array{Float64,1},Array{Int64,1}})\n",
    "    tree = IntervalTrees.IntervalMap{Float64,Array}()\n",
    "    for (key, boxset) in boxdict\n",
    "        tree[tuple(key...)] = boxset\n",
    "    end\n",
    "    return tree\n",
    "end"
   ]
  },
  {
   "cell_type": "code",
   "execution_count": 20,
   "id": "acaec3ff",
   "metadata": {},
   "outputs": [
    {
     "data": {
      "text/plain": [
       "IntervalTrees.IntervalBTree{Float64, IntervalValue{Float64, Array}, 64}"
      ]
     },
     "metadata": {},
     "output_type": "display_data"
    },
    {
     "name": "stdout",
     "output_type": "stream",
     "text": [
      "\n",
      "(0.0,0.0) => [4]\n",
      "(0.0,1.0) => [1, 3]\n",
      "(0.0,2.0) => [5]\n",
      "(1.0,1.0) => [2]"
     ]
    }
   ],
   "source": [
    "t = createIntervalTree(dict)  # Creazione dell'albero"
   ]
  },
  {
   "cell_type": "markdown",
   "id": "dc60c00d",
   "metadata": {},
   "source": [
    "### RemoveIntersection\n",
    "\n",
    "rimuove le intersezioni contenute in **covers** che i boundingbox hanno con se stessi\n"
   ]
  },
  {
   "cell_type": "code",
   "execution_count": 21,
   "id": "38a1b6aa",
   "metadata": {},
   "outputs": [
    {
     "data": {
      "text/plain": [
       "removeIntersection (generic function with 1 method)"
      ]
     },
     "metadata": {},
     "output_type": "display_data"
    }
   ],
   "source": [
    "function removeIntersection(covers::Array{Array{Int64,1},1})\n",
    "    @threads for k=1:length(covers)\n",
    "        covers[k] = setdiff(covers[k],[k])\t#toglie le intersezioni con se stesso \n",
    "    end\n",
    "end"
   ]
  },
  {
   "cell_type": "markdown",
   "id": "3a5b3e9a",
   "metadata": {},
   "source": [
    "## addIntersection\n",
    "\n",
    "Funzione che aggiunge gli elementi di iterator nell'i-esimo array di covers. Utilizzata in: spaceindex, boxcovering"
   ]
  },
  {
   "cell_type": "code",
   "execution_count": 22,
   "id": "65c4fbd9",
   "metadata": {},
   "outputs": [
    {
     "data": {
      "text/plain": [
       "addIntersection (generic function with 1 method)"
      ]
     },
     "metadata": {},
     "output_type": "display_data"
    }
   ],
   "source": [
    "function addIntersection(covers::Array{Array{Int64,1},1}, i::Int64, iterator)\n",
    "    splice!(covers[i],1)\t\t#splice serve a togliere gli zeri iniziali all'interno di covers\n",
    "    @threads for x in collect(iterator)\n",
    "        append!(covers[i],x.value)\n",
    "    end\n",
    "end"
   ]
  },
  {
   "cell_type": "markdown",
   "id": "385da1d6",
   "metadata": {},
   "source": [
    "## Funzioni di supporto"
   ]
  },
  {
   "cell_type": "markdown",
   "id": "793f122f",
   "metadata": {},
   "source": [
    "## boundingbox\n",
    "\n",
    "La funzione boundingbox serve a creare il bounding Box di una cella, cioè la scatola di misura più piccola (area, volume, ipervolume) entro cui sono contenuti tutti i punti."
   ]
  },
  {
   "cell_type": "code",
   "execution_count": 23,
   "id": "7ea786e0",
   "metadata": {},
   "outputs": [
    {
     "data": {
      "text/plain": [
       "boundingboxMOD (generic function with 1 method)"
      ]
     },
     "metadata": {},
     "output_type": "display_data"
    }
   ],
   "source": [
    "function boundingboxMOD(vertices::Lar.Points)\n",
    "    firstDim = vertices[1,:]\n",
    "    secondDim = vertices[2,:]\n",
    "    if (size(vertices,1)==3)\n",
    "        thirdDim = vertices[3,:]\n",
    "         minimum = Threads.@spawn hcat([min(firstDim...), min(secondDim...), min(thirdDim...)])\n",
    "         maximum = Threads.@spawn hcat([max(firstDim...), max(secondDim...), max(thirdDim...)])\n",
    "    else\n",
    "         minimum = Threads.@spawn hcat([min(firstDim...), min(secondDim...)])\n",
    "         maximum = Threads.@spawn hcat([max(firstDim...), max(secondDim...)])\n",
    "    end\n",
    "    return fetch(minimum),fetch(maximum)\n",
    " end"
   ]
  },
  {
   "cell_type": "markdown",
   "id": "b98ef1ad",
   "metadata": {},
   "source": [
    "### boxcovering\n",
    "\n",
    "boxcovering calcola quali bounding box si intersecano tra loro."
   ]
  },
  {
   "cell_type": "code",
   "execution_count": 24,
   "id": "6bf5093a",
   "metadata": {},
   "outputs": [
    {
     "data": {
      "text/plain": [
       "boxcoveringMOD (generic function with 1 method)"
      ]
     },
     "metadata": {},
     "output_type": "display_data"
    }
   ],
   "source": [
    "function boxcoveringMOD(bboxes, index, tree)\n",
    "    covers = [[zero(eltype(Int64))] for k=1:length(bboxes)]\t\t#zero(eltype(Int64)) serve per rendere covers type stable\n",
    "    @threads for (i,boundingbox) in collect(enumerate(bboxes))\n",
    "        extent = bboxes[i][index,:]\n",
    "        iterator = IntervalTrees.intersect(tree, tuple(extent...))\n",
    "        addIntersection(covers, i, iterator)\n",
    "    end\n",
    "    return covers\n",
    "end"
   ]
  },
  {
   "cell_type": "markdown",
   "id": "e7f7d63e",
   "metadata": {},
   "source": [
    "### coordIntervals\n",
    "\n",
    "\n",
    "coordintervals crea un dizionario ordinato dove la chiave è l'intervallo su una coordinata, e come valore associato ha l'indice dell'intervallo corrispondente nel boundig box"
   ]
  },
  {
   "cell_type": "code",
   "execution_count": 25,
   "id": "b5b169a5",
   "metadata": {},
   "outputs": [
    {
     "data": {
      "text/plain": [
       "coordintervals (generic function with 1 method)"
      ]
     },
     "metadata": {},
     "output_type": "display_data"
    }
   ],
   "source": [
    "function coordintervals(coord,bboxes)\n",
    "\tboxdict = OrderedDict{Array{Float64,1},Array{Int64,1}}()\n",
    "\tfor (h,box) in enumerate(bboxes)\n",
    "\t\tkey = box[coord,:]\n",
    "\t\tif haskey(boxdict,key) == false\n",
    "\t\t\tboxdict[key] = [h]\n",
    "\t\telse\n",
    "\t\t\tpush!(boxdict[key], h)\n",
    "\t\tend\n",
    "\tend\n",
    "\treturn boxdict\n",
    "end"
   ]
  },
  {
   "cell_type": "markdown",
   "id": "2ec57e61",
   "metadata": {},
   "source": [
    "## Versione iniziale di spaceindex\n",
    "\n",
    "spaceindex, dato un modello, restituisce un array di array dove l'elemento i-esimo rappresenta quali intersezioni ha il bounding box i-esimo con gli altri bounding box"
   ]
  },
  {
   "cell_type": "code",
   "execution_count": 26,
   "id": "1aefa425",
   "metadata": {},
   "outputs": [
    {
     "data": {
      "text/plain": [
       "spaceindex (generic function with 1 method)"
      ]
     },
     "metadata": {},
     "output_type": "display_data"
    }
   ],
   "source": [
    "function spaceindex(model::Lar.LAR)::Array{Array{Int,1},1}\n",
    "\tV,CV = model[1:2]\n",
    "\tdim = size(V,1)\n",
    "\tcellpoints = [ V[:,CV[k]]::Lar.Points for k=1:length(CV) ]\n",
    "\t#----------------------------------------------------------\n",
    "\tbboxes = [hcat(Lar.boundingbox(cell)...) for cell in cellpoints]\n",
    "\txboxdict = Lar.coordintervals(1,bboxes)\n",
    "\tyboxdict = Lar.coordintervals(2,bboxes)\n",
    "\t# xs,ys are IntervalTree type\n",
    "\txs = IntervalTrees.IntervalMap{Float64, Array}()\n",
    "\tfor (key,boxset) in xboxdict\n",
    "\t\txs[tuple(key...)] = boxset\n",
    "\tend\n",
    "\tys = IntervalTrees.IntervalMap{Float64, Array}()\n",
    "\tfor (key,boxset) in yboxdict\n",
    "\t\tys[tuple(key...)] = boxset\n",
    "\tend\n",
    "\txcovers = Lar.boxcovering(bboxes, 1, xs)\n",
    "\tycovers = Lar.boxcovering(bboxes, 2, ys)\n",
    "\tcovers = [intersect(pair...) for pair in zip(xcovers,ycovers)]\n",
    "\n",
    "\tif dim == 3\n",
    "\t\tzboxdict = Lar.coordintervals(3,bboxes)\n",
    "\t\tzs = IntervalTrees.IntervalMap{Float64, Array}()\n",
    "\t\tfor (key,boxset) in zboxdict\n",
    "\t\t\tzs[tuple(key...)] = boxset\n",
    "\t\tend\n",
    "\t\tzcovers = Lar.boxcovering(bboxes, 3, zs)\n",
    "\t\tcovers = [intersect(pair...) for pair in zip(zcovers,covers)]\n",
    "\tend\n",
    "\t# remove each cell from its cover\n",
    "\tfor k=1:length(covers)\n",
    "\t\tcovers[k] = setdiff(covers[k],[k])\n",
    "\tend\n",
    "\treturn covers\n",
    "end\n"
   ]
  },
  {
   "cell_type": "code",
   "execution_count": 27,
   "id": "ce84e36f",
   "metadata": {},
   "outputs": [
    {
     "name": "stdout",
     "output_type": "stream",
     "text": [
      "  106.521 μs (1102 allocations: 49.08 KiB)\n"
     ]
    },
    {
     "data": {
      "text/plain": [
       "5-element Vector{Vector{Int64}}:\n",
       " [4, 5, 2]\n",
       " [1, 3, 5]\n",
       " [4, 5, 2]\n",
       " [1, 3, 5]\n",
       " [4, 1, 3, 2]"
      ]
     },
     "metadata": {},
     "output_type": "display_data"
    }
   ],
   "source": [
    "@btime spaceindex((V,EV))       #108,350 μs"
   ]
  },
  {
   "cell_type": "markdown",
   "id": "c9fdc4f6",
   "metadata": {},
   "source": [
    "Attraverso la macro  **@code_warntype** abbiamo scoperto che spaceIndex è type-unstable"
   ]
  },
  {
   "cell_type": "markdown",
   "id": "2e021eb6",
   "metadata": {},
   "source": [
    "### Versione parallelizzata di SpaceIndex"
   ]
  },
  {
   "cell_type": "code",
   "execution_count": 28,
   "id": "ec7cf7d3",
   "metadata": {},
   "outputs": [
    {
     "data": {
      "text/plain": [
       "spaceindexMOD (generic function with 1 method)"
      ]
     },
     "metadata": {},
     "output_type": "display_data"
    }
   ],
   "source": [
    "using LinearAlgebraicRepresentation\n",
    "Lar = LinearAlgebraicRepresentation\n",
    "using IntervalTrees\n",
    "\n",
    "function spaceindexMOD(model::Lar.LAR)::Array{Array{Int,1},1}\n",
    "    V,CV = model[1:2]\n",
    "    dim = size(V,1)\n",
    "    \n",
    "    cellpoints = [ V[:,CV[k]]::Lar.Points for k=1:length(CV) ]\t\t    #calcola le celle\n",
    "    bboxes = [hcat(boundingboxMOD(cell)...) for cell in cellpoints]    #calcola i boundingbox delle celle\n",
    "    \n",
    "    xboxdict = Threads.@spawn coordintervals(1,bboxes)\n",
    "    yboxdict = Threads.@spawn coordintervals(2,bboxes)\n",
    "\n",
    "    # xs,ys sono di tipo IntervalTree\n",
    "    xs = Threads.@spawn createIntervalTree(fetch(xboxdict))\n",
    "    ys = Threads.@spawn createIntervalTree(fetch(yboxdict))\n",
    "    \n",
    "    xcovers = Threads.@spawn boxcoveringMOD(bboxes, 1, fetch(xs))                        #lista delle intersezioni dei bb sulla coordinata x\n",
    "    ycovers = Threads.@spawn boxcoveringMOD(bboxes, 2, fetch(ys))                        #lista delle intersezioni dei bb sulla coordinata x\n",
    "    covers = [intersect(pair...) for pair in zip(fetch(xcovers),fetch(ycovers))]      #lista delle intersezioni dei bb su entrambe le coordinate\n",
    "\n",
    "    if dim == 3\n",
    "        zboxdict = Threads.@spawn coordintervals(3,bboxes)\n",
    "        zs = Threads.@spawn createIntervalTree(fetch(zboxdict))\n",
    "        zcovers = Threads.@spawn boxcoveringMOD(bboxes, 3, fetch(zs))\n",
    "        covers = [intersect(pair...) for pair in zip(fetch(zcovers),covers)]\n",
    "    end\n",
    "    \n",
    "    removeIntersection(covers)       #rimozione delle intersezioni con se stesso\n",
    "    return covers\n",
    "end"
   ]
  },
  {
   "cell_type": "code",
   "execution_count": 29,
   "id": "e8b57f8b",
   "metadata": {},
   "outputs": [
    {
     "name": "stdout",
     "output_type": "stream",
     "text": [
      "  162.880 μs (538 allocations: 37.27 KiB)\n"
     ]
    },
    {
     "data": {
      "text/plain": [
       "5-element Vector{Vector{Int64}}:\n",
       " [4, 5, 2]\n",
       " [1, 3, 5]\n",
       " [4, 5, 2]\n",
       " [1, 3, 5]\n",
       " [4, 1, 3, 2]"
      ]
     },
     "metadata": {},
     "output_type": "display_data"
    }
   ],
   "source": [
    "@btime spaceindexMOD((V, EV))       #108,182 μs"
   ]
  },
  {
   "cell_type": "markdown",
   "id": "66882edf",
   "metadata": {},
   "source": [
    "Dal code_warntype di spaceIndex emerge l'instabilità riguardo alcune variabili e non dell'intero metodo. Si procede nell'analisi delle singole funzioni mono-tasks."
   ]
  },
  {
   "cell_type": "markdown",
   "id": "a8a07b80",
   "metadata": {},
   "source": [
    "## TEST"
   ]
  },
  {
   "cell_type": "code",
   "execution_count": 34,
   "id": "b15dedb7",
   "metadata": {},
   "outputs": [
    {
     "name": "stdout",
     "output_type": "stream",
     "text": [
      "\u001b[0m\u001b[1mTest Summary:                | \u001b[22m\u001b[32m\u001b[1mPass  \u001b[22m\u001b[39m\u001b[36m\u001b[1mTotal\u001b[22m\u001b[39m\n",
      "Refactoring spaceindex tests | \u001b[32m   1  \u001b[39m\u001b[36m    1\u001b[39m\n"
     ]
    },
    {
     "data": {
      "text/plain": [
       "Test.DefaultTestSet(\"Refactoring spaceindex tests\", Any[], 1, false, false)"
      ]
     },
     "metadata": {},
     "output_type": "display_data"
    }
   ],
   "source": [
    "using Test\n",
    "\n",
    "@testset \"Refactoring spaceindex tests\" begin\n",
    "    V,(VV,EV,FV) = Lar.cuboidGrid([2,1],true)\n",
    "    EV = [[1, 2], [3, 4], [5, 6], [1, 3], [2, 4], [3, 5], [4, 6]]\n",
    "    cellpoints = [ V[:,EV[k]]::Lar.Points for k=1:length(EV) ]\n",
    "    bboxes = [hcat(Lar.boundingbox(cell)...) for cell in cellpoints]\n",
    "    xboxdict = Lar.coordintervals(1,bboxes)\n",
    "    yboxdict = Lar.coordintervals(2,bboxes)\n",
    "    xs = IntervalTrees.IntervalMap{Float64, Array}()\n",
    "    for (key,boxset) in xboxdict\n",
    "        xs[tuple(key...)] = boxset\n",
    "    end\n",
    "    ys = IntervalTrees.IntervalMap{Float64, Array}()\n",
    "    for (key,boxset) in yboxdict\n",
    "        ys[tuple(key...)] = boxset\n",
    "    end\n",
    "    xcovers = Lar.boxcovering(bboxes, 1, xs)\n",
    "    ycovers = Lar.boxcovering(bboxes, 2, ys)\n",
    "    covers = [intersect(pair...) for pair in zip(xcovers,ycovers)]\n",
    "    \n",
    "    @test covers == Array{Int64,1}[[1, 4, 5], [4, 5, 2, 6, 7], [6, 7, 3], \n",
    "        [1, 4, 2, 6], [1, 5, 2, 7], [4, 2, 6, 3], [5, 2, 7, 3]]\n",
    "end"
   ]
  },
  {
   "cell_type": "markdown",
   "id": "e9ba4e5e",
   "metadata": {},
   "source": [
    "![test di spaceindex](https://github.com/MarcoCap13/LARSplitting2D/blob/main/docs/test/spaceindex_test.png?raw=true)"
   ]
  },
  {
   "cell_type": "markdown",
   "id": "b76e6ea5",
   "metadata": {},
   "source": [
    "### Benchmark della funzione iniziale e modificata"
   ]
  },
  {
   "cell_type": "markdown",
   "id": "7e9b060e",
   "metadata": {},
   "source": [
    "funzione iniziale:"
   ]
  },
  {
   "cell_type": "code",
   "execution_count": 35,
   "id": "ee914d04",
   "metadata": {},
   "outputs": [
    {
     "data": {
      "text/plain": [
       "BenchmarkTools.Trial: 10000 samples with 1 evaluation.\n",
       " Range \u001b[90m(\u001b[39m\u001b[36m\u001b[1mmin\u001b[22m\u001b[39m … \u001b[35mmax\u001b[39m\u001b[90m):  \u001b[39m\u001b[36m\u001b[1m163.309 μs\u001b[22m\u001b[39m … \u001b[35m 34.021 ms\u001b[39m  \u001b[90m┊\u001b[39m GC \u001b[90m(\u001b[39mmin … max\u001b[90m): \u001b[39m0.00% … 0.00%\n",
       " Time  \u001b[90m(\u001b[39m\u001b[34m\u001b[1mmedian\u001b[22m\u001b[39m\u001b[90m):     \u001b[39m\u001b[34m\u001b[1m186.264 μs               \u001b[22m\u001b[39m\u001b[90m┊\u001b[39m GC \u001b[90m(\u001b[39mmedian\u001b[90m):    \u001b[39m0.00%\n",
       " Time  \u001b[90m(\u001b[39m\u001b[32m\u001b[1mmean\u001b[22m\u001b[39m ± \u001b[32mσ\u001b[39m\u001b[90m):   \u001b[39m\u001b[32m\u001b[1m293.186 μs\u001b[22m\u001b[39m ± \u001b[32m659.973 μs\u001b[39m  \u001b[90m┊\u001b[39m GC \u001b[90m(\u001b[39mmean ± σ\u001b[90m):  \u001b[39m2.53% ± 2.50%\n",
       "\n",
       "  \u001b[39m█\u001b[34m▅\u001b[39m\u001b[39m▃\u001b[39m▃\u001b[32m▂\u001b[39m\u001b[39m▁\u001b[39m▁\u001b[39m \u001b[39m \u001b[39m \u001b[39m \u001b[39m \u001b[39m \u001b[39m \u001b[39m \u001b[39m \u001b[39m \u001b[39m \u001b[39m \u001b[39m \u001b[39m \u001b[39m \u001b[39m \u001b[39m \u001b[39m \u001b[39m \u001b[39m \u001b[39m \u001b[39m \u001b[39m \u001b[39m \u001b[39m \u001b[39m \u001b[39m \u001b[39m \u001b[39m \u001b[39m \u001b[39m \u001b[39m \u001b[39m \u001b[39m \u001b[39m \u001b[39m \u001b[39m \u001b[39m \u001b[39m \u001b[39m \u001b[39m \u001b[39m \u001b[39m \u001b[39m \u001b[39m \u001b[39m \u001b[39m \u001b[39m \u001b[39m \u001b[39m \u001b[39m \u001b[39m \u001b[39m \u001b[39m \u001b[39m \u001b[39m▁\n",
       "  \u001b[39m█\u001b[34m█\u001b[39m\u001b[39m█\u001b[39m█\u001b[32m█\u001b[39m\u001b[39m█\u001b[39m█\u001b[39m█\u001b[39m█\u001b[39m▇\u001b[39m▇\u001b[39m▇\u001b[39m▇\u001b[39m▇\u001b[39m▇\u001b[39m▆\u001b[39m▆\u001b[39m▆\u001b[39m▆\u001b[39m▅\u001b[39m▆\u001b[39m▅\u001b[39m▆\u001b[39m▅\u001b[39m▅\u001b[39m▄\u001b[39m▄\u001b[39m▅\u001b[39m▅\u001b[39m▅\u001b[39m▅\u001b[39m▄\u001b[39m▅\u001b[39m▅\u001b[39m▃\u001b[39m▅\u001b[39m▄\u001b[39m▅\u001b[39m▄\u001b[39m▅\u001b[39m▃\u001b[39m▅\u001b[39m▅\u001b[39m▃\u001b[39m▃\u001b[39m▄\u001b[39m▃\u001b[39m▃\u001b[39m▅\u001b[39m▄\u001b[39m▅\u001b[39m▄\u001b[39m▃\u001b[39m▃\u001b[39m▄\u001b[39m▃\u001b[39m▄\u001b[39m▃\u001b[39m▂\u001b[39m▃\u001b[39m▃\u001b[39m \u001b[39m█\n",
       "  163 μs\u001b[90m        \u001b[39m\u001b[90mHistogram: \u001b[39m\u001b[90m\u001b[1mlog(\u001b[22m\u001b[39m\u001b[90mfrequency\u001b[39m\u001b[90m\u001b[1m)\u001b[22m\u001b[39m\u001b[90m by time\u001b[39m       2.33 ms \u001b[0m\u001b[1m<\u001b[22m\n",
       "\n",
       " Memory estimate\u001b[90m: \u001b[39m\u001b[33m37.27 KiB\u001b[39m, allocs estimate\u001b[90m: \u001b[39m\u001b[33m538\u001b[39m."
      ]
     },
     "metadata": {},
     "output_type": "display_data"
    }
   ],
   "source": [
    "@benchmark spaceindex((V, EV))"
   ]
  },
  {
   "cell_type": "markdown",
   "id": "708553bb",
   "metadata": {},
   "source": [
    "funzione modificato:"
   ]
  },
  {
   "cell_type": "code",
   "execution_count": 36,
   "id": "224c2b00",
   "metadata": {},
   "outputs": [
    {
     "data": {
      "text/plain": [
       "BenchmarkTools.Trial: 10000 samples with 1 evaluation.\n",
       " Range \u001b[90m(\u001b[39m\u001b[36m\u001b[1mmin\u001b[22m\u001b[39m … \u001b[35mmax\u001b[39m\u001b[90m):  \u001b[39m\u001b[36m\u001b[1m107.142 μs\u001b[22m\u001b[39m … \u001b[35m 12.075 ms\u001b[39m  \u001b[90m┊\u001b[39m GC \u001b[90m(\u001b[39mmin … max\u001b[90m): \u001b[39m0.00% … 96.96%\n",
       " Time  \u001b[90m(\u001b[39m\u001b[34m\u001b[1mmedian\u001b[22m\u001b[39m\u001b[90m):     \u001b[39m\u001b[34m\u001b[1m111.413 μs               \u001b[22m\u001b[39m\u001b[90m┊\u001b[39m GC \u001b[90m(\u001b[39mmedian\u001b[90m):    \u001b[39m0.00%\n",
       " Time  \u001b[90m(\u001b[39m\u001b[32m\u001b[1mmean\u001b[22m\u001b[39m ± \u001b[32mσ\u001b[39m\u001b[90m):   \u001b[39m\u001b[32m\u001b[1m143.821 μs\u001b[22m\u001b[39m ± \u001b[32m316.102 μs\u001b[39m  \u001b[90m┊\u001b[39m GC \u001b[90m(\u001b[39mmean ± σ\u001b[90m):  \u001b[39m6.10% ±  2.91%\n",
       "\n",
       "  \u001b[39m█\u001b[34m▅\u001b[39m\u001b[39m▃\u001b[39m▁\u001b[39m \u001b[32m \u001b[39m\u001b[39m \u001b[39m \u001b[39m \u001b[39m \u001b[39m \u001b[39m \u001b[39m \u001b[39m \u001b[39m \u001b[39m▁\u001b[39m \u001b[39m \u001b[39m \u001b[39m \u001b[39m \u001b[39m \u001b[39m \u001b[39m \u001b[39m \u001b[39m \u001b[39m \u001b[39m \u001b[39m \u001b[39m \u001b[39m \u001b[39m \u001b[39m \u001b[39m \u001b[39m \u001b[39m \u001b[39m \u001b[39m \u001b[39m \u001b[39m \u001b[39m \u001b[39m \u001b[39m \u001b[39m \u001b[39m \u001b[39m \u001b[39m \u001b[39m \u001b[39m \u001b[39m \u001b[39m \u001b[39m \u001b[39m \u001b[39m \u001b[39m \u001b[39m \u001b[39m \u001b[39m \u001b[39m \u001b[39m \u001b[39m \u001b[39m \u001b[39m▁\n",
       "  \u001b[39m█\u001b[34m█\u001b[39m\u001b[39m█\u001b[39m█\u001b[39m█\u001b[32m█\u001b[39m\u001b[39m█\u001b[39m▇\u001b[39m█\u001b[39m▇\u001b[39m▇\u001b[39m▇\u001b[39m▇\u001b[39m█\u001b[39m█\u001b[39m█\u001b[39m█\u001b[39m█\u001b[39m█\u001b[39m█\u001b[39m▇\u001b[39m█\u001b[39m▇\u001b[39m▇\u001b[39m▇\u001b[39m▇\u001b[39m▇\u001b[39m▇\u001b[39m▇\u001b[39m▆\u001b[39m▆\u001b[39m▆\u001b[39m▅\u001b[39m▆\u001b[39m▅\u001b[39m▆\u001b[39m▆\u001b[39m▆\u001b[39m▅\u001b[39m▅\u001b[39m▅\u001b[39m▅\u001b[39m▅\u001b[39m▅\u001b[39m▅\u001b[39m▆\u001b[39m▅\u001b[39m▅\u001b[39m▆\u001b[39m▅\u001b[39m▄\u001b[39m▅\u001b[39m▅\u001b[39m▅\u001b[39m▄\u001b[39m▄\u001b[39m▄\u001b[39m▄\u001b[39m▅\u001b[39m▁\u001b[39m▄\u001b[39m \u001b[39m█\n",
       "  107 μs\u001b[90m        \u001b[39m\u001b[90mHistogram: \u001b[39m\u001b[90m\u001b[1mlog(\u001b[22m\u001b[39m\u001b[90mfrequency\u001b[39m\u001b[90m\u001b[1m)\u001b[22m\u001b[39m\u001b[90m by time\u001b[39m        562 μs \u001b[0m\u001b[1m<\u001b[22m\n",
       "\n",
       " Memory estimate\u001b[90m: \u001b[39m\u001b[33m49.08 KiB\u001b[39m, allocs estimate\u001b[90m: \u001b[39m\u001b[33m1102\u001b[39m."
      ]
     },
     "metadata": {},
     "output_type": "display_data"
    }
   ],
   "source": [
    "@benchmark spaceindexMOD((V, EV))"
   ]
  }
 ],
 "metadata": {
  "kernelspec": {
   "display_name": "Julia 1.7.2",
   "language": "julia",
   "name": "julia-1.7"
  },
  "language_info": {
   "file_extension": ".jl",
   "mimetype": "application/julia",
   "name": "julia",
   "version": "1.7.2"
  }
 },
 "nbformat": 4,
 "nbformat_minor": 5
}
