{
 "cells": [
  {
   "cell_type": "markdown",
   "id": "224e60fe",
   "metadata": {},
   "source": [
    "## Analisi e revisione della classe fragface"
   ]
  },
  {
   "cell_type": "code",
   "execution_count": 5,
   "id": "8a1144ed",
   "metadata": {},
   "outputs": [],
   "source": [
    "using LinearAlgebraicRepresentation\n",
    "Lar = LinearAlgebraicRepresentation\n",
    "using LinearAlgebra\n",
    "using BenchmarkTools\n",
    "using SparseArrays\n",
    "\n",
    "import SparseArrays.findnz\n"
   ]
  },
  {
   "cell_type": "markdown",
   "id": "26f92e98",
   "metadata": {},
   "source": [
    "### Dati in input"
   ]
  },
  {
   "cell_type": "code",
   "execution_count": 8,
   "id": "bd220caf",
   "metadata": {},
   "outputs": [
    {
     "ename": "UndefVarError",
     "evalue": "UndefVarError: coboundary_0 not defined",
     "output_type": "error",
     "traceback": [
      "UndefVarError: coboundary_0 not defined\n",
      "\n",
      "Stacktrace:\n",
      "  [1] getproperty(x::Module, f::Symbol)\n",
      "    @ Base ./Base.jl:35\n",
      "  [2] top-level scope\n",
      "    @ ~/Desktop/ProgettoCalcoloGIT/LAR SPLITTING 2D/notebook/fragfaceAnalisi.ipynb:46\n",
      "  [3] eval\n",
      "    @ ./boot.jl:373 [inlined]\n",
      "  [4] include_string(mapexpr::typeof(REPL.softscope), mod::Module, code::String, filename::String)\n",
      "    @ Base ./loading.jl:1196\n",
      "  [5] #invokelatest#2\n",
      "    @ ./essentials.jl:716 [inlined]\n",
      "  [6] invokelatest\n",
      "    @ ./essentials.jl:714 [inlined]\n",
      "  [7] (::VSCodeServer.var\"#164#165\"{VSCodeServer.NotebookRunCellArguments, String})()\n",
      "    @ VSCodeServer ~/.vscode/extensions/julialang.language-julia-1.6.17/scripts/packages/VSCodeServer/src/serve_notebook.jl:19\n",
      "  [8] withpath(f::VSCodeServer.var\"#164#165\"{VSCodeServer.NotebookRunCellArguments, String}, path::String)\n",
      "    @ VSCodeServer ~/.vscode/extensions/julialang.language-julia-1.6.17/scripts/packages/VSCodeServer/src/repl.jl:184\n",
      "  [9] notebook_runcell_request(conn::VSCodeServer.JSONRPC.JSONRPCEndpoint{Base.PipeEndpoint, Base.PipeEndpoint}, params::VSCodeServer.NotebookRunCellArguments)\n",
      "    @ VSCodeServer ~/.vscode/extensions/julialang.language-julia-1.6.17/scripts/packages/VSCodeServer/src/serve_notebook.jl:13\n",
      " [10] dispatch_msg(x::VSCodeServer.JSONRPC.JSONRPCEndpoint{Base.PipeEndpoint, Base.PipeEndpoint}, dispatcher::VSCodeServer.JSONRPC.MsgDispatcher, msg::Dict{String, Any})\n",
      "    @ VSCodeServer.JSONRPC ~/.vscode/extensions/julialang.language-julia-1.6.17/scripts/packages/JSONRPC/src/typed.jl:67\n",
      " [11] serve_notebook(pipename::String, outputchannel_logger::Base.CoreLogging.SimpleLogger; crashreporting_pipename::String)\n",
      "    @ VSCodeServer ~/.vscode/extensions/julialang.language-julia-1.6.17/scripts/packages/VSCodeServer/src/serve_notebook.jl:136\n",
      " [12] top-level scope\n",
      "    @ ~/.vscode/extensions/julialang.language-julia-1.6.17/scripts/notebook/notebook.jl:32\n",
      " [13] include(mod::Module, _path::String)\n",
      "    @ Base ./Base.jl:418\n",
      " [14] exec_options(opts::Base.JLOptions)\n",
      "    @ Base ./client.jl:292\n",
      " [15] _start()\n",
      "    @ Base ./client.jl:495"
     ]
    }
   ],
   "source": [
    "numThet = 60\n",
    "b=[[(-4.0*numThet), (4.0*numThet)+20, ((4.0*numThet)/2), ((4.0*numThet)/2)],\n",
    "[10.0, 10.0, -40.0, 5.0],\n",
    "[0.0, 0.0, 0.0, -1.0]]\n",
    "EV=[[1,2],[1,3],[1,4],[2,3],[2,4],[3,4]]\n",
    "FV=[[1,2,3],[1,2,4],[1,3,4],[2,3,4]]\n",
    "CV=[[1,2,3,4]]\n",
    "\n",
    "for i=2:(numThet+1)\n",
    "    push!(b[1],(1.0 + i*4))\n",
    "    push!(b[2],(1.0))\n",
    "    push!(b[3],(-0.5))\n",
    "\n",
    "    push!(b[1],(4.0 + i*4))\n",
    "    push!(b[2],(1.0))\n",
    "    push!(b[3],(-0.5))\n",
    "\n",
    "    push!(b[1],(2.5 + i*4))\n",
    "    push!(b[2],(4.0))\n",
    "    push!(b[3],(-0.5))\n",
    "\n",
    "    push!(b[1],(2.5 + i*4))\n",
    "    push!(b[2],(2.5))\n",
    "    push!(b[3],(0.5))\n",
    "\n",
    "    push!(EV,[1+4*(i-1),2+4*(i-1)])\n",
    "    push!(EV,[1+4*(i-1),3+4*(i-1)])\n",
    "    push!(EV,[1+4*(i-1),4+4*(i-1)])\n",
    "    push!(EV,[2+4*(i-1),3+4*(i-1)])\n",
    "    push!(EV,[2+4*(i-1),4+4*(i-1)])\n",
    "    push!(EV,[3+4*(i-1),4+4*(i-1)])\n",
    "\n",
    "    push!(FV,[1+4*(i-1),2+4*(i-1),3+4*(i-1)])\n",
    "    push!(FV,[1+4*(i-1),2+4*(i-1),4+4*(i-1)])\n",
    "    push!(FV,[1+4*(i-1),3+4*(i-1),4+4*(i-1)])\n",
    "    push!(FV,[2+4*(i-1),3+4*(i-1),4+4*(i-1)])\n",
    "\n",
    "    push!(CV,[1+4*(i-1),2+4*(i-1),3+4*(i-1),4+4*(i-1)])\n",
    "end\n",
    "V = permutedims(reshape(hcat(b...), (length(b[1]), length(b))))\n",
    "sp_idx = Lar.spaceindex((V,FV))\n",
    "\n",
    "copEV = Lar.coboundary_0(EV::Lar.Cells)\n",
    "copFE = Lar.coboundary_1(V, FV::Lar.Cells, EV::Lar.Cells)\n",
    "V = convert(Array{Float64,2},V') \n",
    "sigma=1 #Faccia che interseca tutti i 240 tetraedri"
   ]
  },
  {
   "cell_type": "markdown",
   "id": "f25c7a59",
   "metadata": {},
   "source": [
    "### Funzione face_mapping"
   ]
  },
  {
   "cell_type": "code",
   "execution_count": 50,
   "id": "2d128f65",
   "metadata": {},
   "outputs": [
    {
     "data": {
      "text/plain": [
       "face_mapping (generic function with 2 methods)"
      ]
     },
     "metadata": {},
     "output_type": "display_data"
    }
   ],
   "source": [
    "function face_mapping(V, FV, sigma, err=10e-8)\n",
    "\tvs = FV[sigma]; i = 1\n",
    "\t# compute affinely independent triple\n",
    "\tn = length(vs)\n",
    "\tsucc(i) = i % n + 1\n",
    "\ta = LinearAlgebra.normalize(V[:,vs[succ(i)]] - V[:,vs[i]]) # Lar.normalize\n",
    "\tb = LinearAlgebra.normalize(V[:,vs[succ(succ(i))]] - V[:,vs[i]]) # Lar.normalize\n",
    "\tc = LinearAlgebra.cross(a,b)\n",
    "\twhile (-err < det([a b c]) < err)\n",
    "\t\ti += 1\n",
    "\t\ta = LinearAlgebra.normalize(V[:,vs[succ(i)]] - V[:,vs[i]])\n",
    "\t\tb = LinearAlgebra.normalize(V[:,vs[succ(succ(i))]] - V[:,vs[i]])\n",
    "\t\tc = LinearAlgebra.cross(a,b)\n",
    "\tend\n",
    "\t# sigma translation\n",
    "\tT = Lar.t(-V[:,vs[succ(i)]]...)\n",
    "\tW = T * [ V[:,vs] ; ones(1,length(vs)) ]\n",
    "\tt_vs = W[1:3,:]\n",
    "\t# translated sigma rotation\n",
    "\tr1,r2,r3 = t_vs[:,i], t_vs[:,succ(succ(i))], cross(t_vs[:,i], t_vs[:,succ(succ(i))])\n",
    "\tR = Matrix{Float64}(I, 4, 4)\n",
    "\tR[1:3,1:3] = inv([r1 r2 r3])\n",
    "\tmapping = R * T\n",
    "\treturn mapping\n",
    "end"
   ]
  },
  {
   "cell_type": "code",
   "execution_count": 54,
   "id": "406ccb24",
   "metadata": {},
   "outputs": [
    {
     "ename": "BoundsError",
     "evalue": "BoundsError: attempt to access 3×1 Matrix{Vector{Float64}} at index [1:3, 2]",
     "output_type": "error",
     "traceback": [
      "BoundsError: attempt to access 3×1 Matrix{Vector{Float64}} at index [1:3, 2]\n",
      "\n",
      "Stacktrace:\n",
      "  [1] throw_boundserror(A::Matrix{Vector{Float64}}, I::Tuple{Base.Slice{Base.OneTo{Int64}}, Int64})\n",
      "    @ Base ./abstractarray.jl:691\n",
      "  [2] checkbounds\n",
      "    @ ./abstractarray.jl:656 [inlined]\n",
      "  [3] _getindex\n",
      "    @ ./multidimensional.jl:838 [inlined]\n",
      "  [4] getindex\n",
      "    @ ./abstractarray.jl:1218 [inlined]\n",
      "  [5] face_mapping(V::Matrix{Vector{Float64}}, FV::Vector{Vector{Int64}}, sigma::Int64, err::Float64)\n",
      "    @ Main ~/Desktop/ProgettoCalcoloGIT/LAR SPLITTING 2D/notebook/fragfaceAnalisi.ipynb:6\n",
      "  [6] face_mapping(V::Matrix{Vector{Float64}}, FV::Vector{Vector{Int64}}, sigma::Int64)\n",
      "    @ Main ~/Desktop/ProgettoCalcoloGIT/LAR SPLITTING 2D/notebook/fragfaceAnalisi.ipynb:2\n",
      "  [7] var\"##core#464\"()\n",
      "    @ Main ~/.julia/packages/BenchmarkTools/7xSXH/src/execution.jl:489\n",
      "  [8] var\"##sample#465\"(::Tuple{}, __params::BenchmarkTools.Parameters)\n",
      "    @ Main ~/.julia/packages/BenchmarkTools/7xSXH/src/execution.jl:495\n",
      "  [9] _run(b::BenchmarkTools.Benchmark, p::BenchmarkTools.Parameters; verbose::Bool, pad::String, kwargs::Base.Pairs{Symbol, Integer, NTuple{4, Symbol}, NamedTuple{(:samples, :evals, :gctrial, :gcsample), Tuple{Int64, Int64, Bool, Bool}}})\n",
      "    @ BenchmarkTools ~/.julia/packages/BenchmarkTools/7xSXH/src/execution.jl:99\n",
      " [10] #invokelatest#2\n",
      "    @ ./essentials.jl:718 [inlined]\n",
      " [11] #run_result#45\n",
      "    @ ~/.julia/packages/BenchmarkTools/7xSXH/src/execution.jl:34 [inlined]\n",
      " [12] run(b::BenchmarkTools.Benchmark, p::BenchmarkTools.Parameters; progressid::Nothing, nleaves::Float64, ndone::Float64, kwargs::Base.Pairs{Symbol, Integer, NTuple{5, Symbol}, NamedTuple{(:verbose, :samples, :evals, :gctrial, :gcsample), Tuple{Bool, Int64, Int64, Bool, Bool}}})\n",
      "    @ BenchmarkTools ~/.julia/packages/BenchmarkTools/7xSXH/src/execution.jl:117\n",
      " [13] #warmup#54\n",
      "    @ ~/.julia/packages/BenchmarkTools/7xSXH/src/execution.jl:169 [inlined]\n",
      " [14] warmup(item::BenchmarkTools.Benchmark)\n",
      "    @ BenchmarkTools ~/.julia/packages/BenchmarkTools/7xSXH/src/execution.jl:169\n",
      " [15] top-level scope\n",
      "    @ ~/.julia/packages/BenchmarkTools/7xSXH/src/execution.jl:575\n",
      " [16] eval\n",
      "    @ ./boot.jl:373 [inlined]\n",
      " [17] include_string(mapexpr::typeof(REPL.softscope), mod::Module, code::String, filename::String)\n",
      "    @ Base ./loading.jl:1196\n",
      " [18] #invokelatest#2\n",
      "    @ ./essentials.jl:716 [inlined]\n",
      " [19] invokelatest\n",
      "    @ ./essentials.jl:714 [inlined]\n",
      " [20] (::VSCodeServer.var\"#164#165\"{VSCodeServer.NotebookRunCellArguments, String})()\n",
      "    @ VSCodeServer ~/.vscode/extensions/julialang.language-julia-1.6.17/scripts/packages/VSCodeServer/src/serve_notebook.jl:19\n",
      " [21] withpath(f::VSCodeServer.var\"#164#165\"{VSCodeServer.NotebookRunCellArguments, String}, path::String)\n",
      "    @ VSCodeServer ~/.vscode/extensions/julialang.language-julia-1.6.17/scripts/packages/VSCodeServer/src/repl.jl:184\n",
      " [22] notebook_runcell_request(conn::VSCodeServer.JSONRPC.JSONRPCEndpoint{Base.PipeEndpoint, Base.PipeEndpoint}, params::VSCodeServer.NotebookRunCellArguments)\n",
      "    @ VSCodeServer ~/.vscode/extensions/julialang.language-julia-1.6.17/scripts/packages/VSCodeServer/src/serve_notebook.jl:13\n",
      " [23] dispatch_msg(x::VSCodeServer.JSONRPC.JSONRPCEndpoint{Base.PipeEndpoint, Base.PipeEndpoint}, dispatcher::VSCodeServer.JSONRPC.MsgDispatcher, msg::Dict{String, Any})\n",
      "    @ VSCodeServer.JSONRPC ~/.vscode/extensions/julialang.language-julia-1.6.17/scripts/packages/JSONRPC/src/typed.jl:67\n",
      " [24] serve_notebook(pipename::String, outputchannel_logger::Base.CoreLogging.SimpleLogger; crashreporting_pipename::String)\n",
      "    @ VSCodeServer ~/.vscode/extensions/julialang.language-julia-1.6.17/scripts/packages/VSCodeServer/src/serve_notebook.jl:136\n",
      " [25] top-level scope\n",
      "    @ ~/.vscode/extensions/julialang.language-julia-1.6.17/scripts/notebook/notebook.jl:32\n",
      " [26] include(mod::Module, _path::String)\n",
      "    @ Base ./Base.jl:418\n",
      " [27] exec_options(opts::Base.JLOptions)\n",
      "    @ Base ./client.jl:292\n",
      " [28] _start()\n",
      "    @ Base ./client.jl:495"
     ]
    }
   ],
   "source": [
    "@btime face_mapping(V,FV,sigma)"
   ]
  },
  {
   "cell_type": "markdown",
   "id": "06e2dbd3",
   "metadata": {},
   "source": [
    "### Funzione sigmamodel"
   ]
  },
  {
   "cell_type": "code",
   "execution_count": 55,
   "id": "4cb4bb73",
   "metadata": {},
   "outputs": [
    {
     "data": {
      "text/plain": [
       "sigmamodel (generic function with 1 method)"
      ]
     },
     "metadata": {},
     "output_type": "display_data"
    }
   ],
   "source": [
    "function sigmamodel(V, copEV, FV, copFE, sigma, sp_idx)\n",
    "\tbigpi = sp_idx[sigma]\n",
    "\tQ = face_mapping(V', FV, sigma)\n",
    "\tEV = [findnz(copEV[e,:])[1] for e=1:size(copEV,1)]\n",
    "\tFE = [findnz(copFE[e,:])[1] for e=1:size(copFE,1)]\n",
    "\tsigma_edges = EV[FE[sigma]]\n",
    "\tsigma_verts = union(sigma_edges...)\n",
    "\tsigma_vdict =  Dict(zip(sigma_verts, 1:length(sigma_verts)))\n",
    "\tsigma_lines = [[sigma_vdict[v] for v in edge] for edge in sigma_edges]\n",
    "\t# sigma face on z=0 plane\n",
    "\tS = V'[:,sigma_verts] # sigma vertices\n",
    "\tZ = (Q * [S; ones(1,size(S,2))])[1:3,:] # sigma mapped in z=0\n",
    "\tv,ev = Z,sigma_lines\n",
    "\t#Plasm.view(Plasm.numbering(0.5)((v,[[[k] for k=1:size(v,2)],ev])))\n",
    "\treturn v,ev,Q\n",
    "end"
   ]
  },
  {
   "cell_type": "markdown",
   "id": "ad30dd19",
   "metadata": {},
   "source": [
    "### Funzione sigma_intersect"
   ]
  },
  {
   "cell_type": "code",
   "execution_count": 56,
   "id": "4eac14ba",
   "metadata": {},
   "outputs": [
    {
     "data": {
      "text/plain": [
       "sigma_intersect (generic function with 1 method)"
      ]
     },
     "metadata": {},
     "output_type": "display_data"
    }
   ],
   "source": [
    "function sigma_intersect(V, EV, FE, sigma, Q, bigpi)\n",
    "\tsigma_edges = EV[FE[sigma]]\n",
    "\tsigma_verts = union(sigma_edges...)\n",
    "\tsigma_vdict =  Dict(zip(sigma_verts, 1:length(sigma_verts)))\n",
    "\tsigma_lines = [[sigma_vdict[v] for v in edge] for edge in sigma_edges]\n",
    "\t# sigma face on z=0 plane\n",
    "\tS = V[:,sigma_verts] # sigma vertices\n",
    "\tZ = (Q * [S; ones(1,size(S,2))])[1:3,:] # sigma mapped in z=0\n",
    "\t#Plasm.view(Z, sigma_lines)\n",
    "\t# initialization of line storage (to be intersected)\n",
    "\tlinestore = [[Z[:,v1] Z[:,v2]] for (v1,v2) in sigma_lines]\n",
    "\tlinenum = length(sigma_lines)\n",
    "\t# reindexing of ∏(σ) chain\n",
    "\tbigpi_edges = [EV[fe] for fe in FE[bigpi]]\n",
    "\tbigpi_verts = union(union(bigpi_edges...)...)\n",
    "\tbigpi_vdict =  Dict(zip(bigpi_verts, 1:length(bigpi_verts)))\n",
    "\tbigpi_lines = [[sort([bigpi_vdict[v] for v in edge]) for edge in faceedges]\n",
    "\t\tfor faceedges in bigpi_edges]\n",
    "\t# bigpi trasformed in 3D according to Q mapping  ==> BUG ??!! :  NO\n",
    "\tP = V[:,bigpi_verts] # bigpi vertices\n",
    "\tW = (Q * [P; ones(1,size(P,2))])[1:3,:] # bigpi mapped by Q\n",
    "\t#Plasm.view(W, union(bigpi_lines...))\n",
    "\t# filter on bigpi_lines that do not cross z=0\n",
    "\tfiltered_edges = [[[v1,v2] for (v1,v2) in face_lines\n",
    "\t\tif (sign(W[3,v1]) * sign(W[3,v2])) <= 0]\n",
    "\t\t\tfor face_lines in bigpi_lines]\n",
    "\tfiltered_edges = [edge for edge in filtered_edges if edge!=[]]\n",
    "\t#Plasm.view(W, union(filtered_edges...))\n",
    "\t#Plasm.view(Plasm.numbering()((W,[[[k] for k=1:size(W,2)],union(filtered_edges...)])))\n",
    "\t# computation of ordered z=0 points by face\n",
    "\tfacepoints = []\n",
    "\tfor face in filtered_edges\n",
    "\t\tpoints = Array{Float64,1}[]\n",
    "\t\tfor (v1,v2) in face\n",
    "\t\t\t#v1[3] + (v2[3]-v1[3])*t = 0 # compute parameter of intersection point with z=0\n",
    "\t\t\tif (W[3,v2] - W[3,v1]) != 0\n",
    "\t\t\t\tt = -W[3,v1] / (W[3,v2] - W[3,v1])  # z1 + (z2-z1)*t = 0\n",
    "\t\t\t\tpoint = W[:,v1] + (W[:,v2] - W[:,v1]) * t\n",
    "\t\t\t\tpush!(points,point)\n",
    "\t\t\tend\n",
    "\t\tend\n",
    "\t\tif length(Set(points)) > 1\n",
    "\t\t\tpush!(facepoints,Set(points))\n",
    "\t\tend\n",
    "\t\t# TODO: linearly order facepoints[face]\n",
    "\tend\n",
    "\t#Plasm.view(Lar.Struct([ (hcat(collect(edge)...), [[1,2]]) for edge in facepoints ]))\n",
    "\t# compute z_lines\n",
    "\tc = collect\n",
    "\tz0_lines = [[[c(ps)[k] c(ps)[k+1]] for k=1:2:(length(ps)-1)] for ps in facepoints]\n",
    "\n",
    "\t# intersecting lines upload in linestore\n",
    "\tlinestore = [[Z[:,v1] Z[:,v2]] for (v1,v2) in sigma_lines]\n",
    "\tif z0_lines != []\n",
    "\t\tlinestore = append!(linestore, union(z0_lines...))\n",
    "\tend\n",
    "\treturn linestore,linenum\n",
    "end"
   ]
  },
  {
   "cell_type": "markdown",
   "id": "6208184c",
   "metadata": {},
   "source": [
    "### Funzione computeparams"
   ]
  },
  {
   "cell_type": "code",
   "execution_count": 57,
   "id": "30eeecde",
   "metadata": {},
   "outputs": [
    {
     "data": {
      "text/plain": [
       "computeparams (generic function with 1 method)"
      ]
     },
     "metadata": {},
     "output_type": "display_data"
    }
   ],
   "source": [
    "function computeparams(linestore,linenum)\n",
    "\tm = length(linestore)\n",
    "\tparams = [[] for i=1:m]\n",
    "\tfor h=1:(m-1)\n",
    "\t\t(x1,y1,x2,y2) = reshape(linestore[h][1:2,:],1,4)\n",
    "\t\tfor k=(h+1):m\n",
    "\t\t\t(x3,y3,x4,y4) = reshape(linestore[k][1:2,:],1,4)\n",
    "\t\t\t# intersect lines h,k\n",
    "\t\t\t# http://www.cs.swan.ac.uk/~cssimon/line_intersection.html\n",
    "\t\t\tdet = (x4-x3)*(y1-y2)-(x1-x2)*(y4-y3)\n",
    "\t\t\tα,β = 99,99\n",
    "\t\t\tif det != 0.0\n",
    "\t\t\t\ta = 1/det\n",
    "\t\t\t\tb = [y1-y2 x2-x1; y3-y4 x4-x3]  # x1-x2 => x2-x1 bug in the source link !!\n",
    "\t\t\t\tc = [x1-x3; y1-y3]\n",
    "\t\t\t\t(β,α) = a * b * c\n",
    "\t\t\telse\n",
    "\t\t\t\tif (y1==y2) == (y3==y4) # segments collinear\n",
    "\t\t\t\t\tα = -x1/(x2-x1)\n",
    "\t\t\t\t\tβ = -x3/(x4-x3)\n",
    "\t\t\t\telseif (x1==x2) == (x3==x4)\n",
    "\t\t\t\t\tα = -y1/(y2-y1)\n",
    "\t\t\t\t\tβ = -y3/(y4-y3)\n",
    "\t\t\t\telse\n",
    "\t\t\t\t\t # segments parallel: no intersection\n",
    "\t\t\t\t\t (β,α) = 999\n",
    "\t\t\t\tend\n",
    "\t\t\tend\n",
    "\t\t\tif 0<α<1 && 0<β<1\n",
    "\t\t\t\tpush!(params[h], α)\n",
    "\t\t\t\tpush!(params[k], β)\n",
    "\t\t\tend\n",
    "\t\tend\n",
    "\tend\n",
    "\tout = Array{Float64,1}[]\n",
    "\tfor line in params\n",
    "\t\tpush!(line, 0.0)\n",
    "\t\tpush!(line, 1.0)\n",
    "\t\tline = sort(collect(Set(line)))\n",
    "\t\tpush!(out, line)\n",
    "\tend\n",
    "\treturn out\n",
    "end"
   ]
  },
  {
   "cell_type": "markdown",
   "id": "14d5fb08",
   "metadata": {},
   "source": [
    "### Funzione fragface"
   ]
  },
  {
   "cell_type": "code",
   "execution_count": 103,
   "id": "c31326f8",
   "metadata": {},
   "outputs": [
    {
     "data": {
      "text/plain": [
       "fragface (generic function with 1 method)"
      ]
     },
     "metadata": {},
     "output_type": "display_data"
    }
   ],
   "source": [
    "import SparseArrays.findnz\n",
    "\n",
    "function fragface(V, cop_EV, cop_FE, sp_idx, sigma)\n",
    "\t# format conversion of function parameters\n",
    "\tEV = [findnz(cop_EV[k,:])[1] for k=1:size(cop_EV,1)]\n",
    "\tFE = [findnz(cop_FE[k,:])[1] for k=1:size(cop_FE,1)]\n",
    "\tFV = [collect(Set(cat(EV[e] for e in FE[f]))) for f=1:length(FE)]\n",
    "\tV = convert(Lar.Points, V')\n",
    "\n",
    "\tQ = face_mapping(V, FV, sigma)\n",
    "\tbigpi = sp_idx[sigma]\n",
    "\tlinestore, linenum = sigma_intersect(V, EV, FE, sigma, Q, bigpi)\n",
    "\tlineparams = computeparams(linestore,linenum)\n",
    "\tpairs = collect(zip(lineparams,linestore))\n",
    "\n",
    "\tlinepoints = Array{Array{Float64,1},1}[]\n",
    "\tnumber = 0\n",
    "\tfor (k,(params,line)) in enumerate(pairs)\n",
    "\t\tv1,v2 = line[1:2,1],line[1:2,2]\n",
    "\t\tif params==[0.0, 1.0]\n",
    "\t\t\tpoints = [v1,v2]\n",
    "\t\t\tif k<=linenum number += 1 end\n",
    "\t\telseif length(params)>2\n",
    "\t\t\tpoints = [v1+α*(v2-v1) for α ∈ params]\n",
    "\t\t\tif k<=linenum number += length(params)-1 end\n",
    "\t\tend\n",
    "\t\tpush!(linepoints,points)\n",
    "\tend\n",
    "\tverts = []\n",
    "\tedges = Array{Array{Int},1}()\n",
    "\toffset = 0\n",
    "\tfor (h,pointline) in enumerate(linepoints)\n",
    "\t\toffset\n",
    "\t\tappend!(verts, pointline)\n",
    "\t\tappend!(edges, [[k+offset,k+1+offset] for k=1:length(pointline)-1])\n",
    "\t\toffset = length(verts)\n",
    "\tend\n",
    "\t#verts = hcat(verts...)\n",
    "\t#verts = convert(Lar.Points,verts')\n",
    "\tcopEV = Lar.coboundary_0(convert(Lar.Cells,edges))\n",
    "\tcopFE = Lar.coboundary_1(verts,faces,edges)\n",
    "\treturn verts, copEV, copFE\n",
    "end"
   ]
  },
  {
   "cell_type": "code",
   "execution_count": 88,
   "id": "1c448eee",
   "metadata": {},
   "outputs": [
    {
     "data": {
      "text/plain": [
       "8×3 Matrix{Float64}:\n",
       " 0.0  0.0  0.0\n",
       " 0.0  1.0  0.0\n",
       " 1.0  1.0  0.0\n",
       " 1.0  0.0  0.0\n",
       " 0.0  0.0  1.0\n",
       " 0.0  1.0  1.0\n",
       " 1.0  1.0  1.0\n",
       " 1.0  0.0  1.0"
      ]
     },
     "metadata": {},
     "output_type": "display_data"
    }
   ],
   "source": [
    "V = Float64[\n",
    "    0 0 0; 0 1 0;\n",
    "    1 1 0; 1 0 0;\n",
    "    0 0 1; 0 1 1;\n",
    "    1 1 1; 1 0 1\n",
    "]"
   ]
  },
  {
   "cell_type": "code",
   "execution_count": 89,
   "id": "2c819b77",
   "metadata": {},
   "outputs": [
    {
     "data": {
      "text/plain": [
       "12×8 SparseMatrixCSC{Int8, Int64} with 24 stored entries:\n",
       " -1   1   ⋅   ⋅   ⋅   ⋅   ⋅  ⋅\n",
       "  ⋅  -1   1   ⋅   ⋅   ⋅   ⋅  ⋅\n",
       "  ⋅   ⋅  -1   1   ⋅   ⋅   ⋅  ⋅\n",
       " -1   ⋅   ⋅   1   ⋅   ⋅   ⋅  ⋅\n",
       " -1   ⋅   ⋅   ⋅   1   ⋅   ⋅  ⋅\n",
       "  ⋅  -1   ⋅   ⋅   ⋅   1   ⋅  ⋅\n",
       "  ⋅   ⋅  -1   ⋅   ⋅   ⋅   1  ⋅\n",
       "  ⋅   ⋅   ⋅  -1   ⋅   ⋅   ⋅  1\n",
       "  ⋅   ⋅   ⋅   ⋅  -1   1   ⋅  ⋅\n",
       "  ⋅   ⋅   ⋅   ⋅   ⋅  -1   1  ⋅\n",
       "  ⋅   ⋅   ⋅   ⋅   ⋅   ⋅  -1  1\n",
       "  ⋅   ⋅   ⋅   ⋅  -1   ⋅   ⋅  1"
      ]
     },
     "metadata": {},
     "output_type": "display_data"
    }
   ],
   "source": [
    "cop_EV = sparse(Int8[\n",
    "        -1  1  0  0  0  0  0  0;\n",
    "        0 -1  1  0  0  0  0  0;\n",
    "        0  0 -1  1  0  0  0  0;\n",
    "        -1  0  0  1  0  0  0  0;\n",
    "        -1  0  0  0  1  0  0  0;\n",
    "        0 -1  0  0  0  1  0  0;\n",
    "        0  0 -1  0  0  0  1  0;\n",
    "        0  0  0 -1  0  0  0  1;\n",
    "        0  0  0  0 -1  1  0  0;\n",
    "        0  0  0  0  0 -1  1  0;\n",
    "        0  0  0  0  0  0 -1  1;\n",
    "        0  0  0  0 -1  0  0  1;\n",
    "])"
   ]
  },
  {
   "cell_type": "code",
   "execution_count": 90,
   "id": "7494d4c4",
   "metadata": {},
   "outputs": [
    {
     "data": {
      "text/plain": [
       "6×12 SparseMatrixCSC{Int8, Int64} with 24 stored entries:\n",
       "  1   1   1  -1   ⋅   ⋅   ⋅   ⋅   ⋅   ⋅   ⋅   ⋅\n",
       "  ⋅   ⋅   ⋅   ⋅   ⋅   ⋅   ⋅   ⋅  -1  -1  -1   1\n",
       " -1   ⋅   ⋅   ⋅   1  -1   ⋅   ⋅   1   ⋅   ⋅   ⋅\n",
       "  ⋅  -1   ⋅   ⋅   ⋅   1  -1   ⋅   ⋅   1   ⋅   ⋅\n",
       "  ⋅   ⋅  -1   ⋅   ⋅   ⋅   1  -1   ⋅   ⋅   1   ⋅\n",
       "  ⋅   ⋅   ⋅   1  -1   ⋅   ⋅   1   ⋅   ⋅   ⋅  -1"
      ]
     },
     "metadata": {},
     "output_type": "display_data"
    }
   ],
   "source": [
    "cop_FE = sparse(Int8[\n",
    "        1  1  1 -1  0  0  0  0  0  0  0  0;\n",
    "        0  0  0  0  0  0  0  0 -1 -1 -1  1;\n",
    "        -1  0  0  0  1 -1  0  0  1  0  0  0;\n",
    "        0 -1  0  0  0  1 -1  0  0  1  0  0;\n",
    "        0  0 -1  0  0  0  1 -1  0  0  1  0;\n",
    "        0  0  0  1 -1  0  0  1  0  0  0 -1;\n",
    "])"
   ]
  },
  {
   "cell_type": "code",
   "execution_count": 104,
   "id": "ca33ec9d",
   "metadata": {},
   "outputs": [
    {
     "ename": "MethodError",
     "evalue": "MethodError: no method matching findnz(::Vector{Vector{Int64}})\nClosest candidates are:\n  findnz(!Matched::SparseArrays.AbstractSparseMatrixCSC{Tv, Ti}) where {Tv, Ti} at /Applications/Julia-1.7.app/Contents/Resources/julia/share/julia/stdlib/v1.7/SparseArrays/src/sparsematrix.jl:1538\n  findnz(!Matched::SparseVector{Tv, Ti}) where {Tv, Ti} at ~/Desktop/ProgettoCalcoloGIT/LAR SPLITTING 2D/notebook/fragfaceAnalisi.ipynb:3",
     "output_type": "error",
     "traceback": [
      "MethodError: no method matching findnz(::Vector{Vector{Int64}})\n",
      "Closest candidates are:\n",
      "  findnz(!Matched::SparseArrays.AbstractSparseMatrixCSC{Tv, Ti}) where {Tv, Ti} at /Applications/Julia-1.7.app/Contents/Resources/julia/share/julia/stdlib/v1.7/SparseArrays/src/sparsematrix.jl:1538\n",
      "  findnz(!Matched::SparseVector{Tv, Ti}) where {Tv, Ti} at ~/Desktop/ProgettoCalcoloGIT/LAR SPLITTING 2D/notebook/fragfaceAnalisi.ipynb:3\n",
      "\n",
      "Stacktrace:\n",
      "  [1] (::var\"#164#170\"{Vector{Vector{Int64}}})(k::Int64)\n",
      "    @ Main ./array.jl:0\n",
      "  [2] iterate\n",
      "    @ ./generator.jl:47 [inlined]\n",
      "  [3] collect\n",
      "    @ ./array.jl:724 [inlined]\n",
      "  [4] fragface(V::Matrix{Float64}, cop_EV::Vector{Vector{Int64}}, cop_FE::SparseMatrixCSC{Int8, Int64}, sp_idx::Vector{Int64}, sigma::Int64)\n",
      "    @ Main ~/Desktop/ProgettoCalcoloGIT/LAR SPLITTING 2D/notebook/fragfaceAnalisi.ipynb:5\n",
      "  [5] var\"##core#534\"()\n",
      "    @ Main ~/.julia/packages/BenchmarkTools/7xSXH/src/execution.jl:489\n",
      "  [6] var\"##sample#535\"(::Tuple{}, __params::BenchmarkTools.Parameters)\n",
      "    @ Main ~/.julia/packages/BenchmarkTools/7xSXH/src/execution.jl:495\n",
      "  [7] _run(b::BenchmarkTools.Benchmark, p::BenchmarkTools.Parameters; verbose::Bool, pad::String, kwargs::Base.Pairs{Symbol, Integer, NTuple{4, Symbol}, NamedTuple{(:samples, :evals, :gctrial, :gcsample), Tuple{Int64, Int64, Bool, Bool}}})\n",
      "    @ BenchmarkTools ~/.julia/packages/BenchmarkTools/7xSXH/src/execution.jl:99\n",
      "  [8] #invokelatest#2\n",
      "    @ ./essentials.jl:718 [inlined]\n",
      "  [9] #run_result#45\n",
      "    @ ~/.julia/packages/BenchmarkTools/7xSXH/src/execution.jl:34 [inlined]\n",
      " [10] run(b::BenchmarkTools.Benchmark, p::BenchmarkTools.Parameters; progressid::Nothing, nleaves::Float64, ndone::Float64, kwargs::Base.Pairs{Symbol, Integer, NTuple{5, Symbol}, NamedTuple{(:verbose, :samples, :evals, :gctrial, :gcsample), Tuple{Bool, Int64, Int64, Bool, Bool}}})\n",
      "    @ BenchmarkTools ~/.julia/packages/BenchmarkTools/7xSXH/src/execution.jl:117\n",
      " [11] #warmup#54\n",
      "    @ ~/.julia/packages/BenchmarkTools/7xSXH/src/execution.jl:169 [inlined]\n",
      " [12] warmup(item::BenchmarkTools.Benchmark)\n",
      "    @ BenchmarkTools ~/.julia/packages/BenchmarkTools/7xSXH/src/execution.jl:169\n",
      " [13] top-level scope\n",
      "    @ ~/.julia/packages/BenchmarkTools/7xSXH/src/execution.jl:575\n",
      " [14] eval\n",
      "    @ ./boot.jl:373 [inlined]\n",
      " [15] include_string(mapexpr::typeof(REPL.softscope), mod::Module, code::String, filename::String)\n",
      "    @ Base ./loading.jl:1196\n",
      " [16] #invokelatest#2\n",
      "    @ ./essentials.jl:716 [inlined]\n",
      " [17] invokelatest\n",
      "    @ ./essentials.jl:714 [inlined]\n",
      " [18] (::VSCodeServer.var\"#164#165\"{VSCodeServer.NotebookRunCellArguments, String})()\n",
      "    @ VSCodeServer ~/.vscode/extensions/julialang.language-julia-1.6.17/scripts/packages/VSCodeServer/src/serve_notebook.jl:19\n",
      " [19] withpath(f::VSCodeServer.var\"#164#165\"{VSCodeServer.NotebookRunCellArguments, String}, path::String)\n",
      "    @ VSCodeServer ~/.vscode/extensions/julialang.language-julia-1.6.17/scripts/packages/VSCodeServer/src/repl.jl:184\n",
      " [20] notebook_runcell_request(conn::VSCodeServer.JSONRPC.JSONRPCEndpoint{Base.PipeEndpoint, Base.PipeEndpoint}, params::VSCodeServer.NotebookRunCellArguments)\n",
      "    @ VSCodeServer ~/.vscode/extensions/julialang.language-julia-1.6.17/scripts/packages/VSCodeServer/src/serve_notebook.jl:13\n",
      " [21] dispatch_msg(x::VSCodeServer.JSONRPC.JSONRPCEndpoint{Base.PipeEndpoint, Base.PipeEndpoint}, dispatcher::VSCodeServer.JSONRPC.MsgDispatcher, msg::Dict{String, Any})\n",
      "    @ VSCodeServer.JSONRPC ~/.vscode/extensions/julialang.language-julia-1.6.17/scripts/packages/JSONRPC/src/typed.jl:67\n",
      " [22] serve_notebook(pipename::String, outputchannel_logger::Base.CoreLogging.SimpleLogger; crashreporting_pipename::String)\n",
      "    @ VSCodeServer ~/.vscode/extensions/julialang.language-julia-1.6.17/scripts/packages/VSCodeServer/src/serve_notebook.jl:136\n",
      " [23] top-level scope\n",
      "    @ ~/.vscode/extensions/julialang.language-julia-1.6.17/scripts/notebook/notebook.jl:32\n",
      " [24] include(mod::Module, _path::String)\n",
      "    @ Base ./Base.jl:418\n",
      " [25] exec_options(opts::Base.JLOptions)\n",
      "    @ Base ./client.jl:292\n",
      " [26] _start()\n",
      "    @ Base ./client.jl:495"
     ]
    }
   ],
   "source": [
    "@btime fragface(Lar.Points(V),EV,FE,[2,3,4,5],2)\n"
   ]
  },
  {
   "cell_type": "markdown",
   "id": "68db4a30",
   "metadata": {},
   "source": [
    "### Funzioni di supporto"
   ]
  },
  {
   "cell_type": "code",
   "execution_count": 60,
   "id": "b4a7be27",
   "metadata": {},
   "outputs": [
    {
     "data": {
      "text/plain": [
       "SparseMatrixCSC{Int8, Int64}"
      ]
     },
     "metadata": {},
     "output_type": "display_data"
    }
   ],
   "source": [
    "const Cells = Array{Array{Int,1},1}\n",
    "const ChainOp = SparseArrays.SparseMatrixCSC{Int8,Int}"
   ]
  },
  {
   "cell_type": "code",
   "execution_count": 61,
   "id": "7b1174d9",
   "metadata": {},
   "outputs": [
    {
     "data": {
      "text/plain": [
       "coboundary_0 (generic function with 1 method)"
      ]
     },
     "metadata": {},
     "output_type": "display_data"
    }
   ],
   "source": [
    "coboundary_0(EV::Cells) = convert(ChainOp,transpose(boundary_1(EV::Cells)))"
   ]
  },
  {
   "cell_type": "code",
   "execution_count": 62,
   "id": "229f83d8",
   "metadata": {},
   "outputs": [
    {
     "data": {
      "text/plain": [
       "boundary_1 (generic function with 1 method)"
      ]
     },
     "metadata": {},
     "output_type": "display_data"
    }
   ],
   "source": [
    "function boundary_1( EV::Cells )::ChainOp\n",
    "\tout = characteristicMatrix(EV)'\n",
    "\tfor e = 1:length(EV)\n",
    "\t\tout[EV[e][1],e] = -1\n",
    "\tend\n",
    "\treturn out\n",
    "end"
   ]
  },
  {
   "cell_type": "code",
   "execution_count": 63,
   "id": "7f1c2670",
   "metadata": {},
   "outputs": [
    {
     "data": {
      "text/plain": [
       "characteristicMatrix (generic function with 1 method)"
      ]
     },
     "metadata": {},
     "output_type": "display_data"
    }
   ],
   "source": [
    "function characteristicMatrix( FV::Cells )::ChainOp\n",
    "\tI,J,V = Int64[],Int64[],Int8[]\n",
    "\tfor f=1:length(FV)\n",
    "\t\tfor k in FV[f]\n",
    "\t\tpush!(I,f)\n",
    "\t\tpush!(J,k)\n",
    "\t\tpush!(V,1)\n",
    "\t\tend\n",
    "\tend\n",
    "\tM_2 = sparse(I,J,V)\n",
    "\treturn M_2\n",
    "end"
   ]
  },
  {
   "cell_type": "code",
   "execution_count": 64,
   "id": "7ce578e6",
   "metadata": {},
   "outputs": [
    {
     "data": {
      "text/plain": [
       "coboundary_1 (generic function with 1 method)"
      ]
     },
     "metadata": {},
     "output_type": "display_data"
    }
   ],
   "source": [
    "function coboundary_1(FV::Array{Array{Int64,1},1}, EV::Array{Array{Int64,1},1}) # (::Cells, ::Cells)\n",
    "\tcopFV = Lar.lar2cop(FV)\n",
    "\tI,J,Val = findnz(Lar.lar2cop(EV))\n",
    "\tcopVE = sparse(J,I,Val)\n",
    "\ttriples = hcat([[i,j,1]  for (i,j,v)  in zip(findnz(copFV * copVE)...) if v==2]...)\n",
    "\tI,J,Val = triples[1,:], triples[2,:], triples[3,:]\n",
    "\tVal = convert(Array{Int8,1},Val)\n",
    "\tcopFE = sparse(I,J,Val)\n",
    "\treturn copFE\n",
    "end"
   ]
  },
  {
   "cell_type": "code",
   "execution_count": 98,
   "id": "6f263aba",
   "metadata": {},
   "outputs": [
    {
     "data": {
      "text/plain": [
       "findnz (generic function with 2 methods)"
      ]
     },
     "metadata": {},
     "output_type": "display_data"
    }
   ],
   "source": [
    "import SparseArrays.findnz\n",
    "\n",
    "function findnz(x::SparseVector{Tv,Ti}) where {Tv,Ti}\n",
    "    numnz = nnz(x)\n",
    "\n",
    "    I = Vector{Ti}(undef, numnz)\n",
    "    V = Vector{Tv}(undef, numnz)\n",
    "\n",
    "    nzind = nonzeroinds(x)\n",
    "    nzval = nonzeros(x)\n",
    "\n",
    "    @inbounds for i = 1 : numnz\n",
    "        I[i] = nzind[i]\n",
    "        V[i] = nzval[i]\n",
    "    end\n",
    "\n",
    "    return (I, V)\n",
    "end\n"
   ]
  }
 ],
 "metadata": {
  "kernelspec": {
   "display_name": "Julia 1.7.2",
   "language": "julia",
   "name": "julia-1.7"
  },
  "language_info": {
   "file_extension": ".jl",
   "mimetype": "application/julia",
   "name": "julia",
   "version": "1.7.2"
  }
 },
 "nbformat": 4,
 "nbformat_minor": 5
}
