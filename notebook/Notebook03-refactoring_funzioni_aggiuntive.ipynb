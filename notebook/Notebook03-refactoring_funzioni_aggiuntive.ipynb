{
 "cells": [
  {
   "cell_type": "markdown",
   "id": "4f03816f",
   "metadata": {},
   "source": [
    "# ANALISI E REVISIONE DEL PROGETTO LARSPLITTING 2D "
   ]
  },
  {
   "cell_type": "markdown",
   "id": "bbd19810",
   "metadata": {},
   "source": [
    "## CLASSE REFACTORING: spaceIndex"
   ]
  },
  {
   "cell_type": "markdown",
   "id": "b9488613",
   "metadata": {},
   "source": [
    "Variabili utili per testare il funzionamento\n"
   ]
  },
  {
   "cell_type": "markdown",
   "id": "c326b145",
   "metadata": {},
   "source": [
    "# FUNZIONI AGGIUNTIVE"
   ]
  },
  {
   "cell_type": "markdown",
   "id": "ac2412da",
   "metadata": {},
   "source": [
    "### RemoveIntersection"
   ]
  },
  {
   "cell_type": "markdown",
   "id": "818d60b2",
   "metadata": {},
   "source": [
    "rimuove le intersezioni contenute in **covers** che i boundingbox hanno con se stessi\n",
    "\n"
   ]
  },
  {
   "cell_type": "code",
   "execution_count": 8,
   "id": "187b0401",
   "metadata": {},
   "outputs": [
    {
     "data": {
      "text/plain": [
       "removeIntersection (generic function with 1 method)"
      ]
     },
     "metadata": {},
     "output_type": "display_data"
    }
   ],
   "source": [
    "function removeIntersection(covers::Array{Array{Int64,1},1})\n",
    "    @threads for k=1:length(covers)\n",
    "        covers[k] = setdiff(covers[k],[k])\t#toglie le intersezioni con se stesso \n",
    "    end\n",
    "end"
   ]
  },
  {
   "cell_type": "code",
   "execution_count": 17,
   "id": "da40efb2",
   "metadata": {},
   "outputs": [
    {
     "name": "stdout",
     "output_type": "stream",
     "text": [
      "  7.255 μs (51 allocations: 3.44 KiB)\n"
     ]
    }
   ],
   "source": [
    "@btime removeIntersection(cov)    # 7.011 μs"
   ]
  },
  {
   "cell_type": "markdown",
   "id": "79b44f56",
   "metadata": {},
   "source": [
    "### CreateIntervalTree"
   ]
  },
  {
   "cell_type": "markdown",
   "id": "9698f706",
   "metadata": {},
   "source": [
    "funzione che crea un albero di supporto per la funzione principale **boxcovering**; nel particolare dato un dizionario ordinato crea un intervalTrees cioè una struttura dati che contiene intervalli e che consente di trovare in modo efficiente tutti gli intervalli che si sovrappongono a un determinato intervallo o punto."
   ]
  },
  {
   "cell_type": "code",
   "execution_count": 9,
   "id": "2f1b2e37",
   "metadata": {},
   "outputs": [
    {
     "data": {
      "text/plain": [
       "createIntervalTree (generic function with 1 method)"
      ]
     },
     "metadata": {},
     "output_type": "display_data"
    }
   ],
   "source": [
    "function createIntervalTree(boxdict::AbstractDict{Array{Float64,1},Array{Int64,1}})\n",
    "    tree = IntervalTrees.IntervalMap{Float64,Array}()\n",
    "    for (key, boxset) in boxdict\n",
    "        tree[tuple(key...)] = boxset\n",
    "    end\n",
    "    return tree\n",
    "end"
   ]
  },
  {
   "cell_type": "markdown",
   "id": "59339b4b",
   "metadata": {},
   "source": [
    "## addIntersection"
   ]
  },
  {
   "cell_type": "markdown",
   "id": "966f6ec9",
   "metadata": {},
   "source": [
    "addIntersection aggiunge in 'covers' in i-esima posizione tutti i bounding box che intersecano l'i-esimo bounding box\n"
   ]
  },
  {
   "cell_type": "code",
   "execution_count": null,
   "id": "ec739ac1",
   "metadata": {},
   "outputs": [],
   "source": []
  },
  {
   "cell_type": "markdown",
   "id": "80da02c2",
   "metadata": {},
   "source": [
    "## TEST"
   ]
  },
  {
   "cell_type": "code",
   "execution_count": null,
   "id": "724c214f",
   "metadata": {},
   "outputs": [],
   "source": [
    "@testset \"Refactoring spaceindex tests\" begin\n",
    "    V,(VV,EV,FV) = Lar.cuboidGrid([2,1],true)\n",
    "    EV = [[1, 2], [3, 4], [5, 6], [1, 3], [2, 4], [3, 5], [4, 6]]\n",
    "    cellpoints = [ V[:,EV[k]]::Lar.Points for k=1:length(EV) ]\n",
    "    bboxes = [hcat(Lar.boundingbox(cell)...) for cell in cellpoints]\n",
    "    xboxdict = Lar.coordintervals(1,bboxes)\n",
    "    yboxdict = Lar.coordintervals(2,bboxes)\n",
    "    xs = IntervalTrees.IntervalMap{Float64, Array}()\n",
    "    for (key,boxset) in xboxdict\n",
    "        xs[tuple(key...)] = boxset\n",
    "    end\n",
    "    ys = IntervalTrees.IntervalMap{Float64, Array}()\n",
    "    for (key,boxset) in yboxdict\n",
    "        ys[tuple(key...)] = boxset\n",
    "    end\n",
    "    xcovers = Lar.boxcovering(bboxes, 1, xs)\n",
    "    ycovers = Lar.boxcovering(bboxes, 2, ys)\n",
    "    covers = [intersect(pair...) for pair in zip(xcovers,ycovers)]\n",
    "    \n",
    "    @test covers == Array{Int64,1}[[1, 4, 5], [4, 5, 2, 6, 7], [6, 7, 3], \n",
    "        [1, 4, 2, 6], [1, 5, 2, 7], [4, 2, 6, 3], [5, 2, 7, 3]]\n",
    "end"
   ]
  },
  {
   "cell_type": "markdown",
   "id": "6028dd6d",
   "metadata": {},
   "source": [
    "![test di spaceindex](https://github.com/MarcoCap13/LAR-SPLITTING-2D-5.b-/blob/main/docs/test/spaceindex_test.png?raw=true)"
   ]
  }
 ],
 "metadata": {
  "kernelspec": {
   "display_name": "Julia 1.7.2",
   "language": "julia",
   "name": "julia-1.7"
  },
  "language_info": {
   "file_extension": ".jl",
   "mimetype": "application/julia",
   "name": "julia",
   "version": "1.7.2"
  }
 },
 "nbformat": 4,
 "nbformat_minor": 5
}
