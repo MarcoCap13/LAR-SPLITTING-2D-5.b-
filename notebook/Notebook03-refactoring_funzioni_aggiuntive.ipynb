{
 "cells": [
  {
   "cell_type": "markdown",
   "id": "4f03816f",
   "metadata": {},
   "source": [
    "# ANALISI E REVISIONE DEL PROGETTO LARSPLITTING 2D "
   ]
  },
  {
   "cell_type": "code",
   "execution_count": 2,
   "id": "2fa87da7",
   "metadata": {},
   "outputs": [
    {
     "name": "stderr",
     "output_type": "stream",
     "text": [
      "\u001b[33m\u001b[1m┌ \u001b[22m\u001b[39m\u001b[33m\u001b[1mWarning: \u001b[22m\u001b[39mPackage LinearAlgebraicRepresentation does not have BenchmarkTools in its dependencies:\n",
      "\u001b[33m\u001b[1m│ \u001b[22m\u001b[39m- If you have LinearAlgebraicRepresentation checked out for development and have\n",
      "\u001b[33m\u001b[1m│ \u001b[22m\u001b[39m  added BenchmarkTools as a dependency but haven't updated your primary\n",
      "\u001b[33m\u001b[1m│ \u001b[22m\u001b[39m  environment's manifest file, try `Pkg.resolve()`.\n",
      "\u001b[33m\u001b[1m│ \u001b[22m\u001b[39m- Otherwise you may need to report an issue with LinearAlgebraicRepresentation\n",
      "\u001b[33m\u001b[1m└ \u001b[22m\u001b[39mLoading BenchmarkTools into LinearAlgebraicRepresentation from project dependency, future warnings for LinearAlgebraicRepresentation are suppressed.\n"
     ]
    }
   ],
   "source": [
    "using LinearAlgebraicRepresentation\n",
    "Lar = LinearAlgebraicRepresentation\n",
    "using IntervalTrees\n",
    "using SparseArrays\n",
    "using NearestNeighbors\n",
    "using BenchmarkTools\n",
    "using OrderedCollections\n",
    "using Base.Threads\n"
   ]
  },
  {
   "cell_type": "markdown",
   "id": "c326b145",
   "metadata": {},
   "source": [
    "# FUNZIONI AGGIUNTIVE"
   ]
  },
  {
   "cell_type": "markdown",
   "id": "ac2412da",
   "metadata": {},
   "source": [
    "### RemoveIntersection"
   ]
  },
  {
   "cell_type": "markdown",
   "id": "818d60b2",
   "metadata": {},
   "source": [
    "rimuove le intersezioni contenute in **covers** che i boundingbox hanno con se stessi\n",
    "\n"
   ]
  },
  {
   "cell_type": "code",
   "execution_count": 3,
   "id": "187b0401",
   "metadata": {},
   "outputs": [
    {
     "data": {
      "text/plain": [
       "removeIntersection (generic function with 1 method)"
      ]
     },
     "metadata": {},
     "output_type": "display_data"
    }
   ],
   "source": [
    "function removeIntersection(covers::Array{Array{Int64,1},1})\n",
    "    @threads for k=1:length(covers)\n",
    "        covers[k] = setdiff(covers[k],[k])\t#toglie le intersezioni con se stesso \n",
    "    end\n",
    "end"
   ]
  },
  {
   "cell_type": "markdown",
   "id": "79b44f56",
   "metadata": {},
   "source": [
    "### CreateIntervalTree"
   ]
  },
  {
   "cell_type": "markdown",
   "id": "9698f706",
   "metadata": {},
   "source": [
    "funzione che crea un albero di supporto per la funzione principale **boxcovering**; nel particolare dato un dizionario ordinato crea un intervalTrees cioè una struttura dati che contiene intervalli e che consente di trovare in modo efficiente tutti gli intervalli che si sovrappongono a un determinato intervallo o punto."
   ]
  },
  {
   "cell_type": "code",
   "execution_count": 4,
   "id": "2f1b2e37",
   "metadata": {},
   "outputs": [
    {
     "data": {
      "text/plain": [
       "createIntervalTree (generic function with 1 method)"
      ]
     },
     "metadata": {},
     "output_type": "display_data"
    }
   ],
   "source": [
    "function createIntervalTree(boxdict::AbstractDict{Array{Float64,1},Array{Int64,1}})\n",
    "    tree = IntervalTrees.IntervalMap{Float64,Array}()\n",
    "    for (key, boxset) in boxdict\n",
    "        tree[tuple(key...)] = boxset\n",
    "    end\n",
    "    return tree\n",
    "end"
   ]
  },
  {
   "cell_type": "markdown",
   "id": "59339b4b",
   "metadata": {},
   "source": [
    "## addIntersection"
   ]
  },
  {
   "cell_type": "markdown",
   "id": "966f6ec9",
   "metadata": {},
   "source": [
    "addIntersection aggiunge in 'covers' in i-esima posizione tutti i bounding box che intersecano l'i-esimo bounding box\n"
   ]
  },
  {
   "cell_type": "code",
   "execution_count": 5,
   "id": "ec739ac1",
   "metadata": {},
   "outputs": [
    {
     "data": {
      "text/plain": [
       "addIntersection (generic function with 1 method)"
      ]
     },
     "metadata": {},
     "output_type": "display_data"
    }
   ],
   "source": [
    "function addIntersection(covers::Array{Array{Int64,1},1}, i::Int64, iterator)\n",
    "    splice!(covers[i],1)\t\t#splice serve a togliere gli zeri iniziali all'interno di covers\n",
    "    @threads for x in collect(iterator)\n",
    "        append!(covers[i],x.value)\n",
    "    end\n",
    "end"
   ]
  },
  {
   "cell_type": "markdown",
   "id": "80da02c2",
   "metadata": {},
   "source": [
    "## TEST"
   ]
  },
  {
   "cell_type": "code",
   "execution_count": null,
   "id": "724c214f",
   "metadata": {},
   "outputs": [],
   "source": [
    "@testset \"removeIntersection test\" begin\n",
    "    covers = [[4, 1, 3, 5, 2], [1, 3, 5, 2], [4, 1, 3, 5, 2], [4, 1, 3, 5], [4, 1, 3, 5, 2]]\n",
    "    removeIntersection(covers)\n",
    "    @test typeof(covers) == Array{Array{Int64,1},1}\n",
    "    @test covers[1] == [4, 3, 5, 2]\n",
    "    @test covers[2] == [1, 3, 5]\n",
    "    @test covers[3] == [4, 1, 5, 2]\n",
    "    @test covers[4] == [1, 3, 5]\n",
    "    @test covers[5] == [4, 1, 3, 2]\n",
    "end"
   ]
  },
  {
   "cell_type": "code",
   "execution_count": null,
   "id": "faf99916",
   "metadata": {},
   "outputs": [],
   "source": [
    "@testset \"createIntervalTree test\" begin\n",
    "    dict = OrderedDict([0.0, 1.0] => [1, 3],[1.0, 1.0] => [2],[0.0, 0.0] => [4],[0.0, 2.0] => [5])\n",
    "    t = createIntervalTree(dict)\n",
    "    @test typeof(t) == IntervalTrees.IntervalBTree{Float64,IntervalValue{Float64,Array},64}\n",
    "    @test t.root.entries[1].first == 0.0\n",
    "    @test t.root.entries[1].last == 0.0\n",
    "    @test t.root.entries[1].value == [4]\n",
    "\n",
    "    @test t.root.entries[2].first == 0.0\n",
    "    @test t.root.entries[2].last == 1.0\n",
    "    @test t.root.entries[2].value == [1,3]\n",
    "\n",
    "    @test t.root.entries[3].first == 0.0\n",
    "    @test t.root.entries[3].last == 2.0\n",
    "    @test t.root.entries[3].value == [5]\n",
    "\n",
    "    @test t.root.entries[4].first == 1.0\n",
    "    @test t.root.entries[4].last == 1.0\n",
    "    @test t.root.entries[4].value == [2]\n",
    "end\n"
   ]
  },
  {
   "cell_type": "code",
   "execution_count": null,
   "id": "5432375a",
   "metadata": {},
   "outputs": [],
   "source": [
    "@testset \"addIntersection test\" begin\n",
    "    bb = [[0.0 1.0; 0.0 0.0], [1.0 1.0; 0.0 1.0], [0.0 1.0; 1.0 1.0], [0.0 0.0; 0.0 1.0], [0.0 2.0; 0.0 1.0]];\n",
    "    dict = OrderedDict([0.0, 1.0] => [1, 3],[1.0, 1.0] => [2],[0.0, 0.0] => [4],[0.0, 2.0] => [5])\n",
    "    t = createIntervalTree(dict)\n",
    "    c = boxcovering(bb,1,t)\n",
    "    @test c == [[4, 1, 3, 5, 2], [1, 3, 5, 2], [4, 1, 3, 5, 2], [4, 1, 3, 5], [4, 1, 3, 5, 2]];\n",
    "end"
   ]
  },
  {
   "cell_type": "markdown",
   "id": "6028dd6d",
   "metadata": {},
   "source": [
    "![test di spaceindex](https://github.com/MarcoCap13/LAR-SPLITTING-2D-5.b-/blob/main/docs/test/spaceindex_test.png?raw=true)"
   ]
  }
 ],
 "metadata": {
  "kernelspec": {
   "display_name": "Julia 1.7.2",
   "language": "julia",
   "name": "julia-1.7"
  },
  "language_info": {
   "file_extension": ".jl",
   "mimetype": "application/julia",
   "name": "julia",
   "version": "1.7.2"
  }
 },
 "nbformat": 4,
 "nbformat_minor": 5
}
