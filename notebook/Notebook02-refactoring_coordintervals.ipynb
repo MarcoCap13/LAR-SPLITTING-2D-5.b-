{
 "cells": [
  {
   "cell_type": "markdown",
   "id": "938a123f",
   "metadata": {},
   "source": [
    "#### **Gruppo 5.b**: Caponi Marco (matricola: 508773) - Ceneda Gianluca (matricola: 488257)"
   ]
  },
  {
   "cell_type": "markdown",
   "id": "4f03816f",
   "metadata": {},
   "source": [
    "# ANALISI E REVISIONE DEL PROGETTO LARSPLITTING 2D "
   ]
  },
  {
   "cell_type": "markdown",
   "id": "bbd19810",
   "metadata": {},
   "source": [
    "## CLASSE REFACTORING: coordintervals\n"
   ]
  },
  {
   "cell_type": "markdown",
   "id": "b9488613",
   "metadata": {},
   "source": [
    "Variabili utili per testare il funzionamento\n"
   ]
  },
  {
   "cell_type": "code",
   "execution_count": 25,
   "id": "d88d8e60",
   "metadata": {
    "scrolled": true
   },
   "outputs": [],
   "source": [
    "using LinearAlgebraicRepresentation\n",
    "Lar = LinearAlgebraicRepresentation\n",
    "using IntervalTrees\n",
    "using SparseArrays\n",
    "using NearestNeighbors\n",
    "using BenchmarkTools\n",
    "using OrderedCollections\n",
    "using Base.Threads\n",
    "using Test\n",
    "using DataStructures\n"
   ]
  },
  {
   "cell_type": "markdown",
   "id": "37050106",
   "metadata": {},
   "source": [
    "## Versione iniziale di coordintervals\n",
    "\n",
    "coordintervals crea un dizionario ordinato dove la chiave è l'intervallo su una coordinata, e come valore associato ha l'indice dell'intervallo corrispondente nel boundig box"
   ]
  },
  {
   "cell_type": "code",
   "execution_count": 2,
   "id": "24d60c36",
   "metadata": {},
   "outputs": [
    {
     "data": {
      "text/plain": [
       "coordintervals (generic function with 1 method)"
      ]
     },
     "metadata": {},
     "output_type": "display_data"
    }
   ],
   "source": [
    "function coordintervals(coord,bboxes)\n",
    "\tboxdict = OrderedDict{Array{Float64,1},Array{Int64,1}}()\n",
    "\tfor (h,box) in enumerate(bboxes)\n",
    "\t\tkey = box[coord,:]\n",
    "\t\tif haskey(boxdict,key) == false\n",
    "\t\t\tboxdict[key] = [h]\n",
    "\t\telse\n",
    "\t\t\tpush!(boxdict[key], h)\n",
    "\t\tend\n",
    "\tend\n",
    "\treturn boxdict\n",
    "end"
   ]
  },
  {
   "cell_type": "code",
   "execution_count": 6,
   "id": "f1bccd61",
   "metadata": {},
   "outputs": [
    {
     "name": "stdout",
     "output_type": "stream",
     "text": [
      "  0.000014 seconds (16 allocations: 1.188 KiB)\n"
     ]
    },
    {
     "data": {
      "text/plain": [
       "OrderedDict{Vector{Float64}, Vector{Int64}} with 2 entries:\n",
       "  [0.0, 1.0] => [1]\n",
       "  [0.0, 0.0] => [2]"
      ]
     },
     "metadata": {},
     "output_type": "display_data"
    }
   ],
   "source": [
    "@time coordintervals(1, [[0.0 1.0; 0.0 0.0], [0.0 0.0; 0.0 0.1]])   #0.000014 seconds"
   ]
  },
  {
   "cell_type": "markdown",
   "id": "d7572660",
   "metadata": {},
   "source": [
    "### controllo se la funzione è type unstable"
   ]
  },
  {
   "cell_type": "code",
   "execution_count": null,
   "id": "6cae9dd8",
   "metadata": {},
   "outputs": [],
   "source": [
    "@code_warntye coordintervals(1, [[0.0 1.0; 0.0 0.0], [0.0 0.0; 0.0 0.1]])"
   ]
  },
  {
   "cell_type": "markdown",
   "id": "fc5cbcb3",
   "metadata": {},
   "source": [
    "La funzione **non** è type unstable in quanto ritorna una stringa.\n",
    "\n",
    "Body: :OrderedDict{Array{Float64,1},Array{Int64,1}}"
   ]
  },
  {
   "cell_type": "markdown",
   "id": "81f27f59",
   "metadata": {},
   "source": [
    "### versione modificata coordintervals"
   ]
  },
  {
   "cell_type": "markdown",
   "id": "683e50f1",
   "metadata": {},
   "source": [
    "Questa funzione è molto semplice non sono serviti grandi interventi. La condizione dell'if è diventata !haskey(boxdict,key) da haskey(boxdict,key) == false"
   ]
  },
  {
   "cell_type": "code",
   "execution_count": 23,
   "id": "0c6a7935",
   "metadata": {},
   "outputs": [
    {
     "data": {
      "text/plain": [
       "coordintervalsMOD (generic function with 1 method)"
      ]
     },
     "metadata": {},
     "output_type": "display_data"
    }
   ],
   "source": [
    "function coordintervalsMOD(coord,bboxes)\n",
    "     boxdict = OrderedDict{Array{Float64,1},Array{Int64,1}}()\n",
    "     l = length(bboxes)\n",
    "@simd     for h=1:l\n",
    "@views         key = bboxes[h][coord,:]\n",
    "         if !haskey(boxdict,key)\n",
    "             boxdict[key] = [h]\n",
    "         else \n",
    "             push!(boxdict[key], h)\n",
    "         end\n",
    "     end\n",
    "     return boxdict\n",
    " end\n",
    " "
   ]
  },
  {
   "cell_type": "code",
   "execution_count": 21,
   "id": "fb33a528",
   "metadata": {},
   "outputs": [
    {
     "name": "stdout",
     "output_type": "stream",
     "text": [
      "  0.000013 seconds (16 allocations: 1.188 KiB)\n"
     ]
    },
    {
     "data": {
      "text/plain": [
       "OrderedDict{Vector{Float64}, Vector{Int64}} with 2 entries:\n",
       "  [0.0, 1.0] => [1]\n",
       "  [0.0, 0.0] => [2]"
      ]
     },
     "metadata": {},
     "output_type": "display_data"
    }
   ],
   "source": [
    "@time coordintervalsMOD(1, [[0.0 1.0; 0.0 0.0], [0.0 0.0; 0.0 0.1]])   0.000013 seconds"
   ]
  },
  {
   "cell_type": "markdown",
   "id": "8916a52d",
   "metadata": {},
   "source": [
    "### Benchmark della funzione iniziale e modificata"
   ]
  },
  {
   "cell_type": "markdown",
   "id": "3ed16459",
   "metadata": {},
   "source": [
    "funzione iniziale:"
   ]
  },
  {
   "cell_type": "code",
   "execution_count": 30,
   "id": "0083c653",
   "metadata": {},
   "outputs": [
    {
     "data": {
      "text/plain": [
       "BenchmarkTools.Trial: 10000 samples with 14 evaluations.\n",
       " Range \u001b[90m(\u001b[39m\u001b[36m\u001b[1mmin\u001b[22m\u001b[39m … \u001b[35mmax\u001b[39m\u001b[90m):  \u001b[39m\u001b[36m\u001b[1m958.143 ns\u001b[22m\u001b[39m … \u001b[35m470.038 μs\u001b[39m  \u001b[90m┊\u001b[39m GC \u001b[90m(\u001b[39mmin … max\u001b[90m): \u001b[39m0.00% … 99.54%\n",
       " Time  \u001b[90m(\u001b[39m\u001b[34m\u001b[1mmedian\u001b[22m\u001b[39m\u001b[90m):     \u001b[39m\u001b[34m\u001b[1m  1.025 μs               \u001b[22m\u001b[39m\u001b[90m┊\u001b[39m GC \u001b[90m(\u001b[39mmedian\u001b[90m):    \u001b[39m0.00%\n",
       " Time  \u001b[90m(\u001b[39m\u001b[32m\u001b[1mmean\u001b[22m\u001b[39m ± \u001b[32mσ\u001b[39m\u001b[90m):   \u001b[39m\u001b[32m\u001b[1m  1.250 μs\u001b[22m\u001b[39m ± \u001b[32m  6.902 μs\u001b[39m  \u001b[90m┊\u001b[39m GC \u001b[90m(\u001b[39mmean ± σ\u001b[90m):  \u001b[39m9.11% ±  1.72%\n",
       "\n",
       "  \u001b[39m▆\u001b[39m█\u001b[39m█\u001b[34m▇\u001b[39m\u001b[39m▆\u001b[39m▅\u001b[39m▄\u001b[39m▃\u001b[39m▃\u001b[39m▂\u001b[39m▂\u001b[39m▁\u001b[32m▁\u001b[39m\u001b[39m \u001b[39m \u001b[39m \u001b[39m \u001b[39m \u001b[39m \u001b[39m \u001b[39m \u001b[39m \u001b[39m \u001b[39m \u001b[39m \u001b[39m \u001b[39m \u001b[39m \u001b[39m \u001b[39m \u001b[39m \u001b[39m \u001b[39m \u001b[39m \u001b[39m \u001b[39m \u001b[39m \u001b[39m \u001b[39m \u001b[39m \u001b[39m \u001b[39m \u001b[39m \u001b[39m \u001b[39m \u001b[39m \u001b[39m \u001b[39m \u001b[39m \u001b[39m \u001b[39m \u001b[39m \u001b[39m \u001b[39m \u001b[39m \u001b[39m \u001b[39m \u001b[39m \u001b[39m \u001b[39m \u001b[39m \u001b[39m \u001b[39m▂\n",
       "  \u001b[39m█\u001b[39m█\u001b[39m█\u001b[34m█\u001b[39m\u001b[39m█\u001b[39m█\u001b[39m█\u001b[39m█\u001b[39m█\u001b[39m█\u001b[39m█\u001b[39m█\u001b[32m█\u001b[39m\u001b[39m▇\u001b[39m▇\u001b[39m▆\u001b[39m▇\u001b[39m▇\u001b[39m▇\u001b[39m▆\u001b[39m▃\u001b[39m▅\u001b[39m▄\u001b[39m▄\u001b[39m▃\u001b[39m▆\u001b[39m▅\u001b[39m▅\u001b[39m▃\u001b[39m▅\u001b[39m▅\u001b[39m▁\u001b[39m▄\u001b[39m▅\u001b[39m▆\u001b[39m▆\u001b[39m▆\u001b[39m▄\u001b[39m▆\u001b[39m▇\u001b[39m▇\u001b[39m▇\u001b[39m▇\u001b[39m▇\u001b[39m█\u001b[39m▆\u001b[39m▇\u001b[39m▅\u001b[39m▆\u001b[39m▅\u001b[39m▄\u001b[39m▅\u001b[39m▃\u001b[39m▅\u001b[39m▁\u001b[39m▁\u001b[39m▁\u001b[39m▃\u001b[39m▃\u001b[39m▄\u001b[39m▃\u001b[39m \u001b[39m█\n",
       "  958 ns\u001b[90m        \u001b[39m\u001b[90mHistogram: \u001b[39m\u001b[90m\u001b[1mlog(\u001b[22m\u001b[39m\u001b[90mfrequency\u001b[39m\u001b[90m\u001b[1m)\u001b[22m\u001b[39m\u001b[90m by time\u001b[39m        2.5 μs \u001b[0m\u001b[1m<\u001b[22m\n",
       "\n",
       " Memory estimate\u001b[90m: \u001b[39m\u001b[33m1.19 KiB\u001b[39m, allocs estimate\u001b[90m: \u001b[39m\u001b[33m16\u001b[39m."
      ]
     },
     "metadata": {},
     "output_type": "display_data"
    }
   ],
   "source": [
    "@benchmark coordintervals(1, [[0.0 1.0; 0.0 0.0], [0.0 0.0; 0.0 0.1]])"
   ]
  },
  {
   "cell_type": "markdown",
   "id": "89724d70",
   "metadata": {},
   "source": [
    "funzione modificata:"
   ]
  },
  {
   "cell_type": "code",
   "execution_count": 31,
   "id": "2ba90d23",
   "metadata": {},
   "outputs": [
    {
     "data": {
      "text/plain": [
       "BenchmarkTools.Trial: 10000 samples with 10 evaluations.\n",
       " Range \u001b[90m(\u001b[39m\u001b[36m\u001b[1mmin\u001b[22m\u001b[39m … \u001b[35mmax\u001b[39m\u001b[90m):  \u001b[39m\u001b[36m\u001b[1m1.059 μs\u001b[22m\u001b[39m … \u001b[35m953.791 μs\u001b[39m  \u001b[90m┊\u001b[39m GC \u001b[90m(\u001b[39mmin … max\u001b[90m): \u001b[39m0.00% … 99.63%\n",
       " Time  \u001b[90m(\u001b[39m\u001b[34m\u001b[1mmedian\u001b[22m\u001b[39m\u001b[90m):     \u001b[39m\u001b[34m\u001b[1m1.134 μs               \u001b[22m\u001b[39m\u001b[90m┊\u001b[39m GC \u001b[90m(\u001b[39mmedian\u001b[90m):    \u001b[39m0.00%\n",
       " Time  \u001b[90m(\u001b[39m\u001b[32m\u001b[1mmean\u001b[22m\u001b[39m ± \u001b[32mσ\u001b[39m\u001b[90m):   \u001b[39m\u001b[32m\u001b[1m1.749 μs\u001b[22m\u001b[39m ± \u001b[32m 13.529 μs\u001b[39m  \u001b[90m┊\u001b[39m GC \u001b[90m(\u001b[39mmean ± σ\u001b[90m):  \u001b[39m8.24% ±  1.41%\n",
       "\n",
       "  \u001b[39m█\u001b[34m▇\u001b[39m\u001b[39m▆\u001b[39m▄\u001b[39m▂\u001b[39m▁\u001b[39m \u001b[39m \u001b[39m \u001b[39m \u001b[39m \u001b[32m \u001b[39m\u001b[39m \u001b[39m \u001b[39m \u001b[39m▁\u001b[39m▁\u001b[39m▁\u001b[39m▁\u001b[39m \u001b[39m \u001b[39m \u001b[39m \u001b[39m \u001b[39m \u001b[39m \u001b[39m \u001b[39m \u001b[39m \u001b[39m \u001b[39m \u001b[39m \u001b[39m \u001b[39m \u001b[39m \u001b[39m \u001b[39m \u001b[39m \u001b[39m \u001b[39m \u001b[39m \u001b[39m \u001b[39m \u001b[39m \u001b[39m \u001b[39m \u001b[39m \u001b[39m \u001b[39m \u001b[39m \u001b[39m \u001b[39m \u001b[39m \u001b[39m \u001b[39m \u001b[39m \u001b[39m \u001b[39m \u001b[39m \u001b[39m \u001b[39m▂\n",
       "  \u001b[39m█\u001b[34m█\u001b[39m\u001b[39m█\u001b[39m█\u001b[39m█\u001b[39m█\u001b[39m█\u001b[39m█\u001b[39m█\u001b[39m█\u001b[39m▇\u001b[32m▇\u001b[39m\u001b[39m▇\u001b[39m█\u001b[39m█\u001b[39m█\u001b[39m█\u001b[39m█\u001b[39m█\u001b[39m█\u001b[39m█\u001b[39m█\u001b[39m▆\u001b[39m▇\u001b[39m▅\u001b[39m▅\u001b[39m▆\u001b[39m▅\u001b[39m▄\u001b[39m▄\u001b[39m▅\u001b[39m▅\u001b[39m▅\u001b[39m▆\u001b[39m▆\u001b[39m▅\u001b[39m▅\u001b[39m▄\u001b[39m▄\u001b[39m▃\u001b[39m▄\u001b[39m▅\u001b[39m▄\u001b[39m▁\u001b[39m▃\u001b[39m▃\u001b[39m▄\u001b[39m▅\u001b[39m▄\u001b[39m▅\u001b[39m▄\u001b[39m▅\u001b[39m▃\u001b[39m▅\u001b[39m▅\u001b[39m▄\u001b[39m▃\u001b[39m▄\u001b[39m▄\u001b[39m \u001b[39m█\n",
       "  1.06 μs\u001b[90m      \u001b[39m\u001b[90mHistogram: \u001b[39m\u001b[90m\u001b[1mlog(\u001b[22m\u001b[39m\u001b[90mfrequency\u001b[39m\u001b[90m\u001b[1m)\u001b[22m\u001b[39m\u001b[90m by time\u001b[39m      4.91 μs \u001b[0m\u001b[1m<\u001b[22m\n",
       "\n",
       " Memory estimate\u001b[90m: \u001b[39m\u001b[33m1.19 KiB\u001b[39m, allocs estimate\u001b[90m: \u001b[39m\u001b[33m16\u001b[39m."
      ]
     },
     "metadata": {},
     "output_type": "display_data"
    }
   ],
   "source": [
    "@benchmark coordintervalsMOD(1, [[0.0 1.0; 0.0 0.0], [0.0 0.0; 0.0 0.1]])"
   ]
  },
  {
   "cell_type": "markdown",
   "id": "6d3cafb7",
   "metadata": {},
   "source": [
    "## TEST\n",
    "\n",
    "test effettuati sulla funzione ottimizzata"
   ]
  },
  {
   "cell_type": "code",
   "execution_count": null,
   "id": "e142a4f5",
   "metadata": {},
   "outputs": [],
   "source": [
    "@testset \"coordintervals Tests\" begin\n",
    "\t# 2x2x2 cuboidal grid for 1-, 2-, and 3-dim tests\n",
    "\tV,(VV,EV,FV,CV) = Lar.cuboidGrid([2,2,2],true)\n",
    "\tW,_ = Lar.apply(Lar.r(1,1,pi/6),(V,[VV,EV,FV,CV]))\n",
    "\t\t\t\n",
    "\t\tcellpoints = [ W[:,EV[k]]::Lar.Points for k=1:length(EV) ]\n",
    "\t\tbboxes = [hcat(Lar.boundingbox(cell)...) for cell in cellpoints]\n",
    "\t\t@testset \"Edge tests\" begin # \n",
    "\t\t\t@test typeof(Lar.coordintervals(1,bboxes)) == \n",
    "\t\t\t\tOrderedDict{Array{Float64,1}, Array{Int64,1}}\n",
    "\t\t\t@test typeof(Lar.coordintervals(2,bboxes)) == \n",
    "\t\t\t\tOrderedDict{Array{Float64,1}, Array{Int64,1}}\n",
    "\t\t\t@test typeof(Lar.coordintervals(3,bboxes)) == \n",
    "\t\t\t\tOrderedDict{Array{Float64,1}, Array{Int64,1}}\n",
    "\t\tend\n",
    "\t\tcellpoints = [ W[:,FV[k]]::Lar.Points for k=1:length(FV) ]\n",
    "\t\tbboxes = [hcat(Lar.boundingbox(cell)...) for cell in cellpoints]\n",
    "\t\t@testset \"Face tests\" begin # \n",
    "\t\t\t@test typeof(Lar.coordintervals(1,bboxes)) == \n",
    "\t\t\t\tOrderedDict{Array{Float64,1}, Array{Int64,1}}\n",
    "\t\t\t@test typeof(Lar.coordintervals(2,bboxes)) == \n",
    "\t\t\t\tOrderedDict{Array{Float64,1}, Array{Int64,1}}\n",
    "\t\t\t@test typeof(Lar.coordintervals(3,bboxes)) == \n",
    "\t\t\t\tOrderedDict{Array{Float64,1}, Array{Int64,1}}\n",
    "\t\tend\n",
    "\t\tcellpoints = [ W[:,CV[k]]::Lar.Points for k=1:length(CV) ]\n",
    "\t\tbboxes = [hcat(Lar.boundingbox(cell)...) for cell in cellpoints]\n",
    "\t\t@testset \"Cell tests\" begin # \n",
    "\t\t\t@test typeof(Lar.coordintervals(1,bboxes)) == \n",
    "\t\t\t\tOrderedDict{Array{Float64,1}, Array{Int64,1}}\n",
    "\t\t\t@test typeof(Lar.coordintervals(2,bboxes)) == \n",
    "\t\t\t\tOrderedDict{Array{Float64,1}, Array{Int64,1}}\n",
    "\t\t\t@test typeof(Lar.coordintervals(3,bboxes)) == \n",
    "\t\t\t\tOrderedDict{Array{Float64,1}, Array{Int64,1}}\n",
    "\t\tend\n",
    "\tend"
   ]
  },
  {
   "cell_type": "markdown",
   "id": "47568be7",
   "metadata": {},
   "source": [
    "![test di coordintervals](https://github.com/MarcoCap13/LAR-SPLITTING-2D-5.b-/blob/main/docs/test/coordintervals_test.png?raw=true)"
   ]
  }
 ],
 "metadata": {
  "kernelspec": {
   "display_name": "Julia 1.7.2",
   "language": "julia",
   "name": "julia-1.7"
  },
  "language_info": {
   "file_extension": ".jl",
   "mimetype": "application/julia",
   "name": "julia",
   "version": "1.7.2"
  }
 },
 "nbformat": 4,
 "nbformat_minor": 5
}
