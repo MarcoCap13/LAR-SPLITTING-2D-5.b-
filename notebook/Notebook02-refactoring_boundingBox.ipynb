{
 "cells": [
  {
   "cell_type": "markdown",
   "id": "4f03816f",
   "metadata": {},
   "source": [
    "# ANALISI E REVISIONE DEL PROGETTO LARSPLITTING 2D "
   ]
  },
  {
   "cell_type": "markdown",
   "id": "bbd19810",
   "metadata": {},
   "source": [
    "## CLASSE REFACTORING: boundingbox"
   ]
  },
  {
   "cell_type": "markdown",
   "id": "b9488613",
   "metadata": {},
   "source": [
    "Variabili utili per testare il funzionamento\n"
   ]
  },
  {
   "cell_type": "code",
   "execution_count": 2,
   "id": "d88d8e60",
   "metadata": {
    "scrolled": true
   },
   "outputs": [
    {
     "name": "stderr",
     "output_type": "stream",
     "text": [
      "\u001b[33m\u001b[1m┌ \u001b[22m\u001b[39m\u001b[33m\u001b[1mWarning: \u001b[22m\u001b[39mPackage LinearAlgebraicRepresentation does not have BenchmarkTools in its dependencies:\n",
      "\u001b[33m\u001b[1m│ \u001b[22m\u001b[39m- If you have LinearAlgebraicRepresentation checked out for development and have\n",
      "\u001b[33m\u001b[1m│ \u001b[22m\u001b[39m  added BenchmarkTools as a dependency but haven't updated your primary\n",
      "\u001b[33m\u001b[1m│ \u001b[22m\u001b[39m  environment's manifest file, try `Pkg.resolve()`.\n",
      "\u001b[33m\u001b[1m│ \u001b[22m\u001b[39m- Otherwise you may need to report an issue with LinearAlgebraicRepresentation\n",
      "\u001b[33m\u001b[1m└ \u001b[22m\u001b[39mLoading BenchmarkTools into LinearAlgebraicRepresentation from project dependency, future warnings for LinearAlgebraicRepresentation are suppressed.\n"
     ]
    }
   ],
   "source": [
    "using LinearAlgebraicRepresentation\n",
    "Lar = LinearAlgebraicRepresentation\n",
    "using IntervalTrees\n",
    "using SparseArrays\n",
    "using NearestNeighbors\n",
    "using BenchmarkTools\n",
    "using OrderedCollections\n",
    "using Base.Threads\n"
   ]
  },
  {
   "cell_type": "code",
   "execution_count": 3,
   "id": "d9c77ed8",
   "metadata": {},
   "outputs": [
    {
     "data": {
      "text/plain": [
       "5-element Vector{Vector{Int64}}:\n",
       " [4, 1, 3, 5, 2]\n",
       " [1, 3, 5, 2]\n",
       " [4, 1, 3, 5, 2]\n",
       " [4, 1, 3, 5]\n",
       " [4, 1, 3, 5, 2]"
      ]
     },
     "metadata": {},
     "output_type": "display_data"
    }
   ],
   "source": [
    "V = hcat([[0.,0],[1,0],[1,1],[0,1],[2,1]]...);    #vertici del modello 2D\n",
    "V3 = hcat([[0.,0,0],[1,0,3],[1,1,2],[0,1,1],[2,1,0]]...);   #vertici del modello 3D\n",
    "EV = [[1,2],[2,3],[3,4],[4,1],[1,5]];             #spigoli del modello\n",
    "bb = [[0.0 1.0; 0.0 0.0], [1.0 1.0; 0.0 1.0], [0.0 1.0; 1.0 1.0], [0.0 0.0; 0.0 1.0], [0.0 2.0; 0.0 1.0]];  #bounding box\n",
    "dict = OrderedDict([0.0, 1.0] => [1, 3],[1.0, 1.0] => [2],[0.0, 0.0] => [4],[0.0, 2.0] => [5])  #dizionario intervallo/indice\n",
    "cov = [[4, 1, 3, 5, 2], [1, 3, 5, 2], [4, 1, 3, 5, 2], [4, 1, 3, 5], [4, 1, 3, 5, 2]]    #intersezioni tra bounding box"
   ]
  },
  {
   "cell_type": "markdown",
   "id": "37050106",
   "metadata": {},
   "source": [
    "## Versione iniziale di boundingbox\n",
    "\n",
    "La funzione boundingbox serve a creare il bounding Box di una cella, cioè la scatola di misura più piccola (area, volume, ipervolume) entro cui sono contenuti tutti i punti."
   ]
  },
  {
   "cell_type": "code",
   "execution_count": 4,
   "id": "24d60c36",
   "metadata": {},
   "outputs": [
    {
     "data": {
      "text/plain": [
       "boundingbox (generic function with 1 method)"
      ]
     },
     "metadata": {},
     "output_type": "display_data"
    }
   ],
   "source": [
    "function boundingbox(vertices::Lar.Points)\n",
    "   minimum = mapslices(x->min(x...), vertices, dims=2)\n",
    "   maximum = mapslices(x->max(x...), vertices, dims=2)\n",
    "   return minimum, maximum\n",
    "end"
   ]
  },
  {
   "cell_type": "code",
   "execution_count": 5,
   "id": "f1bccd61",
   "metadata": {},
   "outputs": [
    {
     "name": "stdout",
     "output_type": "stream",
     "text": [
      "  13.451 μs (147 allocations: 5.03 KiB)\n"
     ]
    },
    {
     "data": {
      "text/plain": [
       "([0.0; 0.0;;], [2.0; 1.0;;])"
      ]
     },
     "metadata": {},
     "output_type": "display_data"
    }
   ],
   "source": [
    "@btime boundingbox(V)   #14,076 μs"
   ]
  },
  {
   "cell_type": "markdown",
   "id": "81f27f59",
   "metadata": {},
   "source": [
    "### versione modificata boundingbox"
   ]
  },
  {
   "cell_type": "code",
   "execution_count": 6,
   "id": "0c6a7935",
   "metadata": {},
   "outputs": [
    {
     "data": {
      "text/plain": [
       "boundingboxMOD (generic function with 1 method)"
      ]
     },
     "metadata": {},
     "output_type": "display_data"
    }
   ],
   "source": [
    "function boundingboxMOD(vertices::Lar.Points)\n",
    "    firstDim = vertices[1,:]\n",
    "    secondDim = vertices[2,:]\n",
    "    if (size(vertices,1)==3)\n",
    "        thirdDim = vertices[3,:]\n",
    "         minimum = Threads.@spawn hcat([min(firstDim...), min(secondDim...), min(thirdDim...)])\n",
    "         maximum = Threads.@spawn hcat([max(firstDim...), max(secondDim...), max(thirdDim...)])\n",
    "    else\n",
    "         minimum = Threads.@spawn hcat([min(firstDim...), min(secondDim...)])\n",
    "         maximum = Threads.@spawn hcat([max(firstDim...), max(secondDim...)])\n",
    "    end\n",
    "    return fetch(minimum),fetch(maximum)\n",
    " end"
   ]
  },
  {
   "cell_type": "code",
   "execution_count": 7,
   "id": "fb33a528",
   "metadata": {},
   "outputs": [
    {
     "name": "stdout",
     "output_type": "stream",
     "text": [
      "  20.286 μs (63 allocations: 2.19 KiB)\n"
     ]
    },
    {
     "data": {
      "text/plain": [
       "([0.0; 0.0;;], [2.0; 1.0;;])"
      ]
     },
     "metadata": {},
     "output_type": "display_data"
    }
   ],
   "source": [
    "@btime boundingboxMOD(V)   #14,076 μs"
   ]
  }
 ],
 "metadata": {
  "kernelspec": {
   "display_name": "Julia 1.7.2",
   "language": "julia",
   "name": "julia-1.7"
  },
  "language_info": {
   "file_extension": ".jl",
   "mimetype": "application/julia",
   "name": "julia",
   "version": "1.7.2"
  }
 },
 "nbformat": 4,
 "nbformat_minor": 5
}
