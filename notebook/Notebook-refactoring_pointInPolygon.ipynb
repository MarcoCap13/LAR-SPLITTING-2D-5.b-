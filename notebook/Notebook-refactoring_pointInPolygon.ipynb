{
 "cells": [
  {
   "cell_type": "markdown",
   "id": "8e7d5289",
   "metadata": {},
   "source": [
    "#### **Gruppo 5.b**: Caponi Marco (matricola: 508773) - Ceneda Gianluca (matricola: 488257)"
   ]
  },
  {
   "cell_type": "markdown",
   "id": "4f03816f",
   "metadata": {},
   "source": [
    "# ANALISI E REVISIONE DEL PROGETTO LARSPLITTING 2D "
   ]
  },
  {
   "cell_type": "markdown",
   "id": "bbd19810",
   "metadata": {},
   "source": [
    "## CLASSE REFACTORING: pointInPolygonClassification"
   ]
  },
  {
   "cell_type": "markdown",
   "id": "b9488613",
   "metadata": {},
   "source": [
    "Variabili utili per testare il funzionamento\n"
   ]
  },
  {
   "cell_type": "code",
   "execution_count": 1,
   "id": "d88d8e60",
   "metadata": {
    "scrolled": true
   },
   "outputs": [],
   "source": [
    "using LinearAlgebraicRepresentation\n",
    "Lar = LinearAlgebraicRepresentation\n",
    "using IntervalTrees\n",
    "using SparseArrays\n",
    "using NearestNeighbors\n",
    "using BenchmarkTools\n",
    "using OrderedCollections\n",
    "using Base.Threads\n"
   ]
  },
  {
   "cell_type": "code",
   "execution_count": 2,
   "id": "d9c77ed8",
   "metadata": {},
   "outputs": [
    {
     "data": {
      "text/plain": [
       "5-element Vector{Vector{Int64}}:\n",
       " [4, 1, 3, 5, 2]\n",
       " [1, 3, 5, 2]\n",
       " [4, 1, 3, 5, 2]\n",
       " [4, 1, 3, 5]\n",
       " [4, 1, 3, 5, 2]"
      ]
     },
     "metadata": {},
     "output_type": "display_data"
    }
   ],
   "source": [
    "V = hcat([[0.,0],[1,0],[1,1],[0,1],[2,1]]...);    #vertici del modello 2D\n",
    "V3 = hcat([[0.,0,0],[1,0,3],[1,1,2],[0,1,1],[2,1,0]]...);   #vertici del modello 3D\n",
    "EV = [[1,2],[2,3],[3,4],[4,1],[1,5]];             #spigoli del modello\n",
    "bb = [[0.0 1.0; 0.0 0.0], [1.0 1.0; 0.0 1.0], [0.0 1.0; 1.0 1.0], [0.0 0.0; 0.0 1.0], [0.0 2.0; 0.0 1.0]];  #bounding box\n",
    "dict = OrderedDict([0.0, 1.0] => [1, 3],[1.0, 1.0] => [2],[0.0, 0.0] => [4],[0.0, 2.0] => [5])  #dizionario intervallo/indice\n",
    "cov = [[4, 1, 3, 5, 2], [1, 3, 5, 2], [4, 1, 3, 5, 2], [4, 1, 3, 5], [4, 1, 3, 5, 2]]    #intersezioni tra bounding box"
   ]
  },
  {
   "cell_type": "markdown",
   "id": "a9e63274",
   "metadata": {},
   "source": [
    "## Versione iniziale di pointInPolygonClassification"
   ]
  },
  {
   "cell_type": "code",
   "execution_count": 3,
   "id": "e180ac14",
   "metadata": {},
   "outputs": [
    {
     "data": {
      "text/plain": [
       "pointInPolygonClassification (generic function with 1 method)"
      ]
     },
     "metadata": {},
     "output_type": "display_data"
    }
   ],
   "source": [
    "function pointInPolygonClassification(V,EV)\n",
    "    function pointInPolygonClassification0(pnt)\n",
    "        x,y = pnt\n",
    "        xmin,xmax,ymin,ymax = x,x,y,y\n",
    "        tilecode = setTile([ymax,ymin,xmax,xmin])\n",
    "        count,status = 0,0\n",
    "\n",
    "        for (k,edge) in enumerate(EV)\n",
    "            p1,p2 = V[:,edge[1]],V[:,edge[2]]\n",
    "            (x1,y1),(x2,y2) = p1,p2\n",
    "            c1,c2 = tilecode(p1),tilecode(p2)\n",
    "            c_edge, c_un, c_int = c1⊻c2, c1|c2, c1&c2\n",
    "\n",
    "            if (c_edge == 0) & (c_un == 0) return \"p_on\"\n",
    "            elseif (c_edge == 12) & (c_un == c_edge) return \"p_on\"\n",
    "            elseif c_edge == 3\n",
    "                if c_int == 0 return \"p_on\"\n",
    "                elseif c_int == 4 count += 1 end\n",
    "            elseif c_edge == 15\n",
    "                x_int = ((y-y2)*(x1-x2)/(y1-y2))+x2\n",
    "                if x_int > x count += 1\n",
    "                elseif x_int == x return \"p_on\" end\n",
    "            elseif (c_edge == 13) & ((c1==4) | (c2==4))\n",
    "                    crossingTest(1,2,status,count)\n",
    "            elseif (c_edge == 14) & ((c1==4) | (c2==4))\n",
    "                    crossingTest(2,1,status,count)\n",
    "            elseif c_edge == 7 count += 1\n",
    "            elseif c_edge == 11 count = count\n",
    "            elseif c_edge == 1\n",
    "                if c_int == 0 return \"p_on\"\n",
    "                elseif c_int == 4 crossingTest(1,2,status,count) end\n",
    "            elseif c_edge == 2\n",
    "                if c_int == 0 return \"p_on\"\n",
    "                elseif c_int == 4 crossingTest(2,1,status,count) end\n",
    "            elseif (c_edge == 4) & (c_un == c_edge) return \"p_on\"\n",
    "            elseif (c_edge == 8) & (c_un == c_edge) return \"p_on\"\n",
    "            elseif c_edge == 5\n",
    "                if (c1==0) | (c2==0) return \"p_on\"\n",
    "                else crossingTest(1,2,status,count) end\n",
    "            elseif c_edge == 6\n",
    "                if (c1==0) | (c2==0) return \"p_on\"\n",
    "                else crossingTest(2,1,status,count) end\n",
    "            elseif (c_edge == 9) & ((c1==0) | (c2==0)) return \"p_on\"\n",
    "            elseif (c_edge == 10) & ((c1==0) | (c2==0)) return \"p_on\"\n",
    "            end\n",
    "        end\n",
    "        if (round(count)%2)==1\n",
    "        \treturn \"p_in\"\n",
    "        else\n",
    "        \treturn \"p_out\"\n",
    "        end\n",
    "    end\n",
    "    return pointInPolygonClassification0\n",
    "end"
   ]
  },
  {
   "cell_type": "code",
   "execution_count": 32,
   "id": "cc2e9700",
   "metadata": {},
   "outputs": [
    {
     "name": "stdout",
     "output_type": "stream",
     "text": [
      "  118.890 ns (1 allocation: 32 bytes)\n"
     ]
    },
    {
     "data": {
      "text/plain": [
       "(::var\"#pointInPolygonClassification0#9\"{Matrix{Float64}, Vector{Vector{Int64}}}) (generic function with 1 method)"
      ]
     },
     "metadata": {},
     "output_type": "display_data"
    }
   ],
   "source": [
    "@btime pointInPolygonClassification(V, EV)   #118.890 μs"
   ]
  },
  {
   "cell_type": "code",
   "execution_count": 5,
   "id": "60837066",
   "metadata": {},
   "outputs": [
    {
     "name": "stdout",
     "output_type": "stream",
     "text": [
      "MethodInstance for pointInPolygonClassification(::Matrix{Float64}, ::Vector{Vector{Int64}})\n",
      "  from pointInPolygonClassification(V, EV) in Main at /Users/marco/Desktop/ProgettoCalcoloGIT/LAR SPLITTING 2D/notebook/Notebook-refactoring_pointInPolygon.ipynb:1\n",
      "Arguments\n",
      "  #self#\u001b[36m::Core.Const(pointInPolygonClassification)\u001b[39m\n",
      "  V\u001b[36m::Matrix{Float64}\u001b[39m\n",
      "  EV\u001b[36m::Vector{Vector{Int64}}\u001b[39m\n",
      "Locals\n",
      "  pointInPolygonClassification0\u001b[36m::var\"#pointInPolygonClassification0#9\"{Matrix{Float64}, Vector{Vector{Int64}}}\u001b[39m\n",
      "Body\u001b[36m::var\"#pointInPolygonClassification0#9\"{Matrix{Float64}, Vector{Vector{Int64}}}\u001b[39m\n",
      "\u001b[90m1 ─\u001b[39m %1 = Main.:(var\"#pointInPolygonClassification0#9\")\u001b[36m::Core.Const(var\"#pointInPolygonClassification0#9\")\u001b[39m\n",
      "\u001b[90m│  \u001b[39m %2 = Core.typeof(V)\u001b[36m::Core.Const(Matrix{Float64})\u001b[39m\n",
      "\u001b[90m│  \u001b[39m %3 = Core.typeof(EV)\u001b[36m::Core.Const(Vector{Vector{Int64}})\u001b[39m\n",
      "\u001b[90m│  \u001b[39m %4 = Core.apply_type(%1, %2, %3)\u001b[36m::Core.Const(var\"#pointInPolygonClassification0#9\"{Matrix{Float64}, Vector{Vector{Int64}}})\u001b[39m\n",
      "\u001b[90m│  \u001b[39m      (pointInPolygonClassification0 = %new(%4, V, EV))\n",
      "\u001b[90m└──\u001b[39m      return pointInPolygonClassification0\n",
      "\n"
     ]
    }
   ],
   "source": [
    "@code_warntype pointInPolygonClassification(V,EV)"
   ]
  },
  {
   "cell_type": "markdown",
   "id": "a2477814",
   "metadata": {},
   "source": [
    "PointInPoligonClassification è type stable"
   ]
  },
  {
   "cell_type": "markdown",
   "id": "8a9bd74c",
   "metadata": {},
   "source": [
    "## Versione parallelizzata di pointInPolygonClassification"
   ]
  },
  {
   "cell_type": "code",
   "execution_count": 6,
   "id": "889589cf",
   "metadata": {},
   "outputs": [
    {
     "data": {
      "text/plain": [
       "edgecode1 (generic function with 1 method)"
      ]
     },
     "metadata": {},
     "output_type": "display_data"
    }
   ],
   "source": [
    "function edgecode1(c_int) #c_edge == 1\n",
    "    if c_int == 0 return \"p_on\"\n",
    "    elseif c_int == 4 crossingTest(1,2,status, counter) end \n",
    "end "
   ]
  },
  {
   "cell_type": "code",
   "execution_count": 7,
   "id": "5ae903d9",
   "metadata": {},
   "outputs": [
    {
     "data": {
      "text/plain": [
       "edgecode2 (generic function with 1 method)"
      ]
     },
     "metadata": {},
     "output_type": "display_data"
    }
   ],
   "source": [
    "function edgecode2(c_int) #c_edge == 2\n",
    "    if c_int == 0 return \"p_on\"\n",
    "    elseif c_int == 4 crossingTest(2,1,status, counter) end \n",
    "end "
   ]
  },
  {
   "cell_type": "code",
   "execution_count": 8,
   "id": "4cbeadd8",
   "metadata": {},
   "outputs": [
    {
     "data": {
      "text/plain": [
       "edgecode3 (generic function with 1 method)"
      ]
     },
     "metadata": {},
     "output_type": "display_data"
    }
   ],
   "source": [
    "function edgecode3(c_int) #c_edge == 3\n",
    "    if c_int == 0 return \"p_on\"\n",
    "    elseif c_int == 4 counter += 1 end \n",
    "end "
   ]
  },
  {
   "cell_type": "code",
   "execution_count": 9,
   "id": "f8d767ab",
   "metadata": {},
   "outputs": [
    {
     "data": {
      "text/plain": [
       "edgecode4 (generic function with 1 method)"
      ]
     },
     "metadata": {},
     "output_type": "display_data"
    }
   ],
   "source": [
    "function edgecode4(c_un) #c_edge == 4\n",
    "    if c_un == 3 return \"p_on\" end \n",
    "end "
   ]
  },
  {
   "cell_type": "code",
   "execution_count": 10,
   "id": "296c86a9",
   "metadata": {},
   "outputs": [
    {
     "data": {
      "text/plain": [
       "edgecode5 (generic function with 1 method)"
      ]
     },
     "metadata": {},
     "output_type": "display_data"
    }
   ],
   "source": [
    "function edgecode5(c1,c2) #c_edge == 5\n",
    "    if (c1==0) | (c2==0) return \"p_on\"\n",
    "    else crossingTest(1,2,status, counter) end \n",
    "end "
   ]
  },
  {
   "cell_type": "code",
   "execution_count": 11,
   "id": "5d573953",
   "metadata": {},
   "outputs": [
    {
     "data": {
      "text/plain": [
       "edgecode6 (generic function with 1 method)"
      ]
     },
     "metadata": {},
     "output_type": "display_data"
    }
   ],
   "source": [
    "function edgecode6(c1,c2) #c_edge == 6\n",
    "    if ((c1==0) | (c2==0)) return \"p_on\"\n",
    "    else crossingTest(2,1,status, counter) end \n",
    "end "
   ]
  },
  {
   "cell_type": "code",
   "execution_count": 12,
   "id": "bfd539a5",
   "metadata": {},
   "outputs": [
    {
     "data": {
      "text/plain": [
       "edgecode7 (generic function with 1 method)"
      ]
     },
     "metadata": {},
     "output_type": "display_data"
    }
   ],
   "source": [
    "function edgecode7(counter) #c_edge == 7\n",
    "    counter += 1\n",
    "end"
   ]
  },
  {
   "cell_type": "code",
   "execution_count": 13,
   "id": "d626ed09",
   "metadata": {},
   "outputs": [
    {
     "data": {
      "text/plain": [
       "edgecode8 (generic function with 1 method)"
      ]
     },
     "metadata": {},
     "output_type": "display_data"
    }
   ],
   "source": [
    "function edgecode8(c_un) #c_edge == 8 (c_un == 6 su slide)\n",
    "    if (c_un == 8) return \"p_on\" end   \n",
    "end"
   ]
  },
  {
   "cell_type": "code",
   "execution_count": 14,
   "id": "87328c9c",
   "metadata": {},
   "outputs": [
    {
     "data": {
      "text/plain": [
       "edgecode9_10 (generic function with 1 method)"
      ]
     },
     "metadata": {},
     "output_type": "display_data"
    }
   ],
   "source": [
    "function edgecode9_10(c1,c2) #c_edge == 9/10\n",
    "    if ((c1 ==0) | (c2==0)) return \"p_on\" end\n",
    "end"
   ]
  },
  {
   "cell_type": "code",
   "execution_count": 15,
   "id": "fdf6f923",
   "metadata": {},
   "outputs": [
    {
     "data": {
      "text/plain": [
       "edgecode11 (generic function with 1 method)"
      ]
     },
     "metadata": {},
     "output_type": "display_data"
    }
   ],
   "source": [
    "function edgecode11() #c_edge == 11\n",
    "end"
   ]
  },
  {
   "cell_type": "code",
   "execution_count": 16,
   "id": "c629c390",
   "metadata": {},
   "outputs": [
    {
     "data": {
      "text/plain": [
       "edgecode12 (generic function with 1 method)"
      ]
     },
     "metadata": {},
     "output_type": "display_data"
    }
   ],
   "source": [
    "function edgecode12(c_un) #c_edge = 12\n",
    "    if (c_un == 12 ) return \"p_on\" end    \n",
    "end"
   ]
  },
  {
   "cell_type": "code",
   "execution_count": 17,
   "id": "7a2567f8",
   "metadata": {},
   "outputs": [
    {
     "data": {
      "text/plain": [
       "edgecode13 (generic function with 1 method)"
      ]
     },
     "metadata": {},
     "output_type": "display_data"
    }
   ],
   "source": [
    "function edgecode13(c1,c2) #c_edge = 13\n",
    "    if (( c1 ==4) | (c2 == 4))\n",
    "        crossingTest(1,2,status, counter) end\n",
    "end"
   ]
  },
  {
   "cell_type": "code",
   "execution_count": 18,
   "id": "0b989c50",
   "metadata": {},
   "outputs": [
    {
     "data": {
      "text/plain": [
       "edgecode14 (generic function with 1 method)"
      ]
     },
     "metadata": {},
     "output_type": "display_data"
    }
   ],
   "source": [
    "function edgecode14(c1,c2) #c_edge = 14\n",
    "    if (( c1 ==4) | (c2 == 4))\n",
    "        crossingTest(2,1,status, counter) end\n",
    "end"
   ]
  },
  {
   "cell_type": "code",
   "execution_count": 19,
   "id": "518d49b4",
   "metadata": {},
   "outputs": [
    {
     "data": {
      "text/plain": [
       "edgecode15 (generic function with 1 method)"
      ]
     },
     "metadata": {},
     "output_type": "display_data"
    }
   ],
   "source": [
    "function edgecode15(x1,x2,y1,y2,x,y)\n",
    "    x_int = ((y-y2)*(x1-x2)/(y1-y2))+x2\n",
    "    if x_int > x counter+=1\n",
    "    elseif (x_int == x) return \"p_on\" end\n",
    "end"
   ]
  },
  {
   "cell_type": "markdown",
   "id": "1237d159",
   "metadata": {},
   "source": [
    "## Versione pointInPolygonClassificationMOD con funzioni separate"
   ]
  },
  {
   "cell_type": "code",
   "execution_count": 20,
   "id": "25732532",
   "metadata": {},
   "outputs": [
    {
     "data": {
      "text/plain": [
       "pointInPolygonClassificationMOD (generic function with 1 method)"
      ]
     },
     "metadata": {},
     "output_type": "display_data"
    }
   ],
   "source": [
    "function pointInPolygonClassificationMOD(V,EV) \n",
    "    function pointInPolygonClassification0(pnt)\n",
    "        x,y = pnt\n",
    "        xmin,xmax,ymin,ymax = x,x,y,y\n",
    "        tilecode = setTile([ymax,ymin,xmax,xmin])\n",
    "        count,status = 0,0\n",
    "@async   for (k,edge) in enumerate(EV)\n",
    "            p1,p2 = V[:,edge[1]],V[:,edge[2]]\n",
    "            (x1,y1),(x2,y2) = p1,p2\n",
    "            c1,c2 = tilecode(p1),tilecode(p2)\n",
    "            c_edge, c_un, c_int = c1⊻c2, c1|c2, c1&c2\n",
    "\n",
    "            if (c_edge == 0) & (c_un == 0) return \"p_on\"\n",
    "            elseif (c_edge == 12) & (c_un == c_edge) return \"p_on\"\n",
    "            elseif c_edge == 3\n",
    "                edgecode3(c_int)\n",
    "            elseif c_edge == 15\n",
    "               edgecode15(x1,x2,y1,y2,x,y)\n",
    "            elseif (c_edge == 13) & ((c1==4) | (c2==4))\n",
    "                    crossingTest(1,2,status,count)\n",
    "            elseif (c_edge == 14) & ((c1==4) | (c2==4))\n",
    "                    crossingTest(2,1,status,count)\n",
    "            elseif c_edge == 7 edgecode7(counter)\n",
    "            elseif c_edge == 11 count = count\n",
    "            elseif c_edge == 1\n",
    "               edgecode1(c_int)\n",
    "            elseif c_edge == 2\n",
    "                edgecode2(c_int)\n",
    "            elseif (c_edge == 4) & (c_un == c_edge) return \"p_on\"\n",
    "            elseif (c_edge == 8) & (c_un == c_edge) return \"p_on\"\n",
    "            elseif c_edge == 5\n",
    "                edgecode5(c1,c2)\n",
    "            elseif c_edge == 6\n",
    "                edgecode6(c1,c2)\n",
    "            elseif (c_edge == 9) & ((c1==0) | (c2==0)) return \"p_on\"\n",
    "            elseif (c_edge == 10) & ((c1==0) | (c2==0)) return \"p_on\"\n",
    "            end\n",
    "        end\n",
    "        if (round(count)%2)==1\n",
    "        \treturn \"p_in\"\n",
    "        else\n",
    "        \treturn \"p_out\"\n",
    "        end\n",
    "    end\n",
    "    return pointInPolygonClassification0\n",
    "end"
   ]
  },
  {
   "cell_type": "code",
   "execution_count": 33,
   "id": "c642e906",
   "metadata": {},
   "outputs": [
    {
     "name": "stdout",
     "output_type": "stream",
     "text": [
      "  118.316 ns (1 allocation: 32 bytes)\n"
     ]
    },
    {
     "data": {
      "text/plain": [
       "(::var\"#pointInPolygonClassification0#11\"{Matrix{Float64}, Vector{Vector{Int64}}}) (generic function with 1 method)"
      ]
     },
     "metadata": {},
     "output_type": "display_data"
    }
   ],
   "source": [
    "@btime pointInPolygonClassificationMOD(V,EV)  #118,316 μs"
   ]
  },
  {
   "cell_type": "markdown",
   "id": "a683ae6a",
   "metadata": {},
   "source": [
    "## TEST"
   ]
  },
  {
   "cell_type": "code",
   "execution_count": 25,
   "id": "02ee8d81",
   "metadata": {},
   "outputs": [
    {
     "name": "stdout",
     "output_type": "stream",
     "text": [
      "\u001b[0m\u001b[1mTest Summary:                      | \u001b[22m\u001b[32m\u001b[1mPass  \u001b[22m\u001b[39m\u001b[36m\u001b[1mTotal\u001b[22m\u001b[39m\n",
      "pointInPolygonClassification Tests | \u001b[32m   6  \u001b[39m\u001b[36m    6\u001b[39m\n"
     ]
    },
    {
     "data": {
      "text/plain": [
       "Test.DefaultTestSet(\"pointInPolygonClassification Tests\", Any[Test.DefaultTestSet(\"pointInPolygonClassification Tests\", Any[], 6, false, false)], 0, false, false)"
      ]
     },
     "metadata": {},
     "output_type": "display_data"
    }
   ],
   "source": [
    "using Test\n",
    "\n",
    "@testset \"pointInPolygonClassification Tests\" begin\n",
    "\n",
    "    (V, EV) = ([0.43145 0.596771 0.758062 1.0 0.778226 0.919353 0.879033 0.806447 0.778226 0.709677 0.596771 0.262094 0.322578 0.0 0.2379 0.161291 0.467739 0.429435 0.627999 0.627999 0.383062 0.694833 0.653221 0.544027 0.778226 0.848789 0.750707 0.627999 0.694833 0.806447; -0.0163938 0.22521 0.104412 0.325182 0.629266 0.683418 0.820882 0.725074 0.845873 0.75215 1.0 0.820882 0.629266 0.385151 0.43765 0.246033 0.466811 0.629266 0.704244 0.507207 0.275195 0.683418 0.43765 0.291323 0.199264 0.43765 0.497413 0.341841 0.259902 0.364484], Array{Int64,1}[[1, 2], [2, 3], [3, 4], [4, 5], [5, 6], [6, 7], [7, 8], [8, 9], [9, 10], [10, 11], [11, 12], [12, 13], [13, 14], [14, 15], [15, 16], [16, 17], [17, 18], [18, 19], [19, 20], [20, 21], [21, 1], [22, 23], [24, 23], [24, 25], [25, 26], [26, 22], [27, 28], [28, 29], [29, 30], [30, 27]])\n",
    "    \n",
    "    classify = Lar.pointInPolygonClassification(V,EV)\n",
    "    queryPoint = [0.5,0.5]\n",
    "       \n",
    "        @testset \"pointInPolygonClassification Tests\" begin\n",
    "            @test Lar.pointInPolygonClassification(V,EV) isa Function\n",
    "            @test pnt = [0.5,0.5] isa Array{Float64,1}\n",
    "            @test classify(queryPoint)==\"p_out\"\n",
    "            @test classify([0.5,0.75])==\"p_in\"\n",
    "            @test classify([1.5,0.75])==\"p_out\"\n",
    "            @test typeof(classify(queryPoint))==String\n",
    "        end\n",
    "    end"
   ]
  },
  {
   "cell_type": "markdown",
   "id": "62672335",
   "metadata": {},
   "source": [
    "![test di pointInpolygon](https://github.com/MarcoCap13/LARSplitting2D/blob/main/docs/test/pointInPolygon_test.png?raw=true)"
   ]
  },
  {
   "cell_type": "markdown",
   "id": "613ebe1b",
   "metadata": {},
   "source": [
    "### Benchmark della funzione iniziale e modificata"
   ]
  },
  {
   "cell_type": "markdown",
   "id": "6c2f1ea2",
   "metadata": {},
   "source": [
    "funzione iniziale:"
   ]
  },
  {
   "cell_type": "code",
   "execution_count": 23,
   "id": "e0a1a242",
   "metadata": {},
   "outputs": [
    {
     "data": {
      "text/plain": [
       "BenchmarkTools.Trial: 10000 samples with 909 evaluations.\n",
       " Range \u001b[90m(\u001b[39m\u001b[36m\u001b[1mmin\u001b[22m\u001b[39m … \u001b[35mmax\u001b[39m\u001b[90m):  \u001b[39m\u001b[36m\u001b[1m125.216 ns\u001b[22m\u001b[39m … \u001b[35m 3.272 μs\u001b[39m  \u001b[90m┊\u001b[39m GC \u001b[90m(\u001b[39mmin … max\u001b[90m): \u001b[39m0.00% … 95.70%\n",
       " Time  \u001b[90m(\u001b[39m\u001b[34m\u001b[1mmedian\u001b[22m\u001b[39m\u001b[90m):     \u001b[39m\u001b[34m\u001b[1m126.916 ns              \u001b[22m\u001b[39m\u001b[90m┊\u001b[39m GC \u001b[90m(\u001b[39mmedian\u001b[90m):    \u001b[39m0.00%\n",
       " Time  \u001b[90m(\u001b[39m\u001b[32m\u001b[1mmean\u001b[22m\u001b[39m ± \u001b[32mσ\u001b[39m\u001b[90m):   \u001b[39m\u001b[32m\u001b[1m138.721 ns\u001b[22m\u001b[39m ± \u001b[32m78.786 ns\u001b[39m  \u001b[90m┊\u001b[39m GC \u001b[90m(\u001b[39mmean ± σ\u001b[90m):  \u001b[39m1.06% ±  2.14%\n",
       "\n",
       "  \u001b[34m█\u001b[39m\u001b[39m▅\u001b[39m \u001b[39m \u001b[32m \u001b[39m\u001b[39m \u001b[39m \u001b[39m \u001b[39m \u001b[39m \u001b[39m \u001b[39m \u001b[39m \u001b[39m \u001b[39m \u001b[39m \u001b[39m \u001b[39m \u001b[39m \u001b[39m \u001b[39m \u001b[39m \u001b[39m \u001b[39m \u001b[39m \u001b[39m \u001b[39m \u001b[39m \u001b[39m \u001b[39m \u001b[39m \u001b[39m \u001b[39m \u001b[39m \u001b[39m \u001b[39m \u001b[39m \u001b[39m \u001b[39m \u001b[39m \u001b[39m \u001b[39m \u001b[39m \u001b[39m \u001b[39m \u001b[39m \u001b[39m \u001b[39m \u001b[39m \u001b[39m \u001b[39m \u001b[39m \u001b[39m \u001b[39m \u001b[39m \u001b[39m \u001b[39m \u001b[39m \u001b[39m \u001b[39m \u001b[39m \u001b[39m▁\n",
       "  \u001b[34m█\u001b[39m\u001b[39m█\u001b[39m█\u001b[39m▇\u001b[32m▇\u001b[39m\u001b[39m▇\u001b[39m▇\u001b[39m▇\u001b[39m▇\u001b[39m█\u001b[39m▇\u001b[39m▇\u001b[39m▆\u001b[39m▇\u001b[39m▆\u001b[39m▆\u001b[39m▆\u001b[39m▆\u001b[39m▅\u001b[39m▆\u001b[39m▆\u001b[39m▅\u001b[39m▆\u001b[39m▅\u001b[39m▅\u001b[39m▅\u001b[39m▅\u001b[39m▆\u001b[39m▃\u001b[39m▅\u001b[39m▇\u001b[39m▆\u001b[39m▅\u001b[39m▅\u001b[39m▅\u001b[39m▆\u001b[39m▅\u001b[39m▄\u001b[39m▅\u001b[39m▄\u001b[39m▅\u001b[39m▅\u001b[39m▃\u001b[39m▄\u001b[39m▅\u001b[39m▅\u001b[39m▅\u001b[39m▅\u001b[39m▄\u001b[39m▃\u001b[39m▃\u001b[39m▃\u001b[39m▄\u001b[39m▄\u001b[39m▄\u001b[39m▄\u001b[39m▅\u001b[39m▄\u001b[39m▃\u001b[39m▃\u001b[39m \u001b[39m█\n",
       "  125 ns\u001b[90m        \u001b[39m\u001b[90mHistogram: \u001b[39m\u001b[90m\u001b[1mlog(\u001b[22m\u001b[39m\u001b[90mfrequency\u001b[39m\u001b[90m\u001b[1m)\u001b[22m\u001b[39m\u001b[90m by time\u001b[39m       355 ns \u001b[0m\u001b[1m<\u001b[22m\n",
       "\n",
       " Memory estimate\u001b[90m: \u001b[39m\u001b[33m32 bytes\u001b[39m, allocs estimate\u001b[90m: \u001b[39m\u001b[33m1\u001b[39m."
      ]
     },
     "metadata": {},
     "output_type": "display_data"
    }
   ],
   "source": [
    "@benchmark pointInPolygonClassification(V, EV)"
   ]
  },
  {
   "cell_type": "markdown",
   "id": "88fe8a7e",
   "metadata": {},
   "source": [
    "funzione modificata:"
   ]
  },
  {
   "cell_type": "code",
   "execution_count": 24,
   "id": "e7efa5cb",
   "metadata": {},
   "outputs": [
    {
     "data": {
      "text/plain": [
       "BenchmarkTools.Trial: 10000 samples with 909 evaluations.\n",
       " Range \u001b[90m(\u001b[39m\u001b[36m\u001b[1mmin\u001b[22m\u001b[39m … \u001b[35mmax\u001b[39m\u001b[90m):  \u001b[39m\u001b[36m\u001b[1m122.523 ns\u001b[22m\u001b[39m … \u001b[35m 14.777 μs\u001b[39m  \u001b[90m┊\u001b[39m GC \u001b[90m(\u001b[39mmin … max\u001b[90m): \u001b[39m0.00% … 98.55%\n",
       " Time  \u001b[90m(\u001b[39m\u001b[34m\u001b[1mmedian\u001b[22m\u001b[39m\u001b[90m):     \u001b[39m\u001b[34m\u001b[1m124.569 ns               \u001b[22m\u001b[39m\u001b[90m┊\u001b[39m GC \u001b[90m(\u001b[39mmedian\u001b[90m):    \u001b[39m0.00%\n",
       " Time  \u001b[90m(\u001b[39m\u001b[32m\u001b[1mmean\u001b[22m\u001b[39m ± \u001b[32mσ\u001b[39m\u001b[90m):   \u001b[39m\u001b[32m\u001b[1m186.115 ns\u001b[22m\u001b[39m ± \u001b[32m396.991 ns\u001b[39m  \u001b[90m┊\u001b[39m GC \u001b[90m(\u001b[39mmean ± σ\u001b[90m):  \u001b[39m1.52% ±  2.14%\n",
       "\n",
       "  \u001b[34m█\u001b[39m\u001b[39m▃\u001b[39m▃\u001b[39m▂\u001b[32m▂\u001b[39m\u001b[39m▂\u001b[39m▁\u001b[39m▂\u001b[39m▂\u001b[39m▂\u001b[39m▁\u001b[39m \u001b[39m \u001b[39m \u001b[39m \u001b[39m \u001b[39m \u001b[39m \u001b[39m \u001b[39m \u001b[39m \u001b[39m \u001b[39m \u001b[39m \u001b[39m \u001b[39m \u001b[39m \u001b[39m \u001b[39m \u001b[39m \u001b[39m \u001b[39m \u001b[39m \u001b[39m \u001b[39m \u001b[39m \u001b[39m \u001b[39m \u001b[39m \u001b[39m \u001b[39m \u001b[39m \u001b[39m \u001b[39m \u001b[39m \u001b[39m \u001b[39m \u001b[39m \u001b[39m \u001b[39m \u001b[39m \u001b[39m \u001b[39m \u001b[39m \u001b[39m \u001b[39m \u001b[39m \u001b[39m \u001b[39m \u001b[39m \u001b[39m \u001b[39m \u001b[39m▁\n",
       "  \u001b[34m█\u001b[39m\u001b[39m█\u001b[39m█\u001b[39m█\u001b[32m█\u001b[39m\u001b[39m█\u001b[39m█\u001b[39m█\u001b[39m█\u001b[39m█\u001b[39m█\u001b[39m█\u001b[39m▇\u001b[39m█\u001b[39m▇\u001b[39m▇\u001b[39m▆\u001b[39m▇\u001b[39m▆\u001b[39m▆\u001b[39m▆\u001b[39m▆\u001b[39m▆\u001b[39m▆\u001b[39m▆\u001b[39m▅\u001b[39m▆\u001b[39m▅\u001b[39m▅\u001b[39m▆\u001b[39m▅\u001b[39m▅\u001b[39m▅\u001b[39m▅\u001b[39m▅\u001b[39m▅\u001b[39m▅\u001b[39m▅\u001b[39m▅\u001b[39m▄\u001b[39m▅\u001b[39m▄\u001b[39m▃\u001b[39m▄\u001b[39m▄\u001b[39m▅\u001b[39m▅\u001b[39m▄\u001b[39m▄\u001b[39m▅\u001b[39m▃\u001b[39m▄\u001b[39m▁\u001b[39m▄\u001b[39m▃\u001b[39m▄\u001b[39m▃\u001b[39m▄\u001b[39m▁\u001b[39m▃\u001b[39m▄\u001b[39m \u001b[39m█\n",
       "  123 ns\u001b[90m        \u001b[39m\u001b[90mHistogram: \u001b[39m\u001b[90m\u001b[1mlog(\u001b[22m\u001b[39m\u001b[90mfrequency\u001b[39m\u001b[90m\u001b[1m)\u001b[22m\u001b[39m\u001b[90m by time\u001b[39m       1.11 μs \u001b[0m\u001b[1m<\u001b[22m\n",
       "\n",
       " Memory estimate\u001b[90m: \u001b[39m\u001b[33m32 bytes\u001b[39m, allocs estimate\u001b[90m: \u001b[39m\u001b[33m1\u001b[39m."
      ]
     },
     "metadata": {},
     "output_type": "display_data"
    }
   ],
   "source": [
    "@benchmark pointInPolygonClassificationMOD(V, EV)"
   ]
  }
 ],
 "metadata": {
  "kernelspec": {
   "display_name": "Julia 1.7.2",
   "language": "julia",
   "name": "julia-1.7"
  },
  "language_info": {
   "file_extension": ".jl",
   "mimetype": "application/julia",
   "name": "julia",
   "version": "1.7.2"
  }
 },
 "nbformat": 4,
 "nbformat_minor": 5
}
