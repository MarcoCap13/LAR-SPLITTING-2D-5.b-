{
 "cells": [
  {
   "cell_type": "markdown",
   "id": "938a123f",
   "metadata": {},
   "source": [
    "#### **Gruppo 5.b**: Caponi Marco (matricola: 508773) - Ceneda Gianluca (matricola: 488257)"
   ]
  },
  {
   "cell_type": "markdown",
   "id": "4f03816f",
   "metadata": {},
   "source": [
    "# ANALISI E REVISIONE DEL PROGETTO LARSPLITTING 2D "
   ]
  },
  {
   "cell_type": "markdown",
   "id": "bbd19810",
   "metadata": {},
   "source": [
    "## CLASSE REFACTORING: fragmentlines\n"
   ]
  },
  {
   "cell_type": "markdown",
   "id": "b9488613",
   "metadata": {},
   "source": [
    "Variabili utili per testare il funzionamento\n"
   ]
  },
  {
   "cell_type": "code",
   "execution_count": 13,
   "id": "d88d8e60",
   "metadata": {
    "scrolled": true
   },
   "outputs": [],
   "source": [
    "using LinearAlgebraicRepresentation\n",
    "Lar = LinearAlgebraicRepresentation\n",
    "using IntervalTrees\n",
    "using SparseArrays\n",
    "using NearestNeighbors\n",
    "using DataStructures\n",
    "using OrderedCollections\n",
    "using BenchmarkTools"
   ]
  },
  {
   "cell_type": "code",
   "execution_count": 14,
   "id": "e9c426fc",
   "metadata": {},
   "outputs": [
    {
     "data": {
      "text/plain": [
       "5-element Vector{Vector{Int64}}:\n",
       " [4, 1, 3, 5, 2]\n",
       " [1, 3, 5, 2]\n",
       " [4, 1, 3, 5, 2]\n",
       " [4, 1, 3, 5]\n",
       " [4, 1, 3, 5, 2]"
      ]
     },
     "metadata": {},
     "output_type": "display_data"
    }
   ],
   "source": [
    "V = hcat([[0.,0],[1,0],[1,1],[0,1],[2,1]]...);    #vertici del modello 2D\n",
    "V3 = hcat([[0.,0,0],[1,0,3],[1,1,2],[0,1,1],[2,1,0]]...);   #vertici del modello 3D\n",
    "EV = [[1,2],[2,3],[3,4],[4,1],[1,5]];             #spigoli del modello\n",
    "bb = [[0.0 1.0; 0.0 0.0], [1.0 1.0; 0.0 1.0], [0.0 1.0; 1.0 1.0], [0.0 0.0; 0.0 1.0], [0.0 2.0; 0.0 1.0]];  #bounding box\n",
    "dict = OrderedDict([0.0, 1.0] => [1, 3],[1.0, 1.0] => [2],[0.0, 0.0] => [4],[0.0, 2.0] => [5])  #dizionario intervallo/indice\n",
    "cov = [[4, 1, 3, 5, 2], [1, 3, 5, 2], [4, 1, 3, 5, 2], [4, 1, 3, 5], [4, 1, 3, 5, 2]]    #intersezioni tra bounding box"
   ]
  },
  {
   "cell_type": "markdown",
   "id": "cafadc15",
   "metadata": {},
   "source": [
    "### Funzioni di supporto aggiuntive"
   ]
  },
  {
   "cell_type": "code",
   "execution_count": 15,
   "id": "9ee86f62",
   "metadata": {},
   "outputs": [
    {
     "data": {
      "text/plain": [
       "approxVal (generic function with 1 method)"
      ]
     },
     "metadata": {},
     "output_type": "display_data"
    }
   ],
   "source": [
    "function spaceindex(model::Lar.LAR)::Array{Array{Int,1},1}\n",
    "    V,CV = model[1:2]\n",
    "    # se il modello è in 3d o 2d (guardo le righe di V, in 3d V è una 3xN, in 2d V è una 2xN)\n",
    "    dim = size(V,1)\n",
    "    cellpoints = [ V[:,CV[k]]::Lar.Points for k=1:length(CV) ]\n",
    "    #----------------------------------------------------------\n",
    "    bboxes = [hcat(boundingbox(cell)...) for cell in cellpoints]\n",
    "    xboxdict = coordintervals(1,bboxes)\n",
    "    yboxdict = coordintervals(2,bboxes)\n",
    "    # xs,ys are IntervalTree type\n",
    "    xs = IntervalTrees.IntervalMap{Float64, Array}()\n",
    "    for (key,boxset) in xboxdict\n",
    "        xs[tuple(key...)] = boxset\n",
    "    end\n",
    "    ys = IntervalTrees.IntervalMap{Float64, Array}()\n",
    "    for (key,boxset) in yboxdict\n",
    "        ys[tuple(key...)] = boxset\n",
    "    end\n",
    "    xcovers = boxcovering(bboxes, 1, xs)\n",
    "    ycovers = boxcovering(bboxes, 2, ys)\n",
    "    covers = [intersect(pair...) for pair in zip(xcovers,ycovers)]\n",
    "\n",
    "    if dim == 3\n",
    "        zboxdict = coordintervals(3,bboxes)\n",
    "        zs = IntervalTrees.IntervalMap{Float64, Array}()\n",
    "        for (key,boxset) in zboxdict\n",
    "            zs[tuple(key...)] = boxset\n",
    "        end\n",
    "        zcovers = boxcovering(bboxes, 3, zs)\n",
    "        covers = [intersect(pair...) for pair in zip(zcovers,covers)]\n",
    "    end\n",
    "    # remove each cell from its cover\n",
    "    for k=1:length(covers)\n",
    "        covers[k] = setdiff(covers[k],[k])\n",
    "    end\n",
    "    return covers\n",
    "end\n",
    "\n",
    "function boundingbox(vertices::Lar.Points)\n",
    "   minimum = mapslices(x->min(x...), vertices, dims=2)\n",
    "   maximum = mapslices(x->max(x...), vertices, dims=2)\n",
    "   return minimum, maximum\n",
    "end\n",
    "\n",
    "function coordintervals(coord,bboxes)\n",
    "    boxdict = OrderedDict{Array{Float64,1},Array{Int64,1}}()\n",
    "    for (h,box) in enumerate(bboxes)\n",
    "        key = box[coord,:]\n",
    "        if haskey(boxdict,key) == false\n",
    "            boxdict[key] = [h]\n",
    "        else\n",
    "            push!(boxdict[key], h)\n",
    "        end\n",
    "    end\n",
    "    return boxdict\n",
    "end\n",
    "\n",
    "function boxcovering(bboxes, index, tree)\n",
    "    covers = [[] for k=1:length(bboxes)]\n",
    "    for (i,boundingbox) in enumerate(bboxes)\n",
    "        extent = bboxes[i][index,:]\n",
    "        iterator = IntervalTrees.intersect(tree, tuple(extent...))\n",
    "        for x in iterator\n",
    "            append!(covers[i],x.value)\n",
    "        end\n",
    "    end\n",
    "    return covers\n",
    "end\n",
    "\n",
    "function linefragments(V,EV,Sigma)\n",
    "    m = length(Sigma) \n",
    "    sigma = map(sort,Sigma) \n",
    "    reducedsigma = sigma \n",
    "    params = Array{Float64,1}[[] for i=1:m]\n",
    "    for h=1:m\n",
    "        if sigma[h] ≠ []\n",
    "            line1 = V[:,EV[h]]\n",
    "            for k in sigma[h]\n",
    "                line2 = V[:,EV[k]]\n",
    "                out = intersection(line1,line2) \n",
    "                if out ≠ ()\n",
    "                    α,β = out\n",
    "                    if 0<=α<=1 && 0<=β<=1\n",
    "                        push!(params[h], α)\n",
    "                        push!(params[k], β)\n",
    "                    end\n",
    "                end\n",
    "            end\n",
    "        end\n",
    "    end\n",
    "    fragparams = []\n",
    "    for line in params\n",
    "        push!(line, 0.0, 1.0)\n",
    "        line = sort(collect(Set(line)))\n",
    "        push!(fragparams, line)\n",
    "    end\n",
    "    return fragparams\n",
    "end\n",
    "\n",
    "function intersection(line1,line2)\n",
    "    x1,y1,x2,y2 = vcat(line1...)\n",
    "    x3,y3,x4,y4 = vcat(line2...)\n",
    "\n",
    "    det = (x4-x3)*(y1-y2)-(x1-x2)*(y4-y3)\n",
    "    if det != 0.0\n",
    "        a = 1/det\n",
    "        b = [y1-y2 x2-x1; y3-y4 x4-x3]  # x1-x2 => x2-x1 bug in the source link !!\n",
    "        c = [x1-x3; y1-y3]\n",
    "        (β,α) = a * b * c\n",
    "    else\n",
    "        if (y1==y2) == (y3==y4) || (x1==x2) == (x3==x4) # segments collinear\n",
    "             return nothing\n",
    "        else\n",
    "             # segments parallel: no intersection\n",
    "             return nothing\n",
    "        end\n",
    "    end\n",
    "    return α,β\n",
    "end\n",
    "\n",
    "function congruence(model)\n",
    "    W,EW = model\n",
    "    balltree = NearestNeighbors.BallTree(W)\n",
    "    r = 0.0000000001\n",
    "    near = Array{Any}(undef, size(W,2))\n",
    "    for k=1:size(W,2)\n",
    "        near[k] = NearestNeighbors.inrange(balltree, W[:,k], r, true)\n",
    "    end\n",
    "    near = map(sort,near) \n",
    "    for k=1:size(W,2)\n",
    "        W[:,k] = W[:,near[k][1]]\n",
    "    end\n",
    "    pointidx = [ near[k][1] for k=1:size(W,2) ] \n",
    "    invidx = OrderedDict(zip(1:length(pointidx), pointidx))\n",
    "    V = [W[:,k] for k=1:length(pointidx)]\n",
    "    EV = []\n",
    "    for e in (EW)\n",
    "        newedge = [invidx[e[1]],invidx[e[2]]]\n",
    "        if newedge[1] !== newedge[2]\n",
    "            push!(EV,newedge)\n",
    "        end\n",
    "    end\n",
    "    EV = [EV[h] for h=1:length(EV) if length(EV[h])==2]\n",
    "    EV = convert(Lar.Cells, EV)\n",
    "    return hcat(V...),EV\n",
    "end\n",
    "\n",
    "function approxVal(PRECISION)\n",
    "    function approxVal0(value)\n",
    "    out = round(value, digits=PRECISION)\n",
    "    if out == -0.0\n",
    "        out = 0.0\n",
    "    end\n",
    "    return out\n",
    "    end\n",
    "    return approxVal0\n",
    "end"
   ]
  },
  {
   "cell_type": "markdown",
   "id": "37050106",
   "metadata": {},
   "source": [
    "## Versione iniziale di fragmentlines\n",
    "\n",
    "prende in input il modello e anche grazie a spaceindex calcola e restituisce vertici e spigoli di quest’ultimo."
   ]
  },
  {
   "cell_type": "code",
   "execution_count": 16,
   "id": "24d60c36",
   "metadata": {},
   "outputs": [
    {
     "data": {
      "text/plain": [
       "fragmentlines (generic function with 1 method)"
      ]
     },
     "metadata": {},
     "output_type": "display_data"
    }
   ],
   "source": [
    "function fragmentlines(model)\n",
    "    V,EV = model\n",
    "    # Creo indice spaziale\n",
    "    Sigma = spaceindex(model)\n",
    "    # calcolo parametri d'intersezione degli spigoli\n",
    "    lineparams = linefragments(V,EV,Sigma)\n",
    "    # initialization of local data structures\n",
    "    vertdict = OrderedDict{Array{Float64,1},Array{Int,1}}()\n",
    "    pairs = collect(zip(lineparams, [V[:,e] for e in EV]))\n",
    "    vertdict = OrderedDict{Array{Float64,1},Int}()\n",
    "    #Inizializzo nuovi V, EV per aggiungere i nuovi vertici/spigoli dello splitting\n",
    "    W = Array[]\n",
    "    EW = Array[]\n",
    "    k = 0\n",
    "    # Ricostruisco i nuovi punti generati dall'intersezione tra spigoli\n",
    "    # tramite i parametri d'intersezione\n",
    "    # Per ogni spigolo...\n",
    "    for (params,linepoints) in pairs\n",
    "        v1 = linepoints[:,1] #Isolo primo punto dello spigolo\n",
    "        v2 = linepoints[:,2] #Isolo secondo punto dello spigolo\n",
    "        # Calcolo un array contenente tutti i punti d'intersezione sullo spigolo (tanti quanti\n",
    "        # sono i parametri d'intersez)\t\t\t\n",
    "        points = [ v1 + t*(v2 - v1) for t in params]   # !!!! loved !!\n",
    "        #Creo un array che conterrà gli id dei punti d'intersezione trovati (verticispigolo)\n",
    "        vs = zeros(Int64,1,length(points))\n",
    "        PRECISION = 8\n",
    "        # Per ogni punto d'intersezione trovato sullo spigolo....\n",
    "        for (h,point) in enumerate(points)\n",
    "            #Approssimo coordinate del punto(x,y) trovato di un epsilon \n",
    "            point = map(approxVal(PRECISION), point)\n",
    "            #Se non ho mai visto prima il punto....\n",
    "            if haskey(vertdict, point) == false\n",
    "                k += 1 #Genero ID punto \n",
    "                vertdict[point] = k #Associo l'ID al punto\n",
    "                push!(W, point) #Pusho il punto(x,y) nell'array W\n",
    "            end\n",
    "            vs[h] = vertdict[point] #Assegno l'id del punto trovato nell'array dei punti d'intersezione\n",
    "        end\n",
    "        [push!(EW, [vs[k], vs[k+1]]) for k=1:length(vs)-1]\n",
    "    end\n",
    "    #se ho N punti d'intersezione trovati, genero N-1 spigoli \n",
    "    #ESEMPIO: se vs=[34,35,36,37] vs[h=1]=34, vs[h=2]=35, vs[h=3]=36, vs[h=4]=37\n",
    "    # allora andrò a creare le coppie [34,35],[35,36],[36,37] come 3 spigoli. Queste coppie le pusho in EW\n",
    "    W,EW = hcat(W...),convert(Array{Array{Int64,1},1},EW)\n",
    "    V,EV = congruence((W,EW))\n",
    "    return V,EV\n",
    "end"
   ]
  },
  {
   "cell_type": "code",
   "execution_count": 23,
   "id": "f1bccd61",
   "metadata": {},
   "outputs": [
    {
     "name": "stdout",
     "output_type": "stream",
     "text": [
      "  222.622 μs (2224 allocations: 92.41 KiB)\n"
     ]
    },
    {
     "data": {
      "text/plain": [
       "([0.0 1.0 … 0.0 2.0; 0.0 0.0 … 1.0 1.0], [[1, 2], [2, 3], [3, 4], [4, 5], [5, 1], [1, 3], [3, 6]])"
      ]
     },
     "metadata": {},
     "output_type": "display_data"
    }
   ],
   "source": [
    "@btime fragmentlines((V,EV))  # 222.622 μs\n"
   ]
  },
  {
   "cell_type": "markdown",
   "id": "fc5cbcb3",
   "metadata": {},
   "source": [
    "la funzione è type stable in quanto ho nell'output la stringa:\n",
    "\n",
    "Body::Tuple{Any,Any}"
   ]
  },
  {
   "cell_type": "markdown",
   "id": "81f27f59",
   "metadata": {},
   "source": [
    "### versione parallelizzata fragmentlines\n",
    "\n",
    "\n",
    "La macro @inbounds invece ha ridotto leggermente il numero di allocazioni in memoria."
   ]
  },
  {
   "cell_type": "code",
   "execution_count": 18,
   "id": "0c6a7935",
   "metadata": {},
   "outputs": [
    {
     "data": {
      "text/plain": [
       "fragmentlinesMOD (generic function with 1 method)"
      ]
     },
     "metadata": {},
     "output_type": "display_data"
    }
   ],
   "source": [
    "function fragmentlinesMOD(model)\n",
    "    V,EV = model\n",
    "    Sigma = spaceindex(model)\n",
    "    lineparams = linefragments(V,EV,Sigma)\n",
    "    vertdict = OrderedDict{Array{Float64,1},Array{Int,1}}()\n",
    "    pairs = collect(zip(lineparams, [V[:,e] for e in EV]))\n",
    "    vertdict = OrderedDict{Array{Float64,1},Int}()\n",
    "    W = Array[]\n",
    "    EW = Array[]\n",
    "    k = 0\n",
    "    l = length(pairs)\n",
    "    @inbounds for i = 1:l\n",
    "        params = pairs[i][1]\n",
    "        linepoints = pairs[i][2]\n",
    "        v1 = linepoints[:,1]                       #Isolo primo punto dello spigolo\n",
    "        v2 = linepoints[:,2]                        #Isolo secondo punto dello spigolo\n",
    "        points = [ v1 + t*(v2 - v1) for t in params]   \n",
    "        vs = zeros(Int64,1,length(points))\n",
    "        PRECISION = 8\n",
    "        numpoint = length(points)\n",
    "        @inbounds @simd for h = 1:numpoint\n",
    "            points[h] = map(approxVal(PRECISION), points[h])\n",
    "            if !haskey(vertdict, points[h])\n",
    "                k += 1 #Genero ID punto \n",
    "                vertdict[points[h]] = k         #eguaglio l'ID al punto\n",
    "                push!(W, points[h])             #effettuo l'inserimento del punto(x,y) nell'array W\n",
    "            end\n",
    "            vs[h] = vertdict[points[h]] \n",
    "        end\n",
    "        m = length(vs) - 1\n",
    "        @inbounds @simd for k=1:m\n",
    "            push!(EW, [vs[k], vs[k+1]])\n",
    "        end\n",
    "    end\n",
    "    W,EW = hcat(W...),convert(Array{Array{Int64,1},1},EW)\n",
    "    V,EV = congruence((W,EW))\n",
    "    return V,EV\n",
    "end"
   ]
  },
  {
   "cell_type": "code",
   "execution_count": 25,
   "id": "fb33a528",
   "metadata": {},
   "outputs": [
    {
     "name": "stdout",
     "output_type": "stream",
     "text": [
      "  222.750 μs (2224 allocations: 92.41 KiB)\n"
     ]
    },
    {
     "data": {
      "text/plain": [
       "([0.0 1.0 … 0.0 2.0; 0.0 0.0 … 1.0 1.0], [[1, 2], [2, 3], [3, 4], [4, 5], [5, 1], [1, 3], [3, 6]])"
      ]
     },
     "metadata": {},
     "output_type": "display_data"
    }
   ],
   "source": [
    "@btime fragmentlinesMOD((V, EV))\n"
   ]
  },
  {
   "cell_type": "markdown",
   "id": "81505027",
   "metadata": {},
   "source": [
    "## TEST\n",
    " "
   ]
  },
  {
   "cell_type": "code",
   "execution_count": 26,
   "id": "5a31a259",
   "metadata": {},
   "outputs": [
    {
     "name": "stdout",
     "output_type": "stream",
     "text": [
      "\u001b[0m\u001b[1mTest Summary:       | \u001b[22m\u001b[32m\u001b[1mPass  \u001b[22m\u001b[39m\u001b[36m\u001b[1mTotal\u001b[22m\u001b[39m\n",
      "fragmentlines Tests | \u001b[32m   2  \u001b[39m\u001b[36m    2\u001b[39m\n"
     ]
    },
    {
     "data": {
      "text/plain": [
       "Test.DefaultTestSet(\"fragmentlines Tests\", Any[], 2, false, false)"
      ]
     },
     "metadata": {},
     "output_type": "display_data"
    }
   ],
   "source": [
    "using Test\n",
    "\n",
    "@testset \"fragmentlines Tests\" begin\n",
    "    V = hcat([[0.,0],[1,0],[1,1],[0,1],[2,1]]...);\n",
    "    EV = [[1,2],[2,3],[3,4],[4,1],[1,5]];\n",
    "    W,EW = Lar.fragmentlines((V,EV))\n",
    "    @test W == [0.0  1.0  1.0  1.0  0.0  2.0; 0.0  0.0  0.5  1.0  1.0  1.0]\n",
    "    @test EW == [[1, 2],[2, 3],[3, 4],[4, 5],[5, 1],[1, 3],[3, 6]]\n",
    "end"
   ]
  },
  {
   "cell_type": "markdown",
   "id": "dc9b62cd",
   "metadata": {},
   "source": [
    "![test di fragmentlines](https://github.com/MarcoCap13/LARSplitting2D/blob/main/docs/test/fragmentlines_test.png?raw=true)"
   ]
  },
  {
   "cell_type": "markdown",
   "id": "8916a52d",
   "metadata": {},
   "source": [
    "### Benchmark della funzione iniziale e modificata"
   ]
  },
  {
   "cell_type": "markdown",
   "id": "3ed16459",
   "metadata": {},
   "source": [
    "funzione iniziale:"
   ]
  },
  {
   "cell_type": "code",
   "execution_count": 27,
   "id": "0083c653",
   "metadata": {},
   "outputs": [
    {
     "data": {
      "text/plain": [
       "BenchmarkTools.Trial: 10000 samples with 1 evaluation.\n",
       " Range \u001b[90m(\u001b[39m\u001b[36m\u001b[1mmin\u001b[22m\u001b[39m … \u001b[35mmax\u001b[39m\u001b[90m):  \u001b[39m\u001b[36m\u001b[1m223.748 μs\u001b[22m\u001b[39m … \u001b[35m 28.192 ms\u001b[39m  \u001b[90m┊\u001b[39m GC \u001b[90m(\u001b[39mmin … max\u001b[90m): \u001b[39m0.00% … 0.00%\n",
       " Time  \u001b[90m(\u001b[39m\u001b[34m\u001b[1mmedian\u001b[22m\u001b[39m\u001b[90m):     \u001b[39m\u001b[34m\u001b[1m241.737 μs               \u001b[22m\u001b[39m\u001b[90m┊\u001b[39m GC \u001b[90m(\u001b[39mmedian\u001b[90m):    \u001b[39m0.00%\n",
       " Time  \u001b[90m(\u001b[39m\u001b[32m\u001b[1mmean\u001b[22m\u001b[39m ± \u001b[32mσ\u001b[39m\u001b[90m):   \u001b[39m\u001b[32m\u001b[1m368.306 μs\u001b[22m\u001b[39m ± \u001b[32m654.127 μs\u001b[39m  \u001b[90m┊\u001b[39m GC \u001b[90m(\u001b[39mmean ± σ\u001b[90m):  \u001b[39m5.17% ± 4.04%\n",
       "\n",
       "  \u001b[39m█\u001b[34m▅\u001b[39m\u001b[39m▄\u001b[39m▄\u001b[39m▃\u001b[39m▃\u001b[32m▂\u001b[39m\u001b[39m▂\u001b[39m▂\u001b[39m▁\u001b[39m▁\u001b[39m▁\u001b[39m▁\u001b[39m▁\u001b[39m▁\u001b[39m▁\u001b[39m▁\u001b[39m▁\u001b[39m \u001b[39m \u001b[39m \u001b[39m \u001b[39m \u001b[39m \u001b[39m \u001b[39m \u001b[39m \u001b[39m \u001b[39m \u001b[39m \u001b[39m \u001b[39m \u001b[39m \u001b[39m \u001b[39m \u001b[39m \u001b[39m \u001b[39m \u001b[39m \u001b[39m \u001b[39m \u001b[39m \u001b[39m \u001b[39m \u001b[39m \u001b[39m \u001b[39m \u001b[39m \u001b[39m \u001b[39m \u001b[39m \u001b[39m \u001b[39m \u001b[39m \u001b[39m \u001b[39m \u001b[39m \u001b[39m \u001b[39m \u001b[39m \u001b[39m \u001b[39m \u001b[39m▁\n",
       "  \u001b[39m█\u001b[34m█\u001b[39m\u001b[39m█\u001b[39m█\u001b[39m█\u001b[39m█\u001b[32m█\u001b[39m\u001b[39m█\u001b[39m█\u001b[39m█\u001b[39m█\u001b[39m█\u001b[39m█\u001b[39m█\u001b[39m█\u001b[39m█\u001b[39m█\u001b[39m█\u001b[39m█\u001b[39m▇\u001b[39m▇\u001b[39m█\u001b[39m▇\u001b[39m▇\u001b[39m▇\u001b[39m▇\u001b[39m▇\u001b[39m▇\u001b[39m▇\u001b[39m▆\u001b[39m▆\u001b[39m▆\u001b[39m▇\u001b[39m▇\u001b[39m▆\u001b[39m▇\u001b[39m▆\u001b[39m▆\u001b[39m▆\u001b[39m▆\u001b[39m▅\u001b[39m▅\u001b[39m▅\u001b[39m▆\u001b[39m▅\u001b[39m▆\u001b[39m▅\u001b[39m▅\u001b[39m▅\u001b[39m▅\u001b[39m▅\u001b[39m▆\u001b[39m▄\u001b[39m▅\u001b[39m▆\u001b[39m▃\u001b[39m▃\u001b[39m▁\u001b[39m▅\u001b[39m▄\u001b[39m▅\u001b[39m \u001b[39m█\n",
       "  224 μs\u001b[90m        \u001b[39m\u001b[90mHistogram: \u001b[39m\u001b[90m\u001b[1mlog(\u001b[22m\u001b[39m\u001b[90mfrequency\u001b[39m\u001b[90m\u001b[1m)\u001b[22m\u001b[39m\u001b[90m by time\u001b[39m       1.78 ms \u001b[0m\u001b[1m<\u001b[22m\n",
       "\n",
       " Memory estimate\u001b[90m: \u001b[39m\u001b[33m90.25 KiB\u001b[39m, allocs estimate\u001b[90m: \u001b[39m\u001b[33m2163\u001b[39m."
      ]
     },
     "metadata": {},
     "output_type": "display_data"
    }
   ],
   "source": [
    "@benchmark fragmentlines((V, EV))\n"
   ]
  },
  {
   "cell_type": "markdown",
   "id": "89724d70",
   "metadata": {},
   "source": [
    "funzione modificata:"
   ]
  },
  {
   "cell_type": "code",
   "execution_count": 28,
   "id": "2ba90d23",
   "metadata": {},
   "outputs": [
    {
     "data": {
      "text/plain": [
       "BenchmarkTools.Trial: 10000 samples with 1 evaluation.\n",
       " Range \u001b[90m(\u001b[39m\u001b[36m\u001b[1mmin\u001b[22m\u001b[39m … \u001b[35mmax\u001b[39m\u001b[90m):  \u001b[39m\u001b[36m\u001b[1m222.543 μs\u001b[22m\u001b[39m … \u001b[35m 11.776 ms\u001b[39m  \u001b[90m┊\u001b[39m GC \u001b[90m(\u001b[39mmin … max\u001b[90m): \u001b[39m0.00% … 93.09%\n",
       " Time  \u001b[90m(\u001b[39m\u001b[34m\u001b[1mmedian\u001b[22m\u001b[39m\u001b[90m):     \u001b[39m\u001b[34m\u001b[1m232.889 μs               \u001b[22m\u001b[39m\u001b[90m┊\u001b[39m GC \u001b[90m(\u001b[39mmedian\u001b[90m):    \u001b[39m0.00%\n",
       " Time  \u001b[90m(\u001b[39m\u001b[32m\u001b[1mmean\u001b[22m\u001b[39m ± \u001b[32mσ\u001b[39m\u001b[90m):   \u001b[39m\u001b[32m\u001b[1m311.114 μs\u001b[22m\u001b[39m ± \u001b[32m441.766 μs\u001b[39m  \u001b[90m┊\u001b[39m GC \u001b[90m(\u001b[39mmean ± σ\u001b[90m):  \u001b[39m5.38% ±  4.05%\n",
       "\n",
       "  \u001b[39m█\u001b[34m▅\u001b[39m\u001b[39m▃\u001b[39m▃\u001b[39m▂\u001b[32m▂\u001b[39m\u001b[39m▁\u001b[39m▁\u001b[39m▁\u001b[39m▁\u001b[39m▁\u001b[39m \u001b[39m \u001b[39m \u001b[39m \u001b[39m \u001b[39m \u001b[39m \u001b[39m \u001b[39m \u001b[39m \u001b[39m \u001b[39m \u001b[39m \u001b[39m \u001b[39m \u001b[39m \u001b[39m \u001b[39m \u001b[39m \u001b[39m \u001b[39m \u001b[39m \u001b[39m \u001b[39m \u001b[39m \u001b[39m \u001b[39m \u001b[39m \u001b[39m \u001b[39m \u001b[39m \u001b[39m \u001b[39m \u001b[39m \u001b[39m \u001b[39m \u001b[39m \u001b[39m \u001b[39m \u001b[39m \u001b[39m \u001b[39m \u001b[39m \u001b[39m \u001b[39m \u001b[39m \u001b[39m \u001b[39m \u001b[39m \u001b[39m \u001b[39m \u001b[39m▁\n",
       "  \u001b[39m█\u001b[34m█\u001b[39m\u001b[39m█\u001b[39m█\u001b[39m█\u001b[32m█\u001b[39m\u001b[39m█\u001b[39m█\u001b[39m█\u001b[39m█\u001b[39m█\u001b[39m█\u001b[39m█\u001b[39m█\u001b[39m█\u001b[39m▇\u001b[39m▇\u001b[39m▇\u001b[39m▆\u001b[39m▇\u001b[39m▇\u001b[39m▇\u001b[39m▇\u001b[39m▆\u001b[39m▆\u001b[39m▆\u001b[39m▆\u001b[39m▆\u001b[39m▆\u001b[39m▆\u001b[39m▆\u001b[39m▆\u001b[39m▆\u001b[39m▆\u001b[39m▅\u001b[39m▆\u001b[39m▆\u001b[39m▆\u001b[39m▆\u001b[39m▅\u001b[39m▅\u001b[39m▆\u001b[39m▄\u001b[39m▅\u001b[39m▅\u001b[39m▅\u001b[39m▅\u001b[39m▅\u001b[39m▅\u001b[39m▂\u001b[39m▅\u001b[39m▄\u001b[39m▄\u001b[39m▅\u001b[39m▃\u001b[39m▄\u001b[39m▄\u001b[39m▅\u001b[39m▅\u001b[39m▅\u001b[39m▃\u001b[39m \u001b[39m█\n",
       "  223 μs\u001b[90m        \u001b[39m\u001b[90mHistogram: \u001b[39m\u001b[90m\u001b[1mlog(\u001b[22m\u001b[39m\u001b[90mfrequency\u001b[39m\u001b[90m\u001b[1m)\u001b[22m\u001b[39m\u001b[90m by time\u001b[39m       1.27 ms \u001b[0m\u001b[1m<\u001b[22m\n",
       "\n",
       " Memory estimate\u001b[90m: \u001b[39m\u001b[33m92.41 KiB\u001b[39m, allocs estimate\u001b[90m: \u001b[39m\u001b[33m2224\u001b[39m."
      ]
     },
     "metadata": {},
     "output_type": "display_data"
    }
   ],
   "source": [
    "@benchmark fragmentlinesMOD((V, EV))"
   ]
  }
 ],
 "metadata": {
  "kernelspec": {
   "display_name": "Julia 1.7.2",
   "language": "julia",
   "name": "julia-1.7"
  },
  "language_info": {
   "file_extension": ".jl",
   "mimetype": "application/julia",
   "name": "julia",
   "version": "1.7.2"
  }
 },
 "nbformat": 4,
 "nbformat_minor": 5
}
