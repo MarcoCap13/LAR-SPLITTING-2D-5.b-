{
 "cells": [
  {
   "cell_type": "markdown",
   "id": "938a123f",
   "metadata": {},
   "source": [
    "#### **Gruppo 5.b**: Caponi Marco (matricola: 508773) - Ceneda Gianluca (matricola: 488257)"
   ]
  },
  {
   "cell_type": "markdown",
   "id": "4f03816f",
   "metadata": {},
   "source": [
    "# ANALISI E REVISIONE DEL PROGETTO LARSPLITTING 2D "
   ]
  },
  {
   "cell_type": "markdown",
   "id": "bbd19810",
   "metadata": {},
   "source": [
    "## CLASSE REFACTORING: linefragment\n"
   ]
  },
  {
   "cell_type": "markdown",
   "id": "b9488613",
   "metadata": {},
   "source": [
    "Variabili utili per testare il funzionamento\n"
   ]
  },
  {
   "cell_type": "code",
   "execution_count": 6,
   "id": "d88d8e60",
   "metadata": {
    "scrolled": true
   },
   "outputs": [],
   "source": [
    "using LinearAlgebraicRepresentation\n",
    "Lar = LinearAlgebraicRepresentation\n",
    "using IntervalTrees\n",
    "using SparseArrays\n",
    "using NearestNeighbors\n",
    "using DataStructures\n",
    "using OrderedCollections\n",
    "using BenchmarkTools"
   ]
  },
  {
   "cell_type": "code",
   "execution_count": 7,
   "id": "e9c426fc",
   "metadata": {},
   "outputs": [
    {
     "data": {
      "text/plain": [
       "5-element Vector{Vector{Int64}}:\n",
       " [4, 5, 2]\n",
       " [1, 3, 5]\n",
       " [4, 5, 2]\n",
       " [1, 3, 5]\n",
       " [4, 1, 3, 2]"
      ]
     },
     "metadata": {},
     "output_type": "display_data"
    }
   ],
   "source": [
    "V = hcat([[0.,0],[1,0],[1,1],[0,1],[2,1]]...);    #vertici del modello 2D\n",
    "V3 = hcat([[0.,0,0],[1,0,3],[1,1,2],[0,1,1],[2,1,0]]...);   #vertici del modello 3D\n",
    "EV = [[1,2],[2,3],[3,4],[4,1],[1,5]];             #spigoli del modello\n",
    "bb = [[0.0 1.0; 0.0 0.0], [1.0 1.0; 0.0 1.0], [0.0 1.0; 1.0 1.0], [0.0 0.0; 0.0 1.0], [0.0 2.0; 0.0 1.0]];  #bounding box\n",
    "dict = OrderedDict([0.0, 1.0] => [1, 3],[1.0, 1.0] => [2],[0.0, 0.0] => [4],[0.0, 2.0] => [5])  #dizionario intervallo/indice\n",
    "cov = [[4, 1, 3, 5, 2], [1, 3, 5, 2], [4, 1, 3, 5, 2], [4, 1, 3, 5], [4, 1, 3, 5, 2]]    #intersezioni tra bounding box\n",
    "Sigma = spaceindex((V,EV))"
   ]
  },
  {
   "cell_type": "markdown",
   "id": "37050106",
   "metadata": {},
   "source": [
    "## Versione iniziale di linefragment\n",
    "\n",
    "Calcola le sequenze dei parametri ordinati frammentando l’input. Inoltre, i parametri di bordo (0 e 1) sono inclusi nel valore di ritorno dell’output. Il parametro ‘Sigma’ identifica un indice che fornisce un sottoinsieme di linee il cui contenuto interseca il ‘box’ di ciascuna linea di input (identificata dal parametro “EV”)"
   ]
  },
  {
   "cell_type": "code",
   "execution_count": 8,
   "id": "24d60c36",
   "metadata": {},
   "outputs": [
    {
     "data": {
      "text/plain": [
       "linefragments (generic function with 1 method)"
      ]
     },
     "metadata": {},
     "output_type": "display_data"
    }
   ],
   "source": [
    "function linefragments(V,EV,Sigma)\n",
    "\t# remove the double intersections by ordering Sigma\n",
    "\tm = length(Sigma)\n",
    "\tsigma = map(sort,Sigma)\n",
    "\treducedsigma = sigma ##[filter(x->(x > k), sigma[k]) for k=1:m]\n",
    "\t# pairwise parametric intersection\n",
    "\tparams = Array{Float64,1}[[] for i=1:m]\n",
    "\tfor h=1:m\n",
    "\t\tif sigma[h] ≠ []\n",
    "\t\t\tline1 = V[:,EV[h]]\n",
    "\t\t\tfor k in sigma[h]\n",
    "\t\t\t\tline2 = V[:,EV[k]]\n",
    "\t\t\t\tout = Lar.intersection(line1,line2) # TODO: w interval arithmetic\n",
    "\t\t\t\tif out ≠ nothing\n",
    "\t\t\t\t\tα,β = out\n",
    "\t\t\t\t\tif 0<=α<=1 && 0<=β<=1\n",
    "\t\t\t\t\t\tpush!(params[h], α)\n",
    "\t\t\t\t\t\tpush!(params[k], β)\n",
    "\t\t\t\t\tend\n",
    "\t\t\t\tend\n",
    "\t\t\tend\n",
    "\t\tend\n",
    "\tend\n",
    "\t# finalize parameters of fragmented lines\n",
    "\tfragparams = []\n",
    "\tfor line in params\n",
    "\t\tpush!(line, 0.0, 1.0)\n",
    "\t\tline = sort(collect(Set(line)))\n",
    "\t\tpush!(fragparams, line)\n",
    "\tend\n",
    "\treturn fragparams\n",
    "end"
   ]
  },
  {
   "cell_type": "code",
   "execution_count": 22,
   "id": "f1bccd61",
   "metadata": {},
   "outputs": [
    {
     "name": "stdout",
     "output_type": "stream",
     "text": [
      "  76.250 μs (822 allocations: 26.81 KiB)\n"
     ]
    },
    {
     "data": {
      "text/plain": [
       "5-element Vector{Vector{Float64}}:\n",
       " [0.0, 1.0]\n",
       " [0.0, 0.5, 1.0]\n",
       " [0.0, 1.0]\n",
       " [0.0, 1.0]\n",
       " [0.0, 0.5, 1.0]"
      ]
     },
     "metadata": {},
     "output_type": "display_data"
    }
   ],
   "source": [
    "@btime linefragments(V,EV,Sigma)  # 76.250 μs\n"
   ]
  },
  {
   "cell_type": "markdown",
   "id": "fc5cbcb3",
   "metadata": {},
   "source": [
    "la funzione non type unstable in quanto ho nell'output la stringa:\n",
    "\n",
    "Body::Array{Any,1}"
   ]
  },
  {
   "cell_type": "markdown",
   "id": "81f27f59",
   "metadata": {},
   "source": [
    "### versione parallelizzata linefragments\n"
   ]
  },
  {
   "cell_type": "markdown",
   "id": "3cd86aa9",
   "metadata": {},
   "source": [
    "Abbiamo parallelizzato attraverso la macro @threads notando un lieve miglioramento. "
   ]
  },
  {
   "cell_type": "code",
   "execution_count": 11,
   "id": "0c6a7935",
   "metadata": {},
   "outputs": [
    {
     "name": "stdout",
     "output_type": "stream",
     "text": [
      "Numero di threads allocati :1\n"
     ]
    }
   ],
   "source": [
    "using Base.Threads\n",
    "function linefragmentsMOD(V,EV,sigma)\n",
    "    m = length(sigma) \n",
    "    sigma = map(sort,sigma) \n",
    "    params = Array{Array{Float64,1}}(undef,m)\n",
    "    @threads for i=1:m\n",
    "        params[i] = []\n",
    "    end\n",
    "    line1=[0.0 0.0; 0.0 0.0]\n",
    "    line2=[0.0 0.0; 0.0 0.0]\n",
    "    @threads for h=1:m\n",
    "        if sigma[h] ≠ []\n",
    "            line1 = V[:,EV[h]]\n",
    "            @threads for k in sigma[h]\n",
    "            line2 = V[:,EV[k]]\n",
    "                out = intersection(line1,line2) \n",
    "                if out ≠ ()\n",
    "                    if 0<=out[1]<=1 && 0<=out[2]<=1\n",
    "                        push!(params[h], out[1])\n",
    "                        push!(params[k], out[2])\n",
    "                    end\n",
    "                end\n",
    "            end\n",
    "        end\n",
    "        end\n",
    "    len = length(params)\n",
    "    @threads for i=1:len\n",
    "        push!(params[i], 0.0, 1.0)\n",
    "        params[i] = sort(collect(Set(params[i])))\n",
    "    end\n",
    "    return params\n",
    "end\n",
    "print(\"Numero di threads allocati :\")\n",
    "println(nthreads())"
   ]
  },
  {
   "cell_type": "code",
   "execution_count": 20,
   "id": "fb33a528",
   "metadata": {},
   "outputs": [
    {
     "name": "stdout",
     "output_type": "stream",
     "text": [
      "  34.451 μs (800 allocations: 25.34 KiB)\n"
     ]
    },
    {
     "data": {
      "text/plain": [
       "5-element Vector{Any}:\n",
       " [0.0, 1.0]\n",
       " [0.0, 0.5, 1.0]\n",
       " [0.0, 1.0]\n",
       " [0.0, 1.0]\n",
       " [0.0, 0.5, 1.0]"
      ]
     },
     "metadata": {},
     "output_type": "display_data"
    }
   ],
   "source": [
    "@btime linefragmentsMOD(V,EV,Sigma)     #  34.451 μs"
   ]
  },
  {
   "cell_type": "markdown",
   "id": "1c000bc5",
   "metadata": {},
   "source": [
    "## TEST\n"
   ]
  },
  {
   "cell_type": "code",
   "execution_count": 13,
   "id": "e4e90234",
   "metadata": {},
   "outputs": [
    {
     "name": "stdout",
     "output_type": "stream",
     "text": [
      "\u001b[0m\u001b[1mTest Summary:       | \u001b[22m\u001b[32m\u001b[1mPass  \u001b[22m\u001b[39m\u001b[36m\u001b[1mTotal\u001b[22m\u001b[39m\n",
      "linefragments Tests | \u001b[32m   2  \u001b[39m\u001b[36m    2\u001b[39m\n"
     ]
    },
    {
     "data": {
      "text/plain": [
       "Test.DefaultTestSet(\"linefragments Tests\", Any[], 2, false, false)"
      ]
     },
     "metadata": {},
     "output_type": "display_data"
    }
   ],
   "source": [
    "using Test\n",
    "\n",
    "@testset \"linefragments Tests\" begin\n",
    "    V = hcat([[0.,0],[1,0],[1,1],[0,1],[2,1]]...);\n",
    "    EV = [[1,2],[2,3],[3,4],[4,1],[1,5]];\n",
    "    @test Lar.spaceindex((V,EV)) == \n",
    "    [[4, 5, 2], [1, 3, 5], [4, 5, 2], [1, 3, 5], [4, 1, 3, 2]]\n",
    "    Sigma = [[4, 5, 2], [1, 3, 5], [4, 5, 2], [1, 3, 5], [4, 1, 3, 2]]\n",
    "    @test Lar.linefragments(V,EV,Sigma) ==\n",
    "    [[0.0, 1.0], [0.0, 0.5, 1.0], [0.0, 1.0], [0.0, 1.0], [0.0, 0.5, 1.0]]\n",
    "end"
   ]
  },
  {
   "cell_type": "markdown",
   "id": "c959dc7f",
   "metadata": {},
   "source": [
    "![test di linefragment](https://github.com/MarcoCap13/LARSplitting2D/blob/main/docs/test/linefragments_test.png?raw=true)"
   ]
  },
  {
   "cell_type": "markdown",
   "id": "8916a52d",
   "metadata": {},
   "source": [
    "### Benchmark della funzione iniziale e modificata"
   ]
  },
  {
   "cell_type": "markdown",
   "id": "3ed16459",
   "metadata": {},
   "source": [
    "funzione iniziale:"
   ]
  },
  {
   "cell_type": "code",
   "execution_count": 14,
   "id": "0083c653",
   "metadata": {},
   "outputs": [
    {
     "data": {
      "text/plain": [
       "BenchmarkTools.Trial: 10000 samples with 1 evaluation.\n",
       " Range \u001b[90m(\u001b[39m\u001b[36m\u001b[1mmin\u001b[22m\u001b[39m … \u001b[35mmax\u001b[39m\u001b[90m):  \u001b[39m\u001b[36m\u001b[1m34.197 μs\u001b[22m\u001b[39m … \u001b[35m 16.795 ms\u001b[39m  \u001b[90m┊\u001b[39m GC \u001b[90m(\u001b[39mmin … max\u001b[90m): \u001b[39m0.00% … 99.16%\n",
       " Time  \u001b[90m(\u001b[39m\u001b[34m\u001b[1mmedian\u001b[22m\u001b[39m\u001b[90m):     \u001b[39m\u001b[34m\u001b[1m37.307 μs               \u001b[22m\u001b[39m\u001b[90m┊\u001b[39m GC \u001b[90m(\u001b[39mmedian\u001b[90m):    \u001b[39m0.00%\n",
       " Time  \u001b[90m(\u001b[39m\u001b[32m\u001b[1mmean\u001b[22m\u001b[39m ± \u001b[32mσ\u001b[39m\u001b[90m):   \u001b[39m\u001b[32m\u001b[1m70.834 μs\u001b[22m\u001b[39m ± \u001b[32m346.773 μs\u001b[39m  \u001b[90m┊\u001b[39m GC \u001b[90m(\u001b[39mmean ± σ\u001b[90m):  \u001b[39m8.34% ±  2.22%\n",
       "\n",
       "  \u001b[39m█\u001b[34m▄\u001b[39m\u001b[39m▁\u001b[39m \u001b[39m \u001b[39m \u001b[39m▃\u001b[39m▄\u001b[32m▅\u001b[39m\u001b[39m▆\u001b[39m▃\u001b[39m▁\u001b[39m \u001b[39m \u001b[39m \u001b[39m \u001b[39m \u001b[39m \u001b[39m \u001b[39m \u001b[39m \u001b[39m \u001b[39m \u001b[39m \u001b[39m \u001b[39m \u001b[39m \u001b[39m \u001b[39m \u001b[39m \u001b[39m \u001b[39m \u001b[39m \u001b[39m \u001b[39m \u001b[39m \u001b[39m \u001b[39m \u001b[39m \u001b[39m \u001b[39m \u001b[39m \u001b[39m \u001b[39m \u001b[39m \u001b[39m \u001b[39m \u001b[39m \u001b[39m \u001b[39m \u001b[39m \u001b[39m \u001b[39m \u001b[39m \u001b[39m \u001b[39m \u001b[39m \u001b[39m \u001b[39m \u001b[39m \u001b[39m \u001b[39m▁\n",
       "  \u001b[39m█\u001b[34m█\u001b[39m\u001b[39m█\u001b[39m█\u001b[39m▇\u001b[39m█\u001b[39m█\u001b[39m█\u001b[32m█\u001b[39m\u001b[39m█\u001b[39m█\u001b[39m█\u001b[39m█\u001b[39m█\u001b[39m▇\u001b[39m█\u001b[39m▇\u001b[39m▆\u001b[39m▇\u001b[39m▆\u001b[39m▆\u001b[39m▆\u001b[39m▆\u001b[39m▅\u001b[39m▅\u001b[39m▅\u001b[39m▆\u001b[39m▅\u001b[39m▅\u001b[39m▅\u001b[39m▅\u001b[39m▄\u001b[39m▄\u001b[39m▅\u001b[39m▄\u001b[39m▄\u001b[39m▅\u001b[39m▅\u001b[39m▆\u001b[39m▃\u001b[39m▅\u001b[39m▃\u001b[39m▄\u001b[39m▃\u001b[39m▁\u001b[39m▄\u001b[39m▁\u001b[39m▄\u001b[39m▃\u001b[39m▁\u001b[39m▃\u001b[39m▃\u001b[39m▄\u001b[39m▁\u001b[39m▄\u001b[39m▁\u001b[39m▃\u001b[39m▄\u001b[39m▄\u001b[39m▅\u001b[39m \u001b[39m█\n",
       "  34.2 μs\u001b[90m       \u001b[39m\u001b[90mHistogram: \u001b[39m\u001b[90m\u001b[1mlog(\u001b[22m\u001b[39m\u001b[90mfrequency\u001b[39m\u001b[90m\u001b[1m)\u001b[22m\u001b[39m\u001b[90m by time\u001b[39m       308 μs \u001b[0m\u001b[1m<\u001b[22m\n",
       "\n",
       " Memory estimate\u001b[90m: \u001b[39m\u001b[33m25.34 KiB\u001b[39m, allocs estimate\u001b[90m: \u001b[39m\u001b[33m800\u001b[39m."
      ]
     },
     "metadata": {},
     "output_type": "display_data"
    }
   ],
   "source": [
    "@benchmark linefragments(V,EV,Sigma) "
   ]
  },
  {
   "cell_type": "markdown",
   "id": "89724d70",
   "metadata": {},
   "source": [
    "funzione modificata:"
   ]
  },
  {
   "cell_type": "code",
   "execution_count": 15,
   "id": "2ba90d23",
   "metadata": {},
   "outputs": [
    {
     "data": {
      "text/plain": [
       "BenchmarkTools.Trial: 10000 samples with 1 evaluation.\n",
       " Range \u001b[90m(\u001b[39m\u001b[36m\u001b[1mmin\u001b[22m\u001b[39m … \u001b[35mmax\u001b[39m\u001b[90m):  \u001b[39m\u001b[36m\u001b[1m77.741 μs\u001b[22m\u001b[39m … \u001b[35m  8.990 ms\u001b[39m  \u001b[90m┊\u001b[39m GC \u001b[90m(\u001b[39mmin … max\u001b[90m): \u001b[39m0.00% … 98.33%\n",
       " Time  \u001b[90m(\u001b[39m\u001b[34m\u001b[1mmedian\u001b[22m\u001b[39m\u001b[90m):     \u001b[39m\u001b[34m\u001b[1m80.260 μs               \u001b[22m\u001b[39m\u001b[90m┊\u001b[39m GC \u001b[90m(\u001b[39mmedian\u001b[90m):    \u001b[39m0.00%\n",
       " Time  \u001b[90m(\u001b[39m\u001b[32m\u001b[1mmean\u001b[22m\u001b[39m ± \u001b[32mσ\u001b[39m\u001b[90m):   \u001b[39m\u001b[32m\u001b[1m97.045 μs\u001b[22m\u001b[39m ± \u001b[32m166.490 μs\u001b[39m  \u001b[90m┊\u001b[39m GC \u001b[90m(\u001b[39mmean ± σ\u001b[90m):  \u001b[39m3.62% ±  2.19%\n",
       "\n",
       "  \u001b[39m█\u001b[34m▅\u001b[39m\u001b[39m▃\u001b[39m▁\u001b[39m \u001b[32m \u001b[39m\u001b[39m \u001b[39m \u001b[39m \u001b[39m \u001b[39m \u001b[39m \u001b[39m \u001b[39m \u001b[39m \u001b[39m \u001b[39m \u001b[39m \u001b[39m \u001b[39m \u001b[39m \u001b[39m \u001b[39m \u001b[39m \u001b[39m \u001b[39m \u001b[39m \u001b[39m \u001b[39m \u001b[39m \u001b[39m \u001b[39m \u001b[39m \u001b[39m \u001b[39m \u001b[39m \u001b[39m \u001b[39m \u001b[39m \u001b[39m \u001b[39m \u001b[39m \u001b[39m \u001b[39m \u001b[39m \u001b[39m \u001b[39m \u001b[39m \u001b[39m \u001b[39m \u001b[39m \u001b[39m \u001b[39m \u001b[39m \u001b[39m \u001b[39m \u001b[39m \u001b[39m \u001b[39m \u001b[39m \u001b[39m \u001b[39m▁\n",
       "  \u001b[39m█\u001b[34m█\u001b[39m\u001b[39m█\u001b[39m█\u001b[39m█\u001b[32m█\u001b[39m\u001b[39m▇\u001b[39m█\u001b[39m▇\u001b[39m▇\u001b[39m▇\u001b[39m▇\u001b[39m█\u001b[39m▇\u001b[39m▇\u001b[39m▇\u001b[39m▇\u001b[39m▇\u001b[39m█\u001b[39m▇\u001b[39m█\u001b[39m█\u001b[39m▇\u001b[39m█\u001b[39m▇\u001b[39m▇\u001b[39m▆\u001b[39m▇\u001b[39m▆\u001b[39m▇\u001b[39m▆\u001b[39m▆\u001b[39m▅\u001b[39m▆\u001b[39m▆\u001b[39m▅\u001b[39m▅\u001b[39m▅\u001b[39m▅\u001b[39m▅\u001b[39m▅\u001b[39m▅\u001b[39m▄\u001b[39m▄\u001b[39m▅\u001b[39m▄\u001b[39m▅\u001b[39m▃\u001b[39m▃\u001b[39m▄\u001b[39m▄\u001b[39m▅\u001b[39m▄\u001b[39m▄\u001b[39m▃\u001b[39m▅\u001b[39m▃\u001b[39m▂\u001b[39m▂\u001b[39m▄\u001b[39m \u001b[39m█\n",
       "  77.7 μs\u001b[90m       \u001b[39m\u001b[90mHistogram: \u001b[39m\u001b[90m\u001b[1mlog(\u001b[22m\u001b[39m\u001b[90mfrequency\u001b[39m\u001b[90m\u001b[1m)\u001b[22m\u001b[39m\u001b[90m by time\u001b[39m       300 μs \u001b[0m\u001b[1m<\u001b[22m\n",
       "\n",
       " Memory estimate\u001b[90m: \u001b[39m\u001b[33m26.81 KiB\u001b[39m, allocs estimate\u001b[90m: \u001b[39m\u001b[33m822\u001b[39m."
      ]
     },
     "metadata": {},
     "output_type": "display_data"
    }
   ],
   "source": [
    "@benchmark linefragmentsMOD(V,EV,Sigma) "
   ]
  },
  {
   "cell_type": "markdown",
   "id": "2d9a77af",
   "metadata": {},
   "source": [
    "### Funzioni di supporto aggiuntive"
   ]
  },
  {
   "cell_type": "code",
   "execution_count": 16,
   "id": "f5a7f766",
   "metadata": {},
   "outputs": [
    {
     "data": {
      "text/plain": [
       "spaceindex (generic function with 1 method)"
      ]
     },
     "metadata": {},
     "output_type": "display_data"
    }
   ],
   "source": [
    "function intersection(line1,line2)\n",
    "    x1,y1,x2,y2 = vcat(line1...)\n",
    "    x3,y3,x4,y4 = vcat(line2...)\n",
    "\n",
    "    det = (x4-x3)*(y1-y2)-(x1-x2)*(y4-y3)\n",
    "    if det != 0.0\n",
    "        a = 1/det\n",
    "        b = [y1-y2 x2-x1; y3-y4 x4-x3]  # x1-x2 => x2-x1 bug in the source link !!\n",
    "        c = [x1-x3; y1-y3]\n",
    "        (β,α) = a * b * c\n",
    "    else\n",
    "        return ()\n",
    "    end\n",
    "    return α,β\n",
    "end\n",
    "\n",
    "function boundingbox(vertices::Lar.Points)\n",
    "    minimum = mapslices(x->min(x...), vertices, dims=2)\n",
    "    maximum = mapslices(x->max(x...), vertices, dims=2)\n",
    "    return minimum, maximum\n",
    " end\n",
    " \n",
    " function coordintervals(coord,bboxes)\n",
    "     boxdict = OrderedDict{Array{Float64,1},Array{Int64,1}}()\n",
    "     for (h,box) in enumerate(bboxes)\n",
    "         key = box[coord,:]\n",
    "         if haskey(boxdict,key) == false\n",
    "             boxdict[key] = [h]\n",
    "         else\n",
    "             push!(boxdict[key], h)\n",
    "         end\n",
    "     end\n",
    "     return boxdict\n",
    " end\n",
    " \n",
    " function boxcovering(bboxes, index, tree)\n",
    "     covers = [[] for k=1:length(bboxes)]\n",
    "     for (i,boundingbox) in enumerate(bboxes)\n",
    "         extent = bboxes[i][index,:]\n",
    "         iterator = IntervalTrees.intersect(tree, tuple(extent...))\n",
    "         for x in iterator\n",
    "             append!(covers[i],x.value)\n",
    "         end\n",
    "     end\n",
    "     return covers\n",
    " end\n",
    " \n",
    " function spaceindex(model::Lar.LAR)::Array{Array{Int,1},1}\n",
    "            V,CV = model[1:2]\n",
    "            # se il modello è in 3d o 2d (guardo le righe di V, in 3d V è una 3xN, in 2d V è una 2xN)\n",
    "            dim = size(V,1)\n",
    "            cellpoints = [ V[:,CV[k]]::Lar.Points for k=1:length(CV) ]\n",
    "            #----------------------------------------------------------\n",
    "            bboxes = [hcat(boundingbox(cell)...) for cell in cellpoints]\n",
    "            xboxdict = coordintervals(1,bboxes)\n",
    "            yboxdict = coordintervals(2,bboxes)\n",
    "            # xs,ys are IntervalTree type\n",
    "            xs = IntervalTrees.IntervalMap{Float64, Array}()\n",
    "            for (key,boxset) in xboxdict\n",
    "                xs[tuple(key...)] = boxset\n",
    "            end\n",
    "            ys = IntervalTrees.IntervalMap{Float64, Array}()\n",
    "            for (key,boxset) in yboxdict\n",
    "                ys[tuple(key...)] = boxset\n",
    "            end\n",
    "            xcovers = boxcovering(bboxes, 1, xs)\n",
    "            ycovers = boxcovering(bboxes, 2, ys)\n",
    "            covers = [intersect(pair...) for pair in zip(xcovers,ycovers)]\n",
    " \n",
    "            if dim == 3\n",
    "                zboxdict = coordintervals(3,bboxes)\n",
    "                zs = IntervalTrees.IntervalMap{Float64, Array}()\n",
    "                for (key,boxset) in zboxdict\n",
    "                    zs[tuple(key...)] = boxset\n",
    "                end\n",
    "                zcovers = boxcovering(bboxes, 3, zs)\n",
    "                covers = [intersect(pair...) for pair in zip(zcovers,covers)]\n",
    "            end\n",
    "            # remove each cell from its cover\n",
    "            for k=1:length(covers)\n",
    "                covers[k] = setdiff(covers[k],[k])\n",
    "            end\n",
    "            return covers\n",
    "        end\n",
    "\n"
   ]
  }
 ],
 "metadata": {
  "kernelspec": {
   "display_name": "Julia 1.7.2",
   "language": "julia",
   "name": "julia-1.7"
  },
  "language_info": {
   "file_extension": ".jl",
   "mimetype": "application/julia",
   "name": "julia",
   "version": "1.7.2"
  }
 },
 "nbformat": 4,
 "nbformat_minor": 5
}
