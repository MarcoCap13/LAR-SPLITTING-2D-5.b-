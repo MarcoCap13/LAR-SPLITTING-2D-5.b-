{
 "cells": [
  {
   "cell_type": "markdown",
   "id": "4f03816f",
   "metadata": {},
   "source": [
    "# ANALISI E REVISIONE DEL PROGETTO LARSPLITTING 2D "
   ]
  },
  {
   "cell_type": "markdown",
   "id": "bbd19810",
   "metadata": {},
   "source": [
    "## CLASSE REFACTORING"
   ]
  },
  {
   "cell_type": "markdown",
   "id": "b9488613",
   "metadata": {},
   "source": [
    "Variabili utili per testare il funzionamento\n"
   ]
  },
  {
   "cell_type": "code",
   "execution_count": 6,
   "id": "d88d8e60",
   "metadata": {
    "scrolled": true
   },
   "outputs": [],
   "source": [
    "using LinearAlgebraicRepresentation\n",
    "Lar = LinearAlgebraicRepresentation\n",
    "using IntervalTrees\n",
    "using SparseArrays\n",
    "using NearestNeighbors\n",
    "using BenchmarkTools\n",
    "using OrderedCollections\n",
    "using Base.Threads\n"
   ]
  },
  {
   "cell_type": "code",
   "execution_count": 7,
   "id": "d9c77ed8",
   "metadata": {},
   "outputs": [
    {
     "data": {
      "text/plain": [
       "5-element Vector{Vector{Int64}}:\n",
       " [4, 1, 3, 5, 2]\n",
       " [1, 3, 5, 2]\n",
       " [4, 1, 3, 5, 2]\n",
       " [4, 1, 3, 5]\n",
       " [4, 1, 3, 5, 2]"
      ]
     },
     "metadata": {},
     "output_type": "display_data"
    }
   ],
   "source": [
    "V = hcat([[0.,0],[1,0],[1,1],[0,1],[2,1]]...);    #vertici del modello 2D\n",
    "V3 = hcat([[0.,0,0],[1,0,3],[1,1,2],[0,1,1],[2,1,0]]...);   #vertici del modello 3D\n",
    "EV = [[1,2],[2,3],[3,4],[4,1],[1,5]];             #spigoli del modello\n",
    "bb = [[0.0 1.0; 0.0 0.0], [1.0 1.0; 0.0 1.0], [0.0 1.0; 1.0 1.0], [0.0 0.0; 0.0 1.0], [0.0 2.0; 0.0 1.0]];  #bounding box\n",
    "dict = OrderedDict([0.0, 1.0] => [1, 3],[1.0, 1.0] => [2],[0.0, 0.0] => [4],[0.0, 2.0] => [5])  #dizionario intervallo/indice\n",
    "cov = [[4, 1, 3, 5, 2], [1, 3, 5, 2], [4, 1, 3, 5, 2], [4, 1, 3, 5], [4, 1, 3, 5, 2]]    #intersezioni tra bounding box"
   ]
  },
  {
   "cell_type": "code",
   "execution_count": 21,
   "id": "987abf09",
   "metadata": {},
   "outputs": [
    {
     "data": {
      "text/plain": [
       "crossingTest (generic function with 1 method)"
      ]
     },
     "metadata": {},
     "output_type": "display_data"
    }
   ],
   "source": [
    "function crossingTest(new::Int, old::Int, count::T, status::Int)::Number where T <: Real\n",
    "    if status == 0\n",
    "        status = new\n",
    "        count += 0.5\n",
    "    else\n",
    "        if status == old\n",
    "        \tcount += 0.5\n",
    "        else\n",
    "        \tcount -= 0.5\n",
    "        end\n",
    "        status = 0\n",
    "    end\n",
    "end\n"
   ]
  },
  {
   "cell_type": "code",
   "execution_count": 4,
   "id": "0f4a1b32",
   "metadata": {},
   "outputs": [
    {
     "name": "stdout",
     "output_type": "stream",
     "text": [
      "  0.041 ns (0 allocations: 0 bytes)\n"
     ]
    },
    {
     "data": {
      "text/plain": [
       "1.0"
      ]
     },
     "metadata": {},
     "output_type": "display_data"
    }
   ],
   "source": [
    "@btime crossingTest(0, 0, 0.5, 0)   #0,041 μs\n"
   ]
  },
  {
   "cell_type": "code",
   "execution_count": 20,
   "id": "ea66d277",
   "metadata": {},
   "outputs": [
    {
     "data": {
      "text/plain": [
       "setTile (generic function with 1 method)"
      ]
     },
     "metadata": {},
     "output_type": "display_data"
    }
   ],
   "source": [
    "function setTile(box)\n",
    "\ttiles = [[9,1,5],[8,0,4],[10,2,6]]\n",
    "\tb1,b2,b3,b4 = box\n",
    "\tfunction tileCode(point)\n",
    "\t\tx,y = point\n",
    "\t\tcode = 0\n",
    "        if y>b1 code=code|1 end\n",
    "\t\tif y<b2 code=code|2 end\n",
    "\t\tif x>b3 code=code|4 end\n",
    "\t\tif x<b4 code=code|8 end\n",
    "\t\treturn code\n",
    "\tend\n",
    "\treturn tileCode\n",
    "end"
   ]
  },
  {
   "cell_type": "code",
   "execution_count": 6,
   "id": "4e57baae",
   "metadata": {},
   "outputs": [
    {
     "name": "stdout",
     "output_type": "stream",
     "text": [
      "  197.120 ns (5 allocations: 416 bytes)\n"
     ]
    },
    {
     "data": {
      "text/plain": [
       "(::var\"#tileCode#9\"{Float64, Float64, Float64, Float64}) (generic function with 1 method)"
      ]
     },
     "metadata": {},
     "output_type": "display_data"
    }
   ],
   "source": [
    "@btime setTile([0., 0., 0., 0.])   #197,120 μs"
   ]
  },
  {
   "cell_type": "markdown",
   "id": "a9e63274",
   "metadata": {},
   "source": [
    "## Versione iniziale di pointInPolygonClassification"
   ]
  },
  {
   "cell_type": "code",
   "execution_count": 8,
   "id": "e180ac14",
   "metadata": {},
   "outputs": [
    {
     "data": {
      "text/plain": [
       "pointInPolygonClassification (generic function with 1 method)"
      ]
     },
     "metadata": {},
     "output_type": "display_data"
    }
   ],
   "source": [
    "function pointInPolygonClassification(V,EV)\n",
    "    function pointInPolygonClassification0(pnt)\n",
    "        x,y = pnt\n",
    "        xmin,xmax,ymin,ymax = x,x,y,y\n",
    "        tilecode = setTile([ymax,ymin,xmax,xmin])\n",
    "        count,status = 0,0\n",
    "\n",
    "        for (k,edge) in enumerate(EV)\n",
    "            p1,p2 = V[:,edge[1]],V[:,edge[2]]\n",
    "            (x1,y1),(x2,y2) = p1,p2\n",
    "            c1,c2 = tilecode(p1),tilecode(p2)\n",
    "            c_edge, c_un, c_int = c1⊻c2, c1|c2, c1&c2\n",
    "\n",
    "            if (c_edge == 0) & (c_un == 0) return \"p_on\"\n",
    "            elseif (c_edge == 12) & (c_un == c_edge) return \"p_on\"\n",
    "            elseif c_edge == 3\n",
    "                if c_int == 0 return \"p_on\"\n",
    "                elseif c_int == 4 count += 1 end\n",
    "            elseif c_edge == 15\n",
    "                x_int = ((y-y2)*(x1-x2)/(y1-y2))+x2\n",
    "                if x_int > x count += 1\n",
    "                elseif x_int == x return \"p_on\" end\n",
    "            elseif (c_edge == 13) & ((c1==4) | (c2==4))\n",
    "                    crossingTest(1,2,status,count)\n",
    "            elseif (c_edge == 14) & ((c1==4) | (c2==4))\n",
    "                    crossingTest(2,1,status,count)\n",
    "            elseif c_edge == 7 count += 1\n",
    "            elseif c_edge == 11 count = count\n",
    "            elseif c_edge == 1\n",
    "                if c_int == 0 return \"p_on\"\n",
    "                elseif c_int == 4 crossingTest(1,2,status,count) end\n",
    "            elseif c_edge == 2\n",
    "                if c_int == 0 return \"p_on\"\n",
    "                elseif c_int == 4 crossingTest(2,1,status,count) end\n",
    "            elseif (c_edge == 4) & (c_un == c_edge) return \"p_on\"\n",
    "            elseif (c_edge == 8) & (c_un == c_edge) return \"p_on\"\n",
    "            elseif c_edge == 5\n",
    "                if (c1==0) | (c2==0) return \"p_on\"\n",
    "                else crossingTest(1,2,status,count) end\n",
    "            elseif c_edge == 6\n",
    "                if (c1==0) | (c2==0) return \"p_on\"\n",
    "                else crossingTest(2,1,status,count) end\n",
    "            elseif (c_edge == 9) & ((c1==0) | (c2==0)) return \"p_on\"\n",
    "            elseif (c_edge == 10) & ((c1==0) | (c2==0)) return \"p_on\"\n",
    "            end\n",
    "        end\n",
    "        if (round(count)%2)==1\n",
    "        \treturn \"p_in\"\n",
    "        else\n",
    "        \treturn \"p_out\"\n",
    "        end\n",
    "    end\n",
    "    return pointInPolygonClassification0\n",
    "end"
   ]
  },
  {
   "cell_type": "code",
   "execution_count": 9,
   "id": "cc2e9700",
   "metadata": {},
   "outputs": [
    {
     "name": "stdout",
     "output_type": "stream",
     "text": [
      "  119.650 ns (1 allocation: 32 bytes)\n"
     ]
    },
    {
     "data": {
      "text/plain": [
       "(::var\"#pointInPolygonClassification0#11\"{Matrix{Float64}, Vector{Vector{Int64}}}) (generic function with 1 method)"
      ]
     },
     "metadata": {},
     "output_type": "display_data"
    }
   ],
   "source": [
    "@btime pointInPolygonClassification(V, EV)   #120,546 μs"
   ]
  },
  {
   "cell_type": "markdown",
   "id": "8a9bd74c",
   "metadata": {},
   "source": [
    "## Versione ottimizzata di pointInPolygonClassification"
   ]
  },
  {
   "cell_type": "code",
   "execution_count": 10,
   "id": "889589cf",
   "metadata": {},
   "outputs": [
    {
     "data": {
      "text/plain": [
       "edgecode1 (generic function with 1 method)"
      ]
     },
     "metadata": {},
     "output_type": "display_data"
    }
   ],
   "source": [
    "function edgecode1(c_int) #c_edge == 1\n",
    "    if c_int == 0 return \"p_on\"\n",
    "    elseif c_int == 4 crossingTest(1,2,status, counter) end \n",
    "end "
   ]
  },
  {
   "cell_type": "code",
   "execution_count": 11,
   "id": "5ae903d9",
   "metadata": {},
   "outputs": [
    {
     "data": {
      "text/plain": [
       "edgecode2 (generic function with 1 method)"
      ]
     },
     "metadata": {},
     "output_type": "display_data"
    }
   ],
   "source": [
    "function edgecode2(c_int) #c_edge == 2\n",
    "    if c_int == 0 return \"p_on\"\n",
    "    elseif c_int == 4 crossingTest(2,1,status, counter) end \n",
    "end "
   ]
  },
  {
   "cell_type": "code",
   "execution_count": 12,
   "id": "4cbeadd8",
   "metadata": {},
   "outputs": [
    {
     "data": {
      "text/plain": [
       "edgecode3 (generic function with 1 method)"
      ]
     },
     "metadata": {},
     "output_type": "display_data"
    }
   ],
   "source": [
    "function edgecode3(c_int) #c_edge == 3\n",
    "    if c_int == 0 return \"p_on\"\n",
    "    elseif c_int == 4 counter += 1 end \n",
    "end "
   ]
  },
  {
   "cell_type": "code",
   "execution_count": 13,
   "id": "f8d767ab",
   "metadata": {},
   "outputs": [
    {
     "data": {
      "text/plain": [
       "edgecode4 (generic function with 1 method)"
      ]
     },
     "metadata": {},
     "output_type": "display_data"
    }
   ],
   "source": [
    "function edgecode4(c_un) #c_edge == 4\n",
    "    if c_un == 3 return \"p_on\" end \n",
    "end "
   ]
  },
  {
   "cell_type": "code",
   "execution_count": 14,
   "id": "296c86a9",
   "metadata": {},
   "outputs": [
    {
     "data": {
      "text/plain": [
       "edgecode5 (generic function with 1 method)"
      ]
     },
     "metadata": {},
     "output_type": "display_data"
    }
   ],
   "source": [
    "function edgecode5(c1,c2) #c_edge == 5\n",
    "    if (c1==0) | (c2==0) return \"p_on\"\n",
    "    else crossingTest(1,2,status, counter) end \n",
    "end "
   ]
  },
  {
   "cell_type": "code",
   "execution_count": 15,
   "id": "5d573953",
   "metadata": {},
   "outputs": [
    {
     "data": {
      "text/plain": [
       "edgecode6 (generic function with 1 method)"
      ]
     },
     "metadata": {},
     "output_type": "display_data"
    }
   ],
   "source": [
    "function edgecode6(c1,c2) #c_edge == 6\n",
    "    if ((c1==0) | (c2==0)) return \"p_on\"\n",
    "    else crossingTest(2,1,status, counter) end \n",
    "end "
   ]
  },
  {
   "cell_type": "code",
   "execution_count": 16,
   "id": "bfd539a5",
   "metadata": {},
   "outputs": [
    {
     "data": {
      "text/plain": [
       "edgecode7 (generic function with 1 method)"
      ]
     },
     "metadata": {},
     "output_type": "display_data"
    }
   ],
   "source": [
    "function edgecode7(counter) #c_edge == 7\n",
    "    counter += 1\n",
    "end"
   ]
  },
  {
   "cell_type": "code",
   "execution_count": 17,
   "id": "d626ed09",
   "metadata": {},
   "outputs": [
    {
     "data": {
      "text/plain": [
       "edgecode8 (generic function with 1 method)"
      ]
     },
     "metadata": {},
     "output_type": "display_data"
    }
   ],
   "source": [
    "function edgecode8(c_un) #c_edge == 8 (c_un == 6 su slide)\n",
    "    if (c_un == 8) return \"p_on\" end   \n",
    "end"
   ]
  },
  {
   "cell_type": "code",
   "execution_count": 18,
   "id": "87328c9c",
   "metadata": {},
   "outputs": [
    {
     "data": {
      "text/plain": [
       "edgecode9_10 (generic function with 1 method)"
      ]
     },
     "metadata": {},
     "output_type": "display_data"
    }
   ],
   "source": [
    "function edgecode9_10(c1,c2) #c_edge == 9/10\n",
    "    if ((c1 ==0) | (c2==0)) return \"p_on\" end\n",
    "end"
   ]
  },
  {
   "cell_type": "code",
   "execution_count": 19,
   "id": "fdf6f923",
   "metadata": {},
   "outputs": [
    {
     "data": {
      "text/plain": [
       "edgecode11 (generic function with 1 method)"
      ]
     },
     "metadata": {},
     "output_type": "display_data"
    }
   ],
   "source": [
    "function edgecode11() #c_edge == 11\n",
    "end"
   ]
  },
  {
   "cell_type": "code",
   "execution_count": 20,
   "id": "c629c390",
   "metadata": {},
   "outputs": [
    {
     "data": {
      "text/plain": [
       "edgecode12 (generic function with 1 method)"
      ]
     },
     "metadata": {},
     "output_type": "display_data"
    }
   ],
   "source": [
    "function edgecode12(c_un) #c_edge = 12\n",
    "    if (c_un == 12 ) return \"p_on\" end    \n",
    "end"
   ]
  },
  {
   "cell_type": "code",
   "execution_count": 21,
   "id": "7a2567f8",
   "metadata": {},
   "outputs": [
    {
     "data": {
      "text/plain": [
       "edgecode13 (generic function with 1 method)"
      ]
     },
     "metadata": {},
     "output_type": "display_data"
    }
   ],
   "source": [
    "function edgecode13(c1,c2) #c_edge = 13\n",
    "    if (( c1 ==4) | (c2 == 4))\n",
    "        crossingTest(1,2,status, counter) end\n",
    "end"
   ]
  },
  {
   "cell_type": "code",
   "execution_count": 22,
   "id": "0b989c50",
   "metadata": {},
   "outputs": [
    {
     "data": {
      "text/plain": [
       "edgecode14 (generic function with 1 method)"
      ]
     },
     "metadata": {},
     "output_type": "display_data"
    }
   ],
   "source": [
    "function edgecode14(c1,c2) #c_edge = 14\n",
    "    if (( c1 ==4) | (c2 == 4))\n",
    "        crossingTest(2,1,status, counter) end\n",
    "end"
   ]
  },
  {
   "cell_type": "code",
   "execution_count": 23,
   "id": "518d49b4",
   "metadata": {},
   "outputs": [
    {
     "data": {
      "text/plain": [
       "edgecode15 (generic function with 1 method)"
      ]
     },
     "metadata": {},
     "output_type": "display_data"
    }
   ],
   "source": [
    "function edgecode15(x1,x2,y1,y2,x,y)\n",
    "    x_int = ((y-y2)*(x1-x2)/(y1-y2))+x2\n",
    "    if x_int > x counter+=1\n",
    "    elseif (x_int == x) return \"p_on\" end\n",
    "end"
   ]
  },
  {
   "cell_type": "markdown",
   "id": "1237d159",
   "metadata": {},
   "source": [
    "## Versione pointInPolygonClassificationMOD con funzioni separate"
   ]
  },
  {
   "cell_type": "code",
   "execution_count": 19,
   "id": "25732532",
   "metadata": {},
   "outputs": [
    {
     "data": {
      "text/plain": [
       "pointInPolygonClassificationMOD (generic function with 1 method)"
      ]
     },
     "metadata": {},
     "output_type": "display_data"
    }
   ],
   "source": [
    "function pointInPolygonClassificationMOD(V,EV) \n",
    "    function pointInPolygonClassification0(pnt)\n",
    "        x,y = pnt\n",
    "        xmin,xmax,ymin,ymax = x,x,y,y\n",
    "        tilecode = setTile([ymax,ymin,xmax,xmin])\n",
    "        count,status = 0,0\n",
    "\n",
    "        for (k,edge) in enumerate(EV)\n",
    "            p1,p2 = V[:,edge[1]],V[:,edge[2]]\n",
    "            (x1,y1),(x2,y2) = p1,p2\n",
    "            c1,c2 = tilecode(p1),tilecode(p2)\n",
    "            c_edge, c_un, c_int = c1⊻c2, c1|c2, c1&c2\n",
    "\n",
    "            if (c_edge == 0) & (c_un == 0) return \"p_on\"\n",
    "            elseif (c_edge == 12) & (c_un == c_edge) return \"p_on\"\n",
    "            elseif c_edge == 3\n",
    "                edgecode3(c_int)\n",
    "            elseif c_edge == 15\n",
    "               edgecode15(x1,x2,y1,y2,x,y)\n",
    "            elseif (c_edge == 13) & ((c1==4) | (c2==4))\n",
    "                    crossingTest(1,2,status,count)\n",
    "            elseif (c_edge == 14) & ((c1==4) | (c2==4))\n",
    "                    crossingTest(2,1,status,count)\n",
    "            elseif c_edge == 7 edgecode7(counter)\n",
    "            elseif c_edge == 11 count = count\n",
    "            elseif c_edge == 1\n",
    "               edgecode1(c_int)\n",
    "            elseif c_edge == 2\n",
    "                edgecode2(c_int)\n",
    "            elseif (c_edge == 4) & (c_un == c_edge) return \"p_on\"\n",
    "            elseif (c_edge == 8) & (c_un == c_edge) return \"p_on\"\n",
    "            elseif c_edge == 5\n",
    "                edgecode5(c1,c2)\n",
    "            elseif c_edge == 6\n",
    "                edgecode6(c1,c2)\n",
    "            elseif (c_edge == 9) & ((c1==0) | (c2==0)) return \"p_on\"\n",
    "            elseif (c_edge == 10) & ((c1==0) | (c2==0)) return \"p_on\"\n",
    "            end\n",
    "        end\n",
    "        if (round(count)%2)==1\n",
    "        \treturn \"p_in\"\n",
    "        else\n",
    "        \treturn \"p_out\"\n",
    "        end\n",
    "    end\n",
    "    return pointInPolygonClassification0\n",
    "end"
   ]
  },
  {
   "cell_type": "code",
   "execution_count": 25,
   "id": "c642e906",
   "metadata": {},
   "outputs": [
    {
     "name": "stdout",
     "output_type": "stream",
     "text": [
      "  119.658 ns (1 allocation: 32 bytes)\n"
     ]
    },
    {
     "data": {
      "text/plain": [
       "(::var\"#pointInPolygonClassification0#12\"{Matrix{Float64}, Vector{Vector{Int64}}}) (generic function with 1 method)"
      ]
     },
     "metadata": {},
     "output_type": "display_data"
    }
   ],
   "source": [
    "@btime pointInPolygonClassificationMOD(V,EV)  #119,540 μs"
   ]
  },
  {
   "cell_type": "markdown",
   "id": "37050106",
   "metadata": {},
   "source": [
    "## Versione iniziale di boundingbox\n",
    "\n",
    "La funzione boundingbox serve a creare il bounding Box di una cella, cioè la scatola di misura più piccola (area, volume, ipervolume) entro cui sono contenuti tutti i punti."
   ]
  },
  {
   "cell_type": "code",
   "execution_count": 12,
   "id": "24d60c36",
   "metadata": {},
   "outputs": [
    {
     "data": {
      "text/plain": [
       "boundingbox (generic function with 1 method)"
      ]
     },
     "metadata": {},
     "output_type": "display_data"
    }
   ],
   "source": [
    "function boundingbox(vertices::Lar.Points)\n",
    "   minimum = mapslices(x->min(x...), vertices, dims=2)\n",
    "   maximum = mapslices(x->max(x...), vertices, dims=2)\n",
    "   return minimum, maximum\n",
    "end"
   ]
  },
  {
   "cell_type": "code",
   "execution_count": 27,
   "id": "f1bccd61",
   "metadata": {},
   "outputs": [
    {
     "name": "stdout",
     "output_type": "stream",
     "text": [
      "  15.190 μs (147 allocations: 5.03 KiB)\n"
     ]
    },
    {
     "data": {
      "text/plain": [
       "([0.0; 0.0;;], [2.0; 1.0;;])"
      ]
     },
     "metadata": {},
     "output_type": "display_data"
    }
   ],
   "source": [
    "@btime boundingbox(V)   #14,076 μs"
   ]
  },
  {
   "cell_type": "markdown",
   "id": "81f27f59",
   "metadata": {},
   "source": [
    "### versione modificata boundingbox"
   ]
  },
  {
   "cell_type": "code",
   "execution_count": 18,
   "id": "0c6a7935",
   "metadata": {},
   "outputs": [
    {
     "data": {
      "text/plain": [
       "boundingboxMOD (generic function with 1 method)"
      ]
     },
     "metadata": {},
     "output_type": "display_data"
    }
   ],
   "source": [
    "function boundingboxMOD(vertices::Lar.Points)\n",
    "    firstDim = vertices[1,:]\n",
    "    secondDim = vertices[2,:]\n",
    "    if (size(vertices,1)==3)\n",
    "        thirdDim = vertices[3,:]\n",
    "         minimum = Threads.@spawn hcat([min(firstDim...), min(secondDim...), min(thirdDim...)])\n",
    "         maximum = Threads.@spawn hcat([max(firstDim...), max(secondDim...), max(thirdDim...)])\n",
    "    else\n",
    "         minimum = Threads.@spawn hcat([min(firstDim...), min(secondDim...)])\n",
    "         maximum = Threads.@spawn hcat([max(firstDim...), max(secondDim...)])\n",
    "    end\n",
    "    return fetch(minimum),fetch(maximum)\n",
    " end"
   ]
  },
  {
   "cell_type": "code",
   "execution_count": 29,
   "id": "fb33a528",
   "metadata": {},
   "outputs": [
    {
     "name": "stdout",
     "output_type": "stream",
     "text": [
      "  20.405 μs (63 allocations: 2.19 KiB)\n"
     ]
    },
    {
     "data": {
      "text/plain": [
       "([0.0; 0.0;;], [2.0; 1.0;;])"
      ]
     },
     "metadata": {},
     "output_type": "display_data"
    }
   ],
   "source": [
    "@btime boundingboxMOD(V)   #14,076 μs"
   ]
  },
  {
   "cell_type": "markdown",
   "id": "084ea194",
   "metadata": {},
   "source": [
    "## Input_collection"
   ]
  },
  {
   "cell_type": "code",
   "execution_count": 17,
   "id": "e62fb659",
   "metadata": {},
   "outputs": [
    {
     "data": {
      "text/plain": [
       "input_collection (generic function with 1 method)"
      ]
     },
     "metadata": {},
     "output_type": "display_data"
    }
   ],
   "source": [
    "function input_collection(data::Array)::Lar.LAR\n",
    "\tassembly = Lar.Struct(data)\n",
    "\treturn Lar.struct2lar(assembly)\n",
    "end\n"
   ]
  },
  {
   "cell_type": "markdown",
   "id": "bb83e488",
   "metadata": {},
   "source": [
    "## Versione iniziale di coordintervals\n",
    "\n",
    "coordintervals crea un dizionario ordinato dove la chiave è l'intervallo su una coordinata, e come valore associato ha l'indice dell'intervallo corrispondente nel boundig box"
   ]
  },
  {
   "cell_type": "code",
   "execution_count": 16,
   "id": "70e75fc7",
   "metadata": {},
   "outputs": [
    {
     "data": {
      "text/plain": [
       "coordintervals (generic function with 1 method)"
      ]
     },
     "metadata": {},
     "output_type": "display_data"
    }
   ],
   "source": [
    "function coordintervals(coord,bboxes)\n",
    "\tboxdict = OrderedDict{Array{Float64,1},Array{Int64,1}}()\n",
    "\tfor (h,box) in enumerate(bboxes)\n",
    "\t\tkey = box[coord,:]\n",
    "\t\tif haskey(boxdict,key) == false\n",
    "\t\t\tboxdict[key] = [h]\n",
    "\t\telse\n",
    "\t\t\tpush!(boxdict[key], h)\n",
    "\t\tend\n",
    "\tend\n",
    "\treturn boxdict\n",
    "end"
   ]
  },
  {
   "cell_type": "code",
   "execution_count": 32,
   "id": "3e70a96b",
   "metadata": {},
   "outputs": [
    {
     "name": "stdout",
     "output_type": "stream",
     "text": [
      "  1.135 μs (17 allocations: 1.28 KiB)\n"
     ]
    },
    {
     "data": {
      "text/plain": [
       "OrderedDict{Vector{Float64}, Vector{Int64}} with 4 entries:\n",
       "  [0.0, 1.0] => [1, 3]\n",
       "  [1.0, 1.0] => [2]\n",
       "  [0.0, 0.0] => [4]\n",
       "  [0.0, 2.0] => [5]"
      ]
     },
     "metadata": {},
     "output_type": "display_data"
    }
   ],
   "source": [
    "@btime coordintervals(1, bb)   #1,624 μs\n"
   ]
  },
  {
   "cell_type": "markdown",
   "id": "79058d06",
   "metadata": {},
   "source": [
    "## Versione iniziale di boxcovering\n",
    "\n",
    "boxcovering calcola quali bounding box si intersecano tra loro."
   ]
  },
  {
   "cell_type": "code",
   "execution_count": 15,
   "id": "3e09f3d9",
   "metadata": {},
   "outputs": [
    {
     "data": {
      "text/plain": [
       "boxcovering (generic function with 1 method)"
      ]
     },
     "metadata": {},
     "output_type": "display_data"
    }
   ],
   "source": [
    "function boxcovering(bboxes, index, tree)\n",
    "\tcovers = [[] for k=1:length(bboxes)]\n",
    "\tfor (i,boundingbox) in enumerate(bboxes)\n",
    "\t\textent = bboxes[i][index,:]\n",
    "\t\titerator = IntervalTrees.intersect(tree, tuple(extent...))\n",
    "\t\tfor x in iterator\n",
    "\t\t\tappend!(covers[i],x.value)\n",
    "\t\tend\n",
    "\tend\n",
    "\treturn covers\n",
    "end"
   ]
  },
  {
   "cell_type": "code",
   "execution_count": 97,
   "id": "8d535a83",
   "metadata": {},
   "outputs": [
    {
     "name": "stdout",
     "output_type": "stream",
     "text": [
      "  4.546 μs (82 allocations: 3.02 KiB)\n"
     ]
    },
    {
     "data": {
      "text/plain": [
       "5-element Vector{Vector{Any}}:\n",
       " [4, 1, 3, 5, 2]\n",
       " [1, 3, 5, 2]\n",
       " [4, 1, 3, 5, 2]\n",
       " [4, 1, 3, 5]\n",
       " [4, 1, 3, 5, 2]"
      ]
     },
     "execution_count": 97,
     "metadata": {},
     "output_type": "execute_result"
    }
   ],
   "source": [
    "@btime boxcovering(bb, 1, t)   #4,546 μs"
   ]
  },
  {
   "cell_type": "markdown",
   "id": "69ff5e1b",
   "metadata": {},
   "source": [
    "boxcovering è type stable ma la variabile covers è un array di Any. Si procede tipizzando covers e dividendo la funzione in microtask."
   ]
  },
  {
   "cell_type": "markdown",
   "id": "61174d1e",
   "metadata": {},
   "source": [
    "### Versione modificata di boxcovering"
   ]
  },
  {
   "cell_type": "code",
   "execution_count": 46,
   "id": "dfe73d0e",
   "metadata": {},
   "outputs": [
    {
     "data": {
      "text/plain": [
       "boxcoveringMOD (generic function with 1 method)"
      ]
     },
     "metadata": {},
     "output_type": "display_data"
    }
   ],
   "source": [
    "function boxcoveringMOD(bboxes, index, tree)\n",
    "    covers = [[zero(eltype(Int64))] for k=1:length(bboxes)]\t\t#zero(eltype(Int64)) serve per rendere covers type stable\n",
    "    @threads for (i,boundingbox) in collect(enumerate(bboxes))\n",
    "        extent = bboxes[i][index,:]\n",
    "        iterator = IntervalTrees.intersect(tree, tuple(extent...))\n",
    "        addIntersection(covers, i, iterator)\n",
    "    end\n",
    "    return covers\n",
    "end"
   ]
  },
  {
   "cell_type": "code",
   "execution_count": 47,
   "id": "978a3b04",
   "metadata": {},
   "outputs": [
    {
     "data": {
      "text/plain": [
       "5-element Vector{Vector{Int64}}:\n",
       " [4, 1, 3, 5, 2]\n",
       " [1, 3, 5, 2]\n",
       " [4, 1, 3, 5, 2]\n",
       " [4, 1, 3, 5]\n",
       " [4, 1, 3, 5, 2]"
      ]
     },
     "metadata": {},
     "output_type": "display_data"
    }
   ],
   "source": [
    "cov = boxcoveringMOD(bb, 1, t)"
   ]
  },
  {
   "cell_type": "code",
   "execution_count": 48,
   "id": "6cb70440",
   "metadata": {},
   "outputs": [
    {
     "data": {
      "text/plain": [
       "2-element Vector{Float64}:\n",
       " 0.0\n",
       " 1.0"
      ]
     },
     "metadata": {},
     "output_type": "display_data"
    }
   ],
   "source": [
    "ex = bb[1][1,:]"
   ]
  },
  {
   "cell_type": "code",
   "execution_count": 49,
   "id": "360e7d5b",
   "metadata": {},
   "outputs": [
    {
     "data": {
      "text/plain": [
       "IntervalTrees.IntervalIntersectionIterator{typeof(IntervalTrees.true_cmp), Float64, IntervalValue{Float64, Array}, 64}(IntervalTrees.true_cmp, IntervalTrees.Intersection{Float64, IntervalValue{Float64, Array}, 64}(0, #undef), IntervalTrees.IntervalBTree{Float64, IntervalValue{Float64, Array}, 64}, Interval{Float64}\n",
       "(0.0,1.0))"
      ]
     },
     "metadata": {},
     "output_type": "display_data"
    },
    {
     "name": "stdout",
     "output_type": "stream",
     "text": [
      "\n",
      "(0.0,0.0) => [4]\n",
      "(0.0,1.0) => [1, 3]\n",
      "(0.0,2.0) => [5]\n",
      "(1.0,1.0) => [2]"
     ]
    }
   ],
   "source": [
    "it = IntervalTrees.intersect(t, tuple(ex...))\n"
   ]
  },
  {
   "cell_type": "code",
   "execution_count": 50,
   "id": "f2df51f3",
   "metadata": {},
   "outputs": [
    {
     "name": "stdout",
     "output_type": "stream",
     "text": [
      "  9.428 μs (86 allocations: 4.67 KiB)\n"
     ]
    },
    {
     "data": {
      "text/plain": [
       "5-element Vector{Vector{Int64}}:\n",
       " [4, 1, 3, 5, 2]\n",
       " [1, 3, 5, 2]\n",
       " [4, 1, 3, 5, 2]\n",
       " [4, 1, 3, 5]\n",
       " [4, 1, 3, 5, 2]"
      ]
     },
     "metadata": {},
     "output_type": "display_data"
    }
   ],
   "source": [
    "@btime boxcoveringMOD(bb, 1, t)    #2.8 μs"
   ]
  },
  {
   "cell_type": "markdown",
   "id": "2ec57e61",
   "metadata": {},
   "source": [
    "## Versione iniziale di spaceindex\n",
    "\n",
    "spaceindex, dato un modello, restituisce un array di array dove l'elemento i-esimo rappresenta quali intersezioni ha il bounding box i-esimo con gli altri bounding box"
   ]
  },
  {
   "cell_type": "code",
   "execution_count": 8,
   "id": "1aefa425",
   "metadata": {},
   "outputs": [
    {
     "data": {
      "text/plain": [
       "spaceindex (generic function with 1 method)"
      ]
     },
     "metadata": {},
     "output_type": "display_data"
    }
   ],
   "source": [
    "function spaceindex(model::Lar.LAR)::Array{Array{Int,1},1}\n",
    "\tV,CV = model[1:2]\n",
    "\tdim = size(V,1)\n",
    "\tcellpoints = [ V[:,CV[k]]::Lar.Points for k=1:length(CV) ]\n",
    "\t#----------------------------------------------------------\n",
    "\tbboxes = [hcat(Lar.boundingbox(cell)...) for cell in cellpoints]\n",
    "\txboxdict = Lar.coordintervals(1,bboxes)\n",
    "\tyboxdict = Lar.coordintervals(2,bboxes)\n",
    "\t# xs,ys are IntervalTree type\n",
    "\txs = IntervalTrees.IntervalMap{Float64, Array}()\n",
    "\tfor (key,boxset) in xboxdict\n",
    "\t\txs[tuple(key...)] = boxset\n",
    "\tend\n",
    "\tys = IntervalTrees.IntervalMap{Float64, Array}()\n",
    "\tfor (key,boxset) in yboxdict\n",
    "\t\tys[tuple(key...)] = boxset\n",
    "\tend\n",
    "\txcovers = Lar.boxcovering(bboxes, 1, xs)\n",
    "\tycovers = Lar.boxcovering(bboxes, 2, ys)\n",
    "\tcovers = [intersect(pair...) for pair in zip(xcovers,ycovers)]\n",
    "\n",
    "\tif dim == 3\n",
    "\t\tzboxdict = Lar.coordintervals(3,bboxes)\n",
    "\t\tzs = IntervalTrees.IntervalMap{Float64, Array}()\n",
    "\t\tfor (key,boxset) in zboxdict\n",
    "\t\t\tzs[tuple(key...)] = boxset\n",
    "\t\tend\n",
    "\t\tzcovers = Lar.boxcovering(bboxes, 3, zs)\n",
    "\t\tcovers = [intersect(pair...) for pair in zip(zcovers,covers)]\n",
    "\tend\n",
    "\t# remove each cell from its cover\n",
    "\tfor k=1:length(covers)\n",
    "\t\tcovers[k] = setdiff(covers[k],[k])\n",
    "\tend\n",
    "\treturn covers\n",
    "end\n"
   ]
  },
  {
   "cell_type": "code",
   "execution_count": 38,
   "id": "ce84e36f",
   "metadata": {},
   "outputs": [
    {
     "name": "stdout",
     "output_type": "stream",
     "text": [
      "  108.574 μs (973 allocations: 50.25 KiB)\n"
     ]
    },
    {
     "data": {
      "text/plain": [
       "5-element Vector{Vector{Int64}}:\n",
       " [4, 5, 2]\n",
       " [1, 3, 5]\n",
       " [4, 5, 2]\n",
       " [1, 3, 5]\n",
       " [4, 1, 3, 2]"
      ]
     },
     "metadata": {},
     "output_type": "display_data"
    }
   ],
   "source": [
    "@btime spaceindex((V,EV))       #104,214 μs"
   ]
  },
  {
   "cell_type": "markdown",
   "id": "2e021eb6",
   "metadata": {},
   "source": [
    "### Versione modificata di SpaceIndex"
   ]
  },
  {
   "cell_type": "code",
   "execution_count": 43,
   "id": "ec7cf7d3",
   "metadata": {},
   "outputs": [
    {
     "data": {
      "text/plain": [
       "spaceindexMOD (generic function with 1 method)"
      ]
     },
     "metadata": {},
     "output_type": "display_data"
    }
   ],
   "source": [
    "using LinearAlgebraicRepresentation\n",
    "Lar = LinearAlgebraicRepresentation\n",
    "using IntervalTrees\n",
    "\n",
    "function spaceindexMOD(model::Lar.LAR)::Array{Array{Int,1},1}\n",
    "    V,CV = model[1:2]\n",
    "    dim = size(V,1)\n",
    "    \n",
    "    cellpoints = [ V[:,CV[k]]::Lar.Points for k=1:length(CV) ]\t\t    #calcola le celle\n",
    "    bboxes = [hcat(boundingboxMOD(cell)...) for cell in cellpoints]    #calcola i boundingbox delle celle\n",
    "    \n",
    "    xboxdict = Threads.@spawn coordintervals(1,bboxes)\n",
    "    yboxdict = Threads.@spawn coordintervals(2,bboxes)\n",
    "\n",
    "    # xs,ys sono di tipo IntervalTree\n",
    "    xs = Threads.@spawn createIntervalTree(fetch(xboxdict))\n",
    "    ys = Threads.@spawn createIntervalTree(fetch(yboxdict))\n",
    "    \n",
    "    xcovers = Threads.@spawn boxcoveringMOD(bboxes, 1, fetch(xs))                        #lista delle intersezioni dei bb sulla coordinata x\n",
    "    ycovers = Threads.@spawn boxcoveringMOD(bboxes, 2, fetch(ys))                        #lista delle intersezioni dei bb sulla coordinata x\n",
    "    covers = [intersect(pair...) for pair in zip(fetch(xcovers),fetch(ycovers))]      #lista delle intersezioni dei bb su entrambe le coordinate\n",
    "\n",
    "    if dim == 3\n",
    "        zboxdict = Threads.@spawn coordintervals(3,bboxes)\n",
    "        zs = Threads.@spawn createIntervalTree(fetch(zboxdict))\n",
    "        zcovers = Threads.@spawn boxcoveringMOD(bboxes, 3, fetch(zs))\n",
    "        covers = [intersect(pair...) for pair in zip(fetch(zcovers),covers)]\n",
    "    end\n",
    "    \n",
    "    removeIntersection(covers)       #rimozione delle intersezioni con se stesso\n",
    "    return covers\n",
    "end"
   ]
  },
  {
   "cell_type": "code",
   "execution_count": 51,
   "id": "e8b57f8b",
   "metadata": {},
   "outputs": [
    {
     "name": "stdout",
     "output_type": "stream",
     "text": [
      "  157.396 μs (538 allocations: 37.27 KiB)\n"
     ]
    },
    {
     "data": {
      "text/plain": [
       "5-element Vector{Vector{Int64}}:\n",
       " [4, 5, 2]\n",
       " [1, 3, 5]\n",
       " [4, 5, 2]\n",
       " [1, 3, 5]\n",
       " [4, 1, 3, 2]"
      ]
     },
     "metadata": {},
     "output_type": "display_data"
    }
   ],
   "source": [
    "@btime spaceindexMOD((V, EV))       #101,009 μs"
   ]
  },
  {
   "cell_type": "markdown",
   "id": "66882edf",
   "metadata": {},
   "source": [
    "Dal code_warntype di spaceIndex emerge l'instabilità riguardo alcune variabili e non dell'intero metodo. Si procede nell'analisi delle singole funzioni mono-tasks."
   ]
  },
  {
   "cell_type": "markdown",
   "id": "241ee9fb",
   "metadata": {},
   "source": [
    "## Versione iniziale di Intersection"
   ]
  },
  {
   "cell_type": "code",
   "execution_count": 100,
   "id": "42145f6e",
   "metadata": {},
   "outputs": [
    {
     "data": {
      "text/plain": [
       "intersection (generic function with 1 method)"
      ]
     },
     "execution_count": 100,
     "metadata": {},
     "output_type": "execute_result"
    }
   ],
   "source": [
    "function intersection(line1,line2)\n",
    "\tx1,y1,x2,y2 = vcat(line1...)\n",
    "\tx3,y3,x4,y4 = vcat(line2...)\n",
    "\n",
    "\t# intersect lines e1,e2\n",
    "\t# http://www.cs.swan.ac.uk/~cssimon/line_intersection.html\n",
    "\tdet = (x4-x3)*(y1-y2)-(x1-x2)*(y4-y3)\n",
    "\tif det != 0.0\n",
    "\t\ta = 1/det\n",
    "\t\tb = [y1-y2 x2-x1; y3-y4 x4-x3]  # x1-x2 => x2-x1 bug in the source link !!\n",
    "\t\tc = [x1-x3; y1-y3]\n",
    "\t\t(β,α) = a * b * c\n",
    "\telse\n",
    "\t\tif (y1==y2) == (y3==y4) || (x1==x2) == (x3==x4) # segments collinear\n",
    "\t\t\t return nothing\n",
    "\t\telse\n",
    "\t\t\t # segments parallel: no intersection\n",
    "\t\t\t return nothing\n",
    "\t\tend\n",
    "\tend\n",
    "\treturn α,β\n",
    "end\n"
   ]
  },
  {
   "cell_type": "code",
   "execution_count": 110,
   "id": "7d82f5f4",
   "metadata": {},
   "outputs": [
    {
     "name": "stdout",
     "output_type": "stream",
     "text": [
      "  748.214 ns (27 allocations: 752 bytes)\n"
     ]
    }
   ],
   "source": [
    "@btime intersection([0., 0., 0., 0.], [0., 0., 0., 0.])       #748,214 μs"
   ]
  },
  {
   "cell_type": "markdown",
   "id": "b77c116e",
   "metadata": {},
   "source": [
    "## Versione iniziale di linefragments"
   ]
  },
  {
   "cell_type": "code",
   "execution_count": 14,
   "id": "4512150b",
   "metadata": {},
   "outputs": [
    {
     "data": {
      "text/plain": [
       "linefragments (generic function with 1 method)"
      ]
     },
     "execution_count": 14,
     "metadata": {},
     "output_type": "execute_result"
    }
   ],
   "source": [
    "function linefragments(V,EV,Sigma)\n",
    "\t# remove the double intersections by ordering Sigma\n",
    "\tm = length(Sigma)\n",
    "\tsigma = map(sort,Sigma)\n",
    "\treducedsigma = sigma ##[filter(x->(x > k), sigma[k]) for k=1:m]\n",
    "\t# pairwise parametric intersection\n",
    "\tparams = Array{Float64,1}[[] for i=1:m]\n",
    "\tfor h=1:m\n",
    "\t\tif sigma[h] ≠ []\n",
    "\t\t\tline1 = V[:,EV[h]]\n",
    "\t\t\tfor k in sigma[h]\n",
    "\t\t\t\tline2 = V[:,EV[k]]\n",
    "\t\t\t\tout = Lar.intersection(line1,line2) # TODO: w interval arithmetic\n",
    "\t\t\t\tif out ≠ nothing\n",
    "\t\t\t\t\tα,β = out\n",
    "\t\t\t\t\tif 0<=α<=1 && 0<=β<=1\n",
    "\t\t\t\t\t\tpush!(params[h], α)\n",
    "\t\t\t\t\t\tpush!(params[k], β)\n",
    "\t\t\t\t\tend\n",
    "\t\t\t\tend\n",
    "\t\t\tend\n",
    "\t\tend\n",
    "\tend\n",
    "\t# finalize parameters of fragmented lines\n",
    "\tfragparams = []\n",
    "\tfor line in params\n",
    "\t\tpush!(line, 0.0, 1.0)\n",
    "\t\tline = sort(collect(Set(line)))\n",
    "\t\tpush!(fragparams, line)\n",
    "\tend\n",
    "\treturn fragparams\n",
    "end"
   ]
  },
  {
   "cell_type": "code",
   "execution_count": 115,
   "id": "66e9ffe8",
   "metadata": {},
   "outputs": [
    {
     "name": "stdout",
     "output_type": "stream",
     "text": [
      "  33.756 μs (800 allocations: 25.34 KiB)\n"
     ]
    },
    {
     "data": {
      "text/plain": [
       "5-element Vector{Any}:\n",
       " [0.0, 1.0]\n",
       " [0.0, 0.5, 1.0]\n",
       " [0.0, 1.0]\n",
       " [0.0, 1.0]\n",
       " [0.0, 0.5, 1.0]"
      ]
     },
     "execution_count": 115,
     "metadata": {},
     "output_type": "execute_result"
    }
   ],
   "source": [
    "Sigma = [[4, 5, 2], [1, 3, 5], [4, 5, 2], [1, 3, 5], [4, 1, 3, 2]];\n",
    "@btime linefragments(V, EV, Sigma)       #33,756 μs"
   ]
  },
  {
   "cell_type": "markdown",
   "id": "0359494c",
   "metadata": {},
   "source": [
    "## Versione iniziale di fragmentlines"
   ]
  },
  {
   "cell_type": "code",
   "execution_count": 21,
   "id": "906fb9a8",
   "metadata": {},
   "outputs": [
    {
     "data": {
      "text/plain": [
       "fragmentlines (generic function with 1 method)"
      ]
     },
     "metadata": {},
     "output_type": "display_data"
    }
   ],
   "source": [
    "function fragmentlines(model)\n",
    "\tV,EV = model\n",
    "\t# acceleration via spatial index computation\n",
    "\tSigma = Lar.spaceindex(model)\n",
    "\t# actual parametric intersection of each line with the close ones\n",
    "\tlineparams = Lar.linefragments(V,EV,Sigma)\n",
    "\t# initialization of local data structures\n",
    "\tvertdict = OrderedDict{Array{Float64,1},Array{Int,1}}()\n",
    "\tpairs = collect(zip(lineparams, [V[:,e] for e in EV]))\n",
    "\tvertdict = OrderedDict{Array{Float64,1},Int}()\n",
    "\tW = Array[]\n",
    "\tEW = Array[]\n",
    "\tk = 0\n",
    "\t# generation of intersection points\n",
    "\tfor (params,linepoints) in pairs\n",
    "\t\tv1 = linepoints[:,1]\n",
    "\t\tv2 = linepoints[:,2]\n",
    "\t\tpoints = [ v1 + t*(v2 - v1) for t in params]   # !!!! loved !!\n",
    "\t\tvs = zeros(Int64,1,length(points))\n",
    "\t\tPRECISION = 8\n",
    "\t\t# identification via dictionary of points\n",
    "\t\tfor (h,point) in enumerate(points)\n",
    "\t\t\tpoint = map(Lar.approxVal(PRECISION), point)\n",
    "\t\t\tif haskey(vertdict, point) == false\n",
    "\t\t\t\tk += 1\n",
    "\t\t\t\tvertdict[point] = k\n",
    "\t\t\t\tpush!(W, point)\n",
    "\t\t\tend\n",
    "\t\t\tvs[h] = vertdict[point]\n",
    "\t\tend\n",
    "\t\t[push!(EW, [vs[k], vs[k+1]]) for k=1:length(vs)-1]\n",
    "\tend\n",
    "\t# normalization of output\n",
    "\tW,EW = hcat(W...),convert(Array{Array{Int64,1},1},EW)\n",
    "\tV,EV = Lar.congruence((W,EW))\n",
    "\treturn V,EV\n",
    "end"
   ]
  },
  {
   "cell_type": "code",
   "execution_count": 122,
   "id": "61798235",
   "metadata": {},
   "outputs": [
    {
     "name": "stdout",
     "output_type": "stream",
     "text": [
      "  231.118 μs (2333 allocations: 97.80 KiB)\n"
     ]
    },
    {
     "data": {
      "text/plain": [
       "([0.0 1.0 … 0.0 2.0; 0.0 0.0 … 1.0 1.0], [[1, 2], [2, 3], [3, 4], [4, 5], [5, 1], [1, 3], [3, 6]])"
      ]
     },
     "execution_count": 122,
     "metadata": {},
     "output_type": "execute_result"
    }
   ],
   "source": [
    "model = V, EV;\n",
    "@btime fragmentlines(model)       #229,333 μs"
   ]
  },
  {
   "cell_type": "markdown",
   "id": "2e792196",
   "metadata": {},
   "source": [
    "## Versione iniziale di fraglines\n"
   ]
  },
  {
   "cell_type": "code",
   "execution_count": 16,
   "id": "65b32255",
   "metadata": {},
   "outputs": [
    {
     "data": {
      "text/plain": [
       "fraglines (generic function with 4 methods)"
      ]
     },
     "metadata": {},
     "output_type": "display_data"
    }
   ],
   "source": [
    "function fraglines(sx::Float64=1.2,sy::Float64=1.2,sz::Float64=1.2)\n",
    "\tfunction fraglines0(model)\n",
    "\t\tV,EV = Lar.fragmentlines(model)\n",
    "\n",
    "\t\tW = zeros(Float64, size(V,1), 2*length(EV))\n",
    "\t\tEW = Array{Array{Int64,1},1}()\n",
    "\t\tfor (k,(v1,v2)) in enumerate(EV)\n",
    "\t\t\tif size(V,1)==2\n",
    "\t\t\t\tx,y = (V[:,v1] + V[:,v2]) ./ 2\n",
    "\t\t\t\tscx,scy = x*sx, y*sy\n",
    "\t\t\t\tt = [scx-x, scy-y]\n",
    "\t\t\telseif size(V,1)==3\n",
    "\t\t\t\tx,y,z = (V[:,v1] + V[:,v2]) ./ 2\n",
    "\t\t\t\tscx,scy,scz = x*sx, y*sy, z*sz\n",
    "\t\t\t\tt = [scx-x, scy-y, scz-z]\n",
    "\t\t\tend\n",
    "\t\t\tW[:,2*k-1] = V[:,v1] + t\n",
    "\t\t\tW[:,2*k] = V[:,v2] + t\n",
    "\t\t\tpush!(EW, [2*k-1, 2*k])\n",
    "\t\tend\n",
    "\t\treturn W,EW\n",
    "\tend\n",
    "\treturn fraglines0\n",
    "end"
   ]
  },
  {
   "cell_type": "code",
   "execution_count": 17,
   "id": "41017b7b",
   "metadata": {},
   "outputs": [
    {
     "name": "stdout",
     "output_type": "stream",
     "text": [
      "  0.043 ns (0 allocations: 0 bytes)\n"
     ]
    },
    {
     "data": {
      "text/plain": [
       "(::var\"#fraglines0#17\"{Float64, Float64, Float64}) (generic function with 1 method)"
      ]
     },
     "metadata": {},
     "output_type": "display_data"
    }
   ],
   "source": [
    "@btime fraglines(0., 0., 0.)       #0,041 μs"
   ]
  },
  {
   "cell_type": "markdown",
   "id": "e01d9eba",
   "metadata": {},
   "source": [
    "## Versione iniziale di congruence"
   ]
  },
  {
   "cell_type": "code",
   "execution_count": 54,
   "id": "7b8ebf16",
   "metadata": {},
   "outputs": [
    {
     "data": {
      "text/plain": [
       "congruence (generic function with 1 method)"
      ]
     },
     "metadata": {},
     "output_type": "display_data"
    }
   ],
   "source": [
    "function congruence(model)\n",
    "\tW,EW = model\n",
    "\t# congruent vertices\n",
    "\tballtree = NearestNeighbors.BallTree(W)\n",
    "\tr = 0.0000000001\n",
    "\tnear = Array{Any}(undef, size(W,2))\n",
    "@sync\tfor k=1:size(W,2)\n",
    "@views\tnear[k] = union([NearestNeighbors.inrange(balltree, W[:,k], r, true)]...)\n",
    "\tend\n",
    "\tnear = map(sort,near)  # check !!!\n",
    "\tfor k=1:size(W,2)\n",
    "\t\tW[:,k] = W[:,near[k][1]]\n",
    "\tend\n",
    "\tpointidx = [ near[k][1] for k=1:size(W,2) ]  # check !!\n",
    "\tinvidx = OrderedDict(zip(1:length(pointidx), pointidx))\n",
    "\tV = [W[:,k] for k=1:length(pointidx)]\n",
    "\t# congruent edges\n",
    "\tEV = []\n",
    "@async\tfor e in (EW)\n",
    "@views\t\tnewedge = [invidx[e[1]],invidx[e[2]]]\n",
    "\t\tif newedge[1] !== newedge[2]\n",
    "\t\t\tpush!(EV,newedge)\n",
    "\t\tend\n",
    "\tend\n",
    "\tEV = [EV[h] for h=1:length(EV) if length(EV[h])==2]\n",
    "\tEV = convert(Lar.Cells, EV)\n",
    "\t#W,EW = Lar.simplifyCells(V,EV)\n",
    "\treturn hcat(V...),EV\n",
    "end\n",
    "\n",
    "\n"
   ]
  },
  {
   "cell_type": "code",
   "execution_count": 55,
   "id": "090fd63a",
   "metadata": {},
   "outputs": [
    {
     "name": "stdout",
     "output_type": "stream",
     "text": [
      "  27.624 μs (192 allocations: 10.56 KiB)\n"
     ]
    },
    {
     "data": {
      "text/plain": [
       "([0.0 1.0 … 0.0 2.0; 0.0 0.0 … 1.0 1.0], [[1, 2], [2, 3], [3, 4], [4, 1], [1, 5]])"
      ]
     },
     "metadata": {},
     "output_type": "display_data"
    }
   ],
   "source": [
    " model= V, EV\n",
    "\n",
    "@btime congruence(model)       #0,041 μs"
   ]
  },
  {
   "cell_type": "markdown",
   "id": "c326b145",
   "metadata": {},
   "source": [
    "# FUNZIONI AGGIUNTIVE"
   ]
  },
  {
   "cell_type": "markdown",
   "id": "ac2412da",
   "metadata": {},
   "source": [
    "### RemoveIntersection"
   ]
  },
  {
   "cell_type": "markdown",
   "id": "818d60b2",
   "metadata": {},
   "source": [
    "rimuove le intersezioni contenute in **covers** che i boundingbox hanno con se stessi\n",
    "\n"
   ]
  },
  {
   "cell_type": "code",
   "execution_count": 32,
   "id": "187b0401",
   "metadata": {},
   "outputs": [
    {
     "data": {
      "text/plain": [
       "removeIntersection (generic function with 1 method)"
      ]
     },
     "metadata": {},
     "output_type": "display_data"
    }
   ],
   "source": [
    "function removeIntersection(covers::Array{Array{Int64,1},1})\n",
    "    @threads for k=1:length(covers)\n",
    "        covers[k] = setdiff(covers[k],[k])\t#toglie le intersezioni con se stesso \n",
    "    end\n",
    "end"
   ]
  },
  {
   "cell_type": "code",
   "execution_count": 33,
   "id": "da40efb2",
   "metadata": {},
   "outputs": [
    {
     "name": "stdout",
     "output_type": "stream",
     "text": [
      "  7.016 μs (46 allocations: 3.36 KiB)\n"
     ]
    }
   ],
   "source": [
    "@btime removeIntersection(cov)    # 7.011 μs"
   ]
  },
  {
   "cell_type": "markdown",
   "id": "5e6676b9",
   "metadata": {},
   "source": [
    "### CreateIntervalTree"
   ]
  },
  {
   "cell_type": "markdown",
   "id": "04d8cabf",
   "metadata": {},
   "source": [
    "funzione che crea un albero di supporto per la funzione principale **boxcovering**; nel particolare dato un dizionario ordinato crea un intervalTrees cioè una struttura dati che contiene intervalli e che consente di trovare in modo efficiente tutti gli intervalli che si sovrappongono a un determinato intervallo o punto."
   ]
  },
  {
   "cell_type": "code",
   "execution_count": 24,
   "id": "f70f4937",
   "metadata": {},
   "outputs": [
    {
     "data": {
      "text/plain": [
       "createIntervalTree (generic function with 1 method)"
      ]
     },
     "metadata": {},
     "output_type": "display_data"
    }
   ],
   "source": [
    "function createIntervalTree(boxdict::AbstractDict{Array{Float64,1},Array{Int64,1}})\n",
    "    tree = IntervalTrees.IntervalMap{Float64,Array}()\n",
    "    for (key, boxset) in boxdict\n",
    "        tree[tuple(key...)] = boxset\n",
    "    end\n",
    "    return tree\n",
    "end"
   ]
  },
  {
   "cell_type": "code",
   "execution_count": 25,
   "id": "a2cfce47",
   "metadata": {},
   "outputs": [
    {
     "data": {
      "text/plain": [
       "IntervalTrees.IntervalBTree{Float64, IntervalValue{Float64, Array}, 64}"
      ]
     },
     "metadata": {},
     "output_type": "display_data"
    },
    {
     "name": "stdout",
     "output_type": "stream",
     "text": [
      "\n",
      "(0.0,0.0) => [4]\n",
      "(0.0,1.0) => [1, 3]\n",
      "(0.0,2.0) => [5]\n",
      "(1.0,1.0) => [2]"
     ]
    }
   ],
   "source": [
    "t=createIntervalTree(dict)  #creazione dell'albero t"
   ]
  },
  {
   "cell_type": "code",
   "execution_count": 143,
   "id": "2ea99a91",
   "metadata": {},
   "outputs": [
    {
     "name": "stdout",
     "output_type": "stream",
     "text": [
      "  1.251 μs (16 allocations: 3.00 KiB)\n"
     ]
    },
    {
     "data": {
      "text/plain": [
       "IntervalTrees.IntervalBTree{Float64, IntervalValue{Float64, Array}, 64}"
      ]
     },
     "execution_count": 143,
     "metadata": {},
     "output_type": "execute_result"
    },
    {
     "name": "stdout",
     "output_type": "stream",
     "text": [
      "\n",
      "(0.0,0.0) => [4]\n",
      "(0.0,1.0) => [1, 3]\n",
      "(0.0,2.0) => [5]\n",
      "(1.0,1.0) => [2]"
     ]
    }
   ],
   "source": [
    "@btime createIntervalTree(dict)    #1,251 ns"
   ]
  },
  {
   "cell_type": "markdown",
   "id": "d4d29d65",
   "metadata": {},
   "source": [
    "createIntervalTree è type stable"
   ]
  },
  {
   "cell_type": "code",
   "execution_count": 221,
   "id": "c0f6a39d",
   "metadata": {},
   "outputs": [
    {
     "data": {
      "text/plain": [
       "BenchmarkTools.Trial: 10000 samples with 10 evaluations.\n",
       " Range \u001b[90m(\u001b[39m\u001b[36m\u001b[1mmin\u001b[22m\u001b[39m … \u001b[35mmax\u001b[39m\u001b[90m):  \u001b[39m\u001b[36m\u001b[1m1.266 μs\u001b[22m\u001b[39m … \u001b[35m451.529 μs\u001b[39m  \u001b[90m┊\u001b[39m GC \u001b[90m(\u001b[39mmin … max\u001b[90m): \u001b[39m 0.00% … 99.32%\n",
       " Time  \u001b[90m(\u001b[39m\u001b[34m\u001b[1mmedian\u001b[22m\u001b[39m\u001b[90m):     \u001b[39m\u001b[34m\u001b[1m1.350 μs               \u001b[22m\u001b[39m\u001b[90m┊\u001b[39m GC \u001b[90m(\u001b[39mmedian\u001b[90m):    \u001b[39m 0.00%\n",
       " Time  \u001b[90m(\u001b[39m\u001b[32m\u001b[1mmean\u001b[22m\u001b[39m ± \u001b[32mσ\u001b[39m\u001b[90m):   \u001b[39m\u001b[32m\u001b[1m1.802 μs\u001b[22m\u001b[39m ± \u001b[32m  9.606 μs\u001b[39m  \u001b[90m┊\u001b[39m GC \u001b[90m(\u001b[39mmean ± σ\u001b[90m):  \u001b[39m12.46% ±  2.43%\n",
       "\n",
       "  \u001b[39m▇\u001b[39m█\u001b[34m▆\u001b[39m\u001b[39m▅\u001b[39m▅\u001b[39m▃\u001b[39m▂\u001b[39m \u001b[39m \u001b[39m \u001b[32m \u001b[39m\u001b[39m \u001b[39m \u001b[39m \u001b[39m \u001b[39m \u001b[39m \u001b[39m \u001b[39m \u001b[39m▁\u001b[39m▁\u001b[39m \u001b[39m \u001b[39m \u001b[39m \u001b[39m \u001b[39m \u001b[39m \u001b[39m \u001b[39m \u001b[39m \u001b[39m \u001b[39m \u001b[39m \u001b[39m \u001b[39m \u001b[39m \u001b[39m \u001b[39m \u001b[39m \u001b[39m \u001b[39m \u001b[39m \u001b[39m \u001b[39m \u001b[39m \u001b[39m \u001b[39m \u001b[39m \u001b[39m \u001b[39m \u001b[39m \u001b[39m \u001b[39m \u001b[39m \u001b[39m \u001b[39m \u001b[39m \u001b[39m \u001b[39m \u001b[39m▁\n",
       "  \u001b[39m█\u001b[39m█\u001b[34m█\u001b[39m\u001b[39m█\u001b[39m█\u001b[39m█\u001b[39m█\u001b[39m█\u001b[39m█\u001b[39m▇\u001b[32m▇\u001b[39m\u001b[39m▆\u001b[39m▆\u001b[39m▅\u001b[39m▆\u001b[39m▅\u001b[39m▆\u001b[39m▇\u001b[39m█\u001b[39m█\u001b[39m█\u001b[39m█\u001b[39m▇\u001b[39m▇\u001b[39m▆\u001b[39m▆\u001b[39m▆\u001b[39m▅\u001b[39m▆\u001b[39m▅\u001b[39m▄\u001b[39m▅\u001b[39m▅\u001b[39m▄\u001b[39m▄\u001b[39m▄\u001b[39m▅\u001b[39m▅\u001b[39m▃\u001b[39m▅\u001b[39m▄\u001b[39m▅\u001b[39m▄\u001b[39m▄\u001b[39m▄\u001b[39m▂\u001b[39m▄\u001b[39m▄\u001b[39m▅\u001b[39m▄\u001b[39m▄\u001b[39m▄\u001b[39m▅\u001b[39m▄\u001b[39m▄\u001b[39m▄\u001b[39m▄\u001b[39m▄\u001b[39m▅\u001b[39m \u001b[39m█\n",
       "  1.27 μs\u001b[90m      \u001b[39m\u001b[90mHistogram: \u001b[39m\u001b[90m\u001b[1mlog(\u001b[22m\u001b[39m\u001b[90mfrequency\u001b[39m\u001b[90m\u001b[1m)\u001b[22m\u001b[39m\u001b[90m by time\u001b[39m      4.48 μs \u001b[0m\u001b[1m<\u001b[22m\n",
       "\n",
       " Memory estimate\u001b[90m: \u001b[39m\u001b[33m3.00 KiB\u001b[39m, allocs estimate\u001b[90m: \u001b[39m\u001b[33m16\u001b[39m."
      ]
     },
     "execution_count": 221,
     "metadata": {},
     "output_type": "execute_result"
    }
   ],
   "source": [
    "# benchmak della funzione appena creta 'createIntervalTree'. Restituisce le velcità massime, minime e medie \n",
    "# per il calcolo dell'output.\n",
    "@benchmark createIntervalTree(dict)   #min = 1,233 ns, mean = 1.320 μs, max = 267.192 μs"
   ]
  },
  {
   "cell_type": "markdown",
   "id": "4dca2cf2",
   "metadata": {},
   "source": [
    "### addIntersection"
   ]
  },
  {
   "cell_type": "markdown",
   "id": "932199f3",
   "metadata": {},
   "source": [
    "addIntersection aggiunge in 'covers' in i-esima posizione tutti i bounding box che intersecano l'i-esimo bounding box\n",
    "\n"
   ]
  },
  {
   "cell_type": "code",
   "execution_count": 22,
   "id": "1c4c2efe",
   "metadata": {},
   "outputs": [
    {
     "data": {
      "text/plain": [
       "addIntersection (generic function with 1 method)"
      ]
     },
     "metadata": {},
     "output_type": "display_data"
    }
   ],
   "source": [
    "function addIntersection(covers::Array{Array{Int64,1},1}, i::Int64, iterator)\n",
    "    splice!(covers[i],1)\t\t#splice serve a togliere gli zeri iniziali all'interno di covers\n",
    "    @threads for x in collect(iterator)\n",
    "        append!(covers[i],x.value)\n",
    "    end\n",
    "end"
   ]
  }
 ],
 "metadata": {
  "kernelspec": {
   "display_name": "Julia 1.7.2",
   "language": "julia",
   "name": "julia-1.7"
  },
  "language_info": {
   "file_extension": ".jl",
   "mimetype": "application/julia",
   "name": "julia",
   "version": "1.7.2"
  }
 },
 "nbformat": 4,
 "nbformat_minor": 5
}
