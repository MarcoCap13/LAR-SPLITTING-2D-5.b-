{
 "cells": [
  {
   "cell_type": "markdown",
   "id": "4f03816f",
   "metadata": {},
   "source": [
    "# ANALISI E REVISIONE DEL PROGETTO LARSPLITTING 2D "
   ]
  },
  {
   "cell_type": "markdown",
   "id": "bbd19810",
   "metadata": {},
   "source": [
    "## CLASSE REFACTORING: pointInPolygonClassification"
   ]
  },
  {
   "cell_type": "markdown",
   "id": "b9488613",
   "metadata": {},
   "source": [
    "Variabili utili per testare il funzionamento\n"
   ]
  },
  {
   "cell_type": "code",
   "execution_count": 3,
   "id": "d88d8e60",
   "metadata": {
    "scrolled": true
   },
   "outputs": [],
   "source": [
    "using LinearAlgebraicRepresentation\n",
    "Lar = LinearAlgebraicRepresentation\n",
    "using IntervalTrees\n",
    "using SparseArrays\n",
    "using NearestNeighbors\n",
    "using BenchmarkTools\n",
    "using OrderedCollections\n",
    "using Base.Threads\n"
   ]
  },
  {
   "cell_type": "code",
   "execution_count": 4,
   "id": "d9c77ed8",
   "metadata": {},
   "outputs": [
    {
     "data": {
      "text/plain": [
       "5-element Vector{Vector{Int64}}:\n",
       " [4, 1, 3, 5, 2]\n",
       " [1, 3, 5, 2]\n",
       " [4, 1, 3, 5, 2]\n",
       " [4, 1, 3, 5]\n",
       " [4, 1, 3, 5, 2]"
      ]
     },
     "metadata": {},
     "output_type": "display_data"
    }
   ],
   "source": [
    "V = hcat([[0.,0],[1,0],[1,1],[0,1],[2,1]]...);    #vertici del modello 2D\n",
    "V3 = hcat([[0.,0,0],[1,0,3],[1,1,2],[0,1,1],[2,1,0]]...);   #vertici del modello 3D\n",
    "EV = [[1,2],[2,3],[3,4],[4,1],[1,5]];             #spigoli del modello\n",
    "bb = [[0.0 1.0; 0.0 0.0], [1.0 1.0; 0.0 1.0], [0.0 1.0; 1.0 1.0], [0.0 0.0; 0.0 1.0], [0.0 2.0; 0.0 1.0]];  #bounding box\n",
    "dict = OrderedDict([0.0, 1.0] => [1, 3],[1.0, 1.0] => [2],[0.0, 0.0] => [4],[0.0, 2.0] => [5])  #dizionario intervallo/indice\n",
    "cov = [[4, 1, 3, 5, 2], [1, 3, 5, 2], [4, 1, 3, 5, 2], [4, 1, 3, 5], [4, 1, 3, 5, 2]]    #intersezioni tra bounding box"
   ]
  },
  {
   "cell_type": "markdown",
   "id": "a9e63274",
   "metadata": {},
   "source": [
    "## Versione iniziale di pointInPolygonClassification"
   ]
  },
  {
   "cell_type": "code",
   "execution_count": 11,
   "id": "e180ac14",
   "metadata": {},
   "outputs": [
    {
     "data": {
      "text/plain": [
       "pointInPolygonClassification (generic function with 1 method)"
      ]
     },
     "metadata": {},
     "output_type": "display_data"
    }
   ],
   "source": [
    "function pointInPolygonClassification(V,EV)\n",
    "    function pointInPolygonClassification0(pnt)\n",
    "        x,y = pnt\n",
    "        xmin,xmax,ymin,ymax = x,x,y,y\n",
    "        tilecode = setTile([ymax,ymin,xmax,xmin])\n",
    "        count,status = 0,0\n",
    "\n",
    "        for (k,edge) in enumerate(EV)\n",
    "            p1,p2 = V[:,edge[1]],V[:,edge[2]]\n",
    "            (x1,y1),(x2,y2) = p1,p2\n",
    "            c1,c2 = tilecode(p1),tilecode(p2)\n",
    "            c_edge, c_un, c_int = c1⊻c2, c1|c2, c1&c2\n",
    "\n",
    "            if (c_edge == 0) & (c_un == 0) return \"p_on\"\n",
    "            elseif (c_edge == 12) & (c_un == c_edge) return \"p_on\"\n",
    "            elseif c_edge == 3\n",
    "                if c_int == 0 return \"p_on\"\n",
    "                elseif c_int == 4 count += 1 end\n",
    "            elseif c_edge == 15\n",
    "                x_int = ((y-y2)*(x1-x2)/(y1-y2))+x2\n",
    "                if x_int > x count += 1\n",
    "                elseif x_int == x return \"p_on\" end\n",
    "            elseif (c_edge == 13) & ((c1==4) | (c2==4))\n",
    "                    crossingTest(1,2,status,count)\n",
    "            elseif (c_edge == 14) & ((c1==4) | (c2==4))\n",
    "                    crossingTest(2,1,status,count)\n",
    "            elseif c_edge == 7 count += 1\n",
    "            elseif c_edge == 11 count = count\n",
    "            elseif c_edge == 1\n",
    "                if c_int == 0 return \"p_on\"\n",
    "                elseif c_int == 4 crossingTest(1,2,status,count) end\n",
    "            elseif c_edge == 2\n",
    "                if c_int == 0 return \"p_on\"\n",
    "                elseif c_int == 4 crossingTest(2,1,status,count) end\n",
    "            elseif (c_edge == 4) & (c_un == c_edge) return \"p_on\"\n",
    "            elseif (c_edge == 8) & (c_un == c_edge) return \"p_on\"\n",
    "            elseif c_edge == 5\n",
    "                if (c1==0) | (c2==0) return \"p_on\"\n",
    "                else crossingTest(1,2,status,count) end\n",
    "            elseif c_edge == 6\n",
    "                if (c1==0) | (c2==0) return \"p_on\"\n",
    "                else crossingTest(2,1,status,count) end\n",
    "            elseif (c_edge == 9) & ((c1==0) | (c2==0)) return \"p_on\"\n",
    "            elseif (c_edge == 10) & ((c1==0) | (c2==0)) return \"p_on\"\n",
    "            end\n",
    "        end\n",
    "        if (round(count)%2)==1\n",
    "        \treturn \"p_in\"\n",
    "        else\n",
    "        \treturn \"p_out\"\n",
    "        end\n",
    "    end\n",
    "    return pointInPolygonClassification0\n",
    "end"
   ]
  },
  {
   "cell_type": "code",
   "execution_count": 6,
   "id": "cc2e9700",
   "metadata": {},
   "outputs": [
    {
     "name": "stdout",
     "output_type": "stream",
     "text": [
      "  119.404 ns (1 allocation: 32 bytes)\n"
     ]
    },
    {
     "data": {
      "text/plain": [
       "(::var\"#pointInPolygonClassification0#9\"{Matrix{Float64}, Vector{Vector{Int64}}}) (generic function with 1 method)"
      ]
     },
     "metadata": {},
     "output_type": "display_data"
    }
   ],
   "source": [
    "@btime pointInPolygonClassification(V, EV)   #120,546 μs"
   ]
  },
  {
   "cell_type": "markdown",
   "id": "8a9bd74c",
   "metadata": {},
   "source": [
    "## Versione ottimizzata di pointInPolygonClassification"
   ]
  },
  {
   "cell_type": "code",
   "execution_count": 5,
   "id": "889589cf",
   "metadata": {},
   "outputs": [
    {
     "data": {
      "text/plain": [
       "edgecode1 (generic function with 1 method)"
      ]
     },
     "metadata": {},
     "output_type": "display_data"
    }
   ],
   "source": [
    "function edgecode1(c_int) #c_edge == 1\n",
    "    if c_int == 0 return \"p_on\"\n",
    "    elseif c_int == 4 crossingTest(1,2,status, counter) end \n",
    "end "
   ]
  },
  {
   "cell_type": "code",
   "execution_count": 6,
   "id": "5ae903d9",
   "metadata": {},
   "outputs": [
    {
     "data": {
      "text/plain": [
       "edgecode2 (generic function with 1 method)"
      ]
     },
     "metadata": {},
     "output_type": "display_data"
    }
   ],
   "source": [
    "function edgecode2(c_int) #c_edge == 2\n",
    "    if c_int == 0 return \"p_on\"\n",
    "    elseif c_int == 4 crossingTest(2,1,status, counter) end \n",
    "end "
   ]
  },
  {
   "cell_type": "code",
   "execution_count": 7,
   "id": "4cbeadd8",
   "metadata": {},
   "outputs": [
    {
     "data": {
      "text/plain": [
       "edgecode3 (generic function with 1 method)"
      ]
     },
     "metadata": {},
     "output_type": "display_data"
    }
   ],
   "source": [
    "function edgecode3(c_int) #c_edge == 3\n",
    "    if c_int == 0 return \"p_on\"\n",
    "    elseif c_int == 4 counter += 1 end \n",
    "end "
   ]
  },
  {
   "cell_type": "code",
   "execution_count": 8,
   "id": "f8d767ab",
   "metadata": {},
   "outputs": [
    {
     "data": {
      "text/plain": [
       "edgecode4 (generic function with 1 method)"
      ]
     },
     "metadata": {},
     "output_type": "display_data"
    }
   ],
   "source": [
    "function edgecode4(c_un) #c_edge == 4\n",
    "    if c_un == 3 return \"p_on\" end \n",
    "end "
   ]
  },
  {
   "cell_type": "code",
   "execution_count": 9,
   "id": "296c86a9",
   "metadata": {},
   "outputs": [
    {
     "data": {
      "text/plain": [
       "edgecode5 (generic function with 1 method)"
      ]
     },
     "metadata": {},
     "output_type": "display_data"
    }
   ],
   "source": [
    "function edgecode5(c1,c2) #c_edge == 5\n",
    "    if (c1==0) | (c2==0) return \"p_on\"\n",
    "    else crossingTest(1,2,status, counter) end \n",
    "end "
   ]
  },
  {
   "cell_type": "code",
   "execution_count": 10,
   "id": "5d573953",
   "metadata": {},
   "outputs": [
    {
     "data": {
      "text/plain": [
       "edgecode6 (generic function with 1 method)"
      ]
     },
     "metadata": {},
     "output_type": "display_data"
    }
   ],
   "source": [
    "function edgecode6(c1,c2) #c_edge == 6\n",
    "    if ((c1==0) | (c2==0)) return \"p_on\"\n",
    "    else crossingTest(2,1,status, counter) end \n",
    "end "
   ]
  },
  {
   "cell_type": "code",
   "execution_count": 11,
   "id": "bfd539a5",
   "metadata": {},
   "outputs": [
    {
     "data": {
      "text/plain": [
       "edgecode7 (generic function with 1 method)"
      ]
     },
     "metadata": {},
     "output_type": "display_data"
    }
   ],
   "source": [
    "function edgecode7(counter) #c_edge == 7\n",
    "    counter += 1\n",
    "end"
   ]
  },
  {
   "cell_type": "code",
   "execution_count": 12,
   "id": "d626ed09",
   "metadata": {},
   "outputs": [
    {
     "data": {
      "text/plain": [
       "edgecode8 (generic function with 1 method)"
      ]
     },
     "metadata": {},
     "output_type": "display_data"
    }
   ],
   "source": [
    "function edgecode8(c_un) #c_edge == 8 (c_un == 6 su slide)\n",
    "    if (c_un == 8) return \"p_on\" end   \n",
    "end"
   ]
  },
  {
   "cell_type": "code",
   "execution_count": 13,
   "id": "87328c9c",
   "metadata": {},
   "outputs": [
    {
     "data": {
      "text/plain": [
       "edgecode9_10 (generic function with 1 method)"
      ]
     },
     "metadata": {},
     "output_type": "display_data"
    }
   ],
   "source": [
    "function edgecode9_10(c1,c2) #c_edge == 9/10\n",
    "    if ((c1 ==0) | (c2==0)) return \"p_on\" end\n",
    "end"
   ]
  },
  {
   "cell_type": "code",
   "execution_count": 14,
   "id": "fdf6f923",
   "metadata": {},
   "outputs": [
    {
     "data": {
      "text/plain": [
       "edgecode11 (generic function with 1 method)"
      ]
     },
     "metadata": {},
     "output_type": "display_data"
    }
   ],
   "source": [
    "function edgecode11() #c_edge == 11\n",
    "end"
   ]
  },
  {
   "cell_type": "code",
   "execution_count": 15,
   "id": "c629c390",
   "metadata": {},
   "outputs": [
    {
     "data": {
      "text/plain": [
       "edgecode12 (generic function with 1 method)"
      ]
     },
     "metadata": {},
     "output_type": "display_data"
    }
   ],
   "source": [
    "function edgecode12(c_un) #c_edge = 12\n",
    "    if (c_un == 12 ) return \"p_on\" end    \n",
    "end"
   ]
  },
  {
   "cell_type": "code",
   "execution_count": 16,
   "id": "7a2567f8",
   "metadata": {},
   "outputs": [
    {
     "data": {
      "text/plain": [
       "edgecode13 (generic function with 1 method)"
      ]
     },
     "metadata": {},
     "output_type": "display_data"
    }
   ],
   "source": [
    "function edgecode13(c1,c2) #c_edge = 13\n",
    "    if (( c1 ==4) | (c2 == 4))\n",
    "        crossingTest(1,2,status, counter) end\n",
    "end"
   ]
  },
  {
   "cell_type": "code",
   "execution_count": 17,
   "id": "0b989c50",
   "metadata": {},
   "outputs": [
    {
     "data": {
      "text/plain": [
       "edgecode14 (generic function with 1 method)"
      ]
     },
     "metadata": {},
     "output_type": "display_data"
    }
   ],
   "source": [
    "function edgecode14(c1,c2) #c_edge = 14\n",
    "    if (( c1 ==4) | (c2 == 4))\n",
    "        crossingTest(2,1,status, counter) end\n",
    "end"
   ]
  },
  {
   "cell_type": "code",
   "execution_count": 18,
   "id": "518d49b4",
   "metadata": {},
   "outputs": [
    {
     "data": {
      "text/plain": [
       "edgecode15 (generic function with 1 method)"
      ]
     },
     "metadata": {},
     "output_type": "display_data"
    }
   ],
   "source": [
    "function edgecode15(x1,x2,y1,y2,x,y)\n",
    "    x_int = ((y-y2)*(x1-x2)/(y1-y2))+x2\n",
    "    if x_int > x counter+=1\n",
    "    elseif (x_int == x) return \"p_on\" end\n",
    "end"
   ]
  },
  {
   "cell_type": "markdown",
   "id": "1237d159",
   "metadata": {},
   "source": [
    "## Versione pointInPolygonClassificationMOD con funzioni separate"
   ]
  },
  {
   "cell_type": "code",
   "execution_count": 28,
   "id": "25732532",
   "metadata": {},
   "outputs": [
    {
     "data": {
      "text/plain": [
       "pointInPolygonClassificationMOD (generic function with 1 method)"
      ]
     },
     "metadata": {},
     "output_type": "display_data"
    }
   ],
   "source": [
    "function pointInPolygonClassificationMOD(V,EV) \n",
    "    function pointInPolygonClassification0(pnt)\n",
    "        x,y = pnt\n",
    "        xmin,xmax,ymin,ymax = x,x,y,y\n",
    "        tilecode = setTile([ymax,ymin,xmax,xmin])\n",
    "        count,status = 0,0\n",
    "\n",
    "        for (k,edge) in enumerate(EV)\n",
    "            p1,p2 = V[:,edge[1]],V[:,edge[2]]\n",
    "            (x1,y1),(x2,y2) = p1,p2\n",
    "            c1,c2 = tilecode(p1),tilecode(p2)\n",
    "            c_edge, c_un, c_int = c1⊻c2, c1|c2, c1&c2\n",
    "\n",
    "            if (c_edge == 0) & (c_un == 0) return \"p_on\"\n",
    "            elseif (c_edge == 12) & (c_un == c_edge) return \"p_on\"\n",
    "            elseif c_edge == 3\n",
    "                edgecode3(c_int)\n",
    "            elseif c_edge == 15\n",
    "               edgecode15(x1,x2,y1,y2,x,y)\n",
    "            elseif (c_edge == 13) & ((c1==4) | (c2==4))\n",
    "                    crossingTest(1,2,status,count)\n",
    "            elseif (c_edge == 14) & ((c1==4) | (c2==4))\n",
    "                    crossingTest(2,1,status,count)\n",
    "            elseif c_edge == 7 edgecode7(counter)\n",
    "            elseif c_edge == 11 count = count\n",
    "            elseif c_edge == 1\n",
    "               edgecode1(c_int)\n",
    "            elseif c_edge == 2\n",
    "                edgecode2(c_int)\n",
    "            elseif (c_edge == 4) & (c_un == c_edge) return \"p_on\"\n",
    "            elseif (c_edge == 8) & (c_un == c_edge) return \"p_on\"\n",
    "            elseif c_edge == 5\n",
    "                edgecode5(c1,c2)\n",
    "            elseif c_edge == 6\n",
    "                edgecode6(c1,c2)\n",
    "            elseif (c_edge == 9) & ((c1==0) | (c2==0)) return \"p_on\"\n",
    "            elseif (c_edge == 10) & ((c1==0) | (c2==0)) return \"p_on\"\n",
    "            end\n",
    "        end\n",
    "        if (round(count)%2)==1\n",
    "        \treturn \"p_in\"\n",
    "        else\n",
    "        \treturn \"p_out\"\n",
    "        end\n",
    "    end\n",
    "    return pointInPolygonClassification0\n",
    "end"
   ]
  },
  {
   "cell_type": "code",
   "execution_count": 9,
   "id": "c642e906",
   "metadata": {},
   "outputs": [
    {
     "name": "stdout",
     "output_type": "stream",
     "text": [
      "  120.712 ns (1 allocation: 32 bytes)\n"
     ]
    },
    {
     "data": {
      "text/plain": [
       "(::var\"#pointInPolygonClassification0#10\"{Matrix{Float64}, Vector{Vector{Int64}}}) (generic function with 1 method)"
      ]
     },
     "metadata": {},
     "output_type": "display_data"
    }
   ],
   "source": [
    "@btime pointInPolygonClassificationMOD(V,EV)  #119,540 μs"
   ]
  }
 ],
 "metadata": {
  "kernelspec": {
   "display_name": "Julia 1.7.2",
   "language": "julia",
   "name": "julia-1.7"
  },
  "language_info": {
   "file_extension": ".jl",
   "mimetype": "application/julia",
   "name": "julia",
   "version": "1.7.2"
  }
 },
 "nbformat": 4,
 "nbformat_minor": 5
}
