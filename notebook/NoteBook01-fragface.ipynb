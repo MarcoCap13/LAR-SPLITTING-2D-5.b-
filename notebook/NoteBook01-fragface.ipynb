{
 "cells": [
  {
   "cell_type": "markdown",
   "id": "4f495347",
   "metadata": {},
   "source": [
    "# ANALISI E REVISIONE DEL PROGETTO LARSPLITTING 2D "
   ]
  },
  {
   "cell_type": "markdown",
   "id": "8c56efa2",
   "metadata": {},
   "source": [
    "## CLASSE FRAGFACE"
   ]
  },
  {
   "cell_type": "code",
   "execution_count": 1,
   "id": "aa5d3b3e",
   "metadata": {},
   "outputs": [],
   "source": [
    "using LinearAlgebraicRepresentation\n",
    "Lar = LinearAlgebraicRepresentation\n",
    "using IntervalTrees\n",
    "using BenchmarkTools\n",
    "using OrderedCollections"
   ]
  },
  {
   "cell_type": "markdown",
   "id": "97691ad0",
   "metadata": {},
   "source": [
    "## versione iniziale di face_mapping"
   ]
  },
  {
   "cell_type": "markdown",
   "id": "0e38525a",
   "metadata": {},
   "source": [
    "funzione che calcola la matrice denominata mapping per trasformare la variabile ‘sigma’ e le facce da sp_idx[sigma] a z=0. La funzione restituisce una matrice denominata mapping."
   ]
  },
  {
   "cell_type": "code",
   "execution_count": 2,
   "id": "4af23d44",
   "metadata": {},
   "outputs": [
    {
     "data": {
      "text/plain": [
       "face_mapping (generic function with 2 methods)"
      ]
     },
     "metadata": {},
     "output_type": "display_data"
    }
   ],
   "source": [
    "function face_mapping( V, FV, sigma, err=10e-8 )\n",
    "\tvs = FV[sigma]; i = 1\n",
    "\t# compute affinely independent triple\n",
    "\tn = length(vs)\n",
    "\tsucc(i) = i % n + 1\n",
    "\ta = LinearAlgebra.normalize(V[:,vs[succ(i)]] - V[:,vs[i]]) # Lar.normalize\n",
    "\tb = LinearAlgebra.normalize(V[:,vs[succ(succ(i))]] - V[:,vs[i]]) # Lar.normalize\n",
    "\tc = LinearAlgebra.cross(a,b)\n",
    "\twhile (-err < det([a b c]) < err)\n",
    "\t\ti += 1\n",
    "\t\ta = LinearAlgebra.normalize(V[:,vs[succ(i)]] - V[:,vs[i]])\n",
    "\t\tb = LinearAlgebra.normalize(V[:,vs[succ(succ(i))]] - V[:,vs[i]])\n",
    "\t\tc = LinearAlgebra.cross(a,b)\n",
    "\tend\n",
    "\t# sigma translation\n",
    "\tT = Lar.t(-V[:,vs[succ(i)]]...)\n",
    "\tW = T * [ V[:,vs] ; ones(1,length(vs)) ]\n",
    "\tt_vs = W[1:3,:]\n",
    "\t# translated sigma rotation\n",
    "\tr1,r2,r3 = t_vs[:,i], t_vs[:,succ(succ(i))], cross(t_vs[:,i], t_vs[:,succ(succ(i))])\n",
    "\tR = Matrix{Float64}(I, 4, 4)\n",
    "\tR[1:3,1:3] = inv([r1 r2 r3])\n",
    "\tmapping = R * T\n",
    "\treturn mapping\n",
    "end"
   ]
  },
  {
   "cell_type": "markdown",
   "id": "d998cb00",
   "metadata": {},
   "source": [
    "## versione iniziale di sigmamodel"
   ]
  },
  {
   "cell_type": "markdown",
   "id": "ad220d13",
   "metadata": {},
   "source": [
    "funzione che lavora in parallelo con facemapping con la differenza che restituisce una serie di valori mappati lungo il piano z=0."
   ]
  },
  {
   "cell_type": "code",
   "execution_count": 3,
   "id": "5e4dd630",
   "metadata": {},
   "outputs": [
    {
     "data": {
      "text/plain": [
       "sigmamodel (generic function with 1 method)"
      ]
     },
     "metadata": {},
     "output_type": "display_data"
    }
   ],
   "source": [
    "function sigmamodel(V, copEV, FV, copFE, sigma, sp_idx)\n",
    "\tbigpi = sp_idx[sigma]\n",
    "\tQ = face_mapping(V', FV, sigma)\n",
    "\tEV = [findnz(copEV[e,:])[1] for e=1:size(copEV,1)]\n",
    "\tFE = [findnz(copFE[e,:])[1] for e=1:size(copFE,1)]\n",
    "\tsigma_edges = EV[FE[sigma]]\n",
    "\tsigma_verts = union(sigma_edges...)\n",
    "\tsigma_vdict =  Dict(zip(sigma_verts, 1:length(sigma_verts)))\n",
    "\tsigma_lines = [[sigma_vdict[v] for v in edge] for edge in sigma_edges]\n",
    "\t# sigma face on z=0 plane\n",
    "\tS = V'[:,sigma_verts] # sigma vertices\n",
    "\tZ = (Q * [S; ones(1,size(S,2))])[1:3,:] # sigma mapped in z=0\n",
    "\tv,ev = Z,sigma_lines\n",
    "\t#Plasm.view(Plasm.numbering(0.5)((v,[[[k] for k=1:size(v,2)],ev])))\n",
    "\treturn v,ev,Q\n",
    "end"
   ]
  },
  {
   "cell_type": "markdown",
   "id": "288785f6",
   "metadata": {},
   "source": [
    "## versione iniziale di sigmaintersect"
   ]
  },
  {
   "cell_type": "markdown",
   "id": "966f62e5",
   "metadata": {},
   "source": [
    "funzione che ci permette di intersecare il piano sigma z= 0 con i bordi usando la trasformata denominata ‘bigpi’. Questa funzione restituisce la lunghezza della variabile sigma_lines e l’intersezione delle linee memorizzate nella variabile linestore.\n"
   ]
  },
  {
   "cell_type": "code",
   "execution_count": 4,
   "id": "bef7b3aa",
   "metadata": {},
   "outputs": [
    {
     "data": {
      "text/plain": [
       "sigma_intersect (generic function with 1 method)"
      ]
     },
     "metadata": {},
     "output_type": "display_data"
    }
   ],
   "source": [
    "function sigma_intersect(V, EV, FE, sigma, Q, bigpi)\n",
    "\tsigma_edges = EV[FE[sigma]]\n",
    "\tsigma_verts = union(sigma_edges...)\n",
    "\tsigma_vdict =  Dict(zip(sigma_verts, 1:length(sigma_verts)))\n",
    "\tsigma_lines = [[sigma_vdict[v] for v in edge] for edge in sigma_edges]\n",
    "\t# sigma face on z=0 plane\n",
    "\tS = V[:,sigma_verts] # sigma vertices\n",
    "\tZ = (Q * [S; ones(1,size(S,2))])[1:3,:] # sigma mapped in z=0\n",
    "\t#Plasm.view(Z, sigma_lines)\n",
    "\t# initialization of line storage (to be intersected)\n",
    "\tlinestore = [[Z[:,v1] Z[:,v2]] for (v1,v2) in sigma_lines]\n",
    "\tlinenum = length(sigma_lines)\n",
    "\t# reindexing of ∏(σ) chain\n",
    "\tbigpi_edges = [EV[fe] for fe in FE[bigpi]]\n",
    "\tbigpi_verts = union(union(bigpi_edges...)...)\n",
    "\tbigpi_vdict =  Dict(zip(bigpi_verts, 1:length(bigpi_verts)))\n",
    "\tbigpi_lines = [[sort([bigpi_vdict[v] for v in edge]) for edge in faceedges]\n",
    "\t\tfor faceedges in bigpi_edges]\n",
    "\t# bigpi trasformed in 3D according to Q mapping  ==> BUG ??!! :  NO\n",
    "\tP = V[:,bigpi_verts] # bigpi vertices\n",
    "\tW = (Q * [P; ones(1,size(P,2))])[1:3,:] # bigpi mapped by Q\n",
    "\t#Plasm.view(W, union(bigpi_lines...))\n",
    "\t# filter on bigpi_lines that do not cross z=0\n",
    "\tfiltered_edges = [[[v1,v2] for (v1,v2) in face_lines\n",
    "\t\tif (sign(W[3,v1]) * sign(W[3,v2])) <= 0]\n",
    "\t\t\tfor face_lines in bigpi_lines]\n",
    "\tfiltered_edges = [edge for edge in filtered_edges if edge!=[]]\n",
    "\t#Plasm.view(W, union(filtered_edges...))\n",
    "\t#Plasm.view(Plasm.numbering()((W,[[[k] for k=1:size(W,2)],union(filtered_edges...)])))\n",
    "\t# computation of ordered z=0 points by face\n",
    "\tfacepoints = []\n",
    "\tfor face in filtered_edges\n",
    "\t\tpoints = Array{Float64,1}[]\n",
    "\t\tfor (v1,v2) in face\n",
    "\t\t\t#v1[3] + (v2[3]-v1[3])*t = 0 # compute parameter of intersection point with z=0\n",
    "\t\t\tif (W[3,v2] - W[3,v1]) != 0\n",
    "\t\t\t\tt = -W[3,v1] / (W[3,v2] - W[3,v1])  # z1 + (z2-z1)*t = 0\n",
    "\t\t\t\tpoint = W[:,v1] + (W[:,v2] - W[:,v1]) * t\n",
    "\t\t\t\tpush!(points,point)\n",
    "\t\t\tend\n",
    "\t\tend\n",
    "\t\tif length(Set(points)) > 1\n",
    "\t\t\tpush!(facepoints,Set(points))\n",
    "\t\tend\n",
    "\t\t# TODO: linearly order facepoints[face]\n",
    "\tend\n",
    "\t#Plasm.view(Lar.Struct([ (hcat(collect(edge)...), [[1,2]]) for edge in facepoints ]))\n",
    "\t# compute z_lines\n",
    "\tc = collect\n",
    "\tz0_lines = [[[c(ps)[k] c(ps)[k+1]] for k=1:2:(length(ps)-1)] for ps in facepoints]\n",
    "\n",
    "\t# intersecting lines upload in linestore\n",
    "\tlinestore = [[Z[:,v1] Z[:,v2]] for (v1,v2) in sigma_lines]\n",
    "\tif z0_lines != []\n",
    "\t\tlinestore = append!(linestore, union(z0_lines...))\n",
    "\tend\n",
    "\treturn linestore,linenum\n",
    "end"
   ]
  },
  {
   "cell_type": "markdown",
   "id": "a9792f7f",
   "metadata": {},
   "source": [
    "## versione iniziale di computeparams\n"
   ]
  },
  {
   "cell_type": "markdown",
   "id": "ba3685e8",
   "metadata": {},
   "source": [
    "funzione che prende in ingresso linestore e linenum precedentemente calcolate dalla funzione sigma_intersect e restituisce un array con tutte le coppie intersecate."
   ]
  },
  {
   "cell_type": "code",
   "execution_count": 5,
   "id": "2c878b4e",
   "metadata": {},
   "outputs": [
    {
     "data": {
      "text/plain": [
       "computeparams (generic function with 1 method)"
      ]
     },
     "metadata": {},
     "output_type": "display_data"
    }
   ],
   "source": [
    "function computeparams(linestore,linenum)\n",
    "\tm = length(linestore)\n",
    "\tparams = [[] for i=1:m]\n",
    "\tfor h=1:(m-1)\n",
    "\t\t(x1,y1,x2,y2) = reshape(linestore[h][1:2,:],1,4)\n",
    "\t\tfor k=(h+1):m\n",
    "\t\t\t(x3,y3,x4,y4) = reshape(linestore[k][1:2,:],1,4)\n",
    "\t\t\t# intersect lines h,k\n",
    "\t\t\t# http://www.cs.swan.ac.uk/~cssimon/line_intersection.html\n",
    "\t\t\tdet = (x4-x3)*(y1-y2)-(x1-x2)*(y4-y3)\n",
    "\t\t\tα,β = 99,99\n",
    "\t\t\tif det != 0.0\n",
    "\t\t\t\ta = 1/det\n",
    "\t\t\t\tb = [y1-y2 x2-x1; y3-y4 x4-x3]  # x1-x2 => x2-x1 bug in the source link !!\n",
    "\t\t\t\tc = [x1-x3; y1-y3]\n",
    "\t\t\t\t(β,α) = a * b * c\n",
    "\t\t\telse\n",
    "\t\t\t\tif (y1==y2) == (y3==y4) # segments collinear\n",
    "\t\t\t\t\tα = -x1/(x2-x1)\n",
    "\t\t\t\t\tβ = -x3/(x4-x3)\n",
    "\t\t\t\telseif (x1==x2) == (x3==x4)\n",
    "\t\t\t\t\tα = -y1/(y2-y1)\n",
    "\t\t\t\t\tβ = -y3/(y4-y3)\n",
    "\t\t\t\telse\n",
    "\t\t\t\t\t # segments parallel: no intersection\n",
    "\t\t\t\t\t (β,α) = 999\n",
    "\t\t\t\tend\n",
    "\t\t\tend\n",
    "\t\t\tif 0<α<1 && 0<β<1\n",
    "\t\t\t\tpush!(params[h], α)\n",
    "\t\t\t\tpush!(params[k], β)\n",
    "\t\t\tend\n",
    "\t\tend\n",
    "\tend\n",
    "\tout = Array{Float64,1}[]\n",
    "\tfor line in params\n",
    "\t\tpush!(line, 0.0)\n",
    "\t\tpush!(line, 1.0)\n",
    "\t\tline = sort(collect(Set(line)))\n",
    "\t\tpush!(out, line)\n",
    "\tend\n",
    "\treturn out\n",
    "end"
   ]
  },
  {
   "cell_type": "markdown",
   "id": "d7744976",
   "metadata": {},
   "source": [
    "## versione iniziale di fragface"
   ]
  },
  {
   "cell_type": "markdown",
   "id": "5587d525",
   "metadata": {},
   "source": [
    "funzione che prende in ingresso dei parametri che permettono di modificare le matrici calcolate dalle precedenti funzioni restituendo variabili inerenti alla funzione LAR."
   ]
  },
  {
   "cell_type": "code",
   "execution_count": 6,
   "id": "829e38ab",
   "metadata": {},
   "outputs": [
    {
     "data": {
      "text/plain": [
       "fragface (generic function with 1 method)"
      ]
     },
     "metadata": {},
     "output_type": "display_data"
    }
   ],
   "source": [
    "function fragface(V, cop_EV, cop_FE, sp_idx, sigma)\n",
    "\t# format conversion of function parameters\n",
    "\tEV = [findnz(cop_EV[k,:])[1] for k=1:size(cop_EV,1)]\n",
    "\tFE = [findnz(cop_FE[k,:])[1] for k=1:size(cop_FE,1)]\n",
    "\tFV = [collect(Set(cat(EV[e] for e in FE[f]))) for f=1:length(FE)]\n",
    "\tV = convert(Lar.Points, V')\n",
    "\n",
    "\tQ = face_mapping(V, FV, sigma)\n",
    "\tbigpi = sp_idx[sigma]\n",
    "\tlinestore, linenum = sigma_intersect(V, EV, FE, sigma, Q, bigpi)\n",
    "\tlineparams = computeparams(linestore,linenum)\n",
    "\tpairs = collect(zip(lineparams,linestore))\n",
    "\n",
    "\tlinepoints = Array{Array{Float64,1},1}[]\n",
    "\tnumber = 0\n",
    "\tfor (k,(params,line)) in enumerate(pairs)\n",
    "\t\tv1,v2 = line[1:2,1],line[1:2,2]\n",
    "\t\tif params==[0.0, 1.0]\n",
    "\t\t\tpoints = [v1,v2]\n",
    "\t\t\tif k<=linenum number += 1 end\n",
    "\t\telseif length(params)>2\n",
    "\t\t\tpoints = [v1+α*(v2-v1) for α ∈ params]\n",
    "\t\t\tif k<=linenum number += length(params)-1 end\n",
    "\t\tend\n",
    "\t\tpush!(linepoints,points)\n",
    "\tend\n",
    "\tverts = []\n",
    "\tedges = Array{Array{Int},1}()\n",
    "\toffset = 0\n",
    "\tfor (h,pointline) in enumerate(linepoints)\n",
    "\t\toffset\n",
    "\t\tappend!(verts, pointline)\n",
    "\t\tappend!(edges, [[k+offset,k+1+offset] for k=1:length(pointline)-1])\n",
    "\t\toffset = length(verts)\n",
    "\tend\n",
    "\t#verts = hcat(verts...)\n",
    "\t#verts = convert(Lar.Points,verts')\n",
    "\tcopEV = Lar.coboundary_0(convert(Lar.Cells,edges))\n",
    "\tcopFE = Lar.coboundary_1(verts,faces,edges)\n",
    "\treturn verts, copEV, copFE\n",
    "end"
   ]
  }
 ],
 "metadata": {
  "kernelspec": {
   "display_name": "Julia 1.7.2",
   "language": "julia",
   "name": "julia-1.7"
  },
  "language_info": {
   "file_extension": ".jl",
   "mimetype": "application/julia",
   "name": "julia",
   "version": "1.7.2"
  }
 },
 "nbformat": 4,
 "nbformat_minor": 5
}
